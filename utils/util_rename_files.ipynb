{
 "cells": [
  {
   "cell_type": "code",
   "execution_count": null,
   "id": "63b4b44d-322d-4040-8951-cdc0c5814687",
   "metadata": {},
   "outputs": [],
   "source": [
    "import os\n",
    "import time\n",
    "\n",
    "dir_name = 'data/torch_models/gamma_drift_angle/'\n",
    "list_of_files = filter(lambda x: os.path.isfile(os.path.join(dir_name, x)),\n",
    "                       os.listdir(dir_name))\n",
    "\n",
    "list_of_files = sorted( list_of_files,\n",
    "                        key = lambda x: os.path.getmtime(os.path.join(dir_name, x))\n",
    "                      )"
   ]
  },
  {
   "cell_type": "code",
   "execution_count": null,
   "id": "2048337d-f4fa-47a4-a548-ca6b15503e58",
   "metadata": {},
   "outputs": [],
   "source": [
    "list_of_files"
   ]
  },
  {
   "cell_type": "code",
   "execution_count": null,
   "id": "eb99364b-dbfc-4a67-b8a0-5116711404f3",
   "metadata": {},
   "outputs": [],
   "source": [
    "for file_name in list_of_files:\n",
    "    file_path = os.path.join(dir_name, file_name)\n",
    "    timestamp_str = time.strftime(  '%m/%d/%Y :: %H:%M:%S',\n",
    "                                time.gmtime(os.path.getmtime(file_path))) \n",
    "    print(timestamp_str, ' -->', file_name) "
   ]
  },
  {
   "cell_type": "code",
   "execution_count": null,
   "id": "d8146eab-a2e4-4b7d-9b37-8da28fdf3ef3",
   "metadata": {},
   "outputs": [],
   "source": [
    "for i in list_of_files[:4]:\n",
    "    os.remove(os.path.join(dir_name, i))"
   ]
  }
 ],
 "metadata": {
  "kernelspec": {
   "display_name": "lanfactory",
   "language": "python",
   "name": "lanfactory"
  },
  "language_info": {
   "codemirror_mode": {
    "name": "ipython",
    "version": 3
   },
   "file_extension": ".py",
   "mimetype": "text/x-python",
   "name": "python",
   "nbconvert_exporter": "python",
   "pygments_lexer": "ipython3",
   "version": "3.7.10"
  }
 },
 "nbformat": 4,
 "nbformat_minor": 5
}
