{
 "cells": [
  {
   "cell_type": "code",
   "execution_count": 6,
   "id": "e97f5254-62e4-4fc1-88bf-82ba7f85e30c",
   "metadata": {},
   "outputs": [
    {
     "name": "stdout",
     "output_type": "stream",
     "text": [
      "importing lanfactory\n",
      "importing ssms\n",
      "importing hddm\n"
     ]
    }
   ],
   "source": [
    "import sys\n",
    "import os\n",
    "#sys.path.insert(1, os.path.join(sys.path[0], '..'))\n",
    "import config"
   ]
  },
  {
   "cell_type": "code",
   "execution_count": 1,
   "id": "4193d2cf-646b-45e1-ac04-32da80bf4216",
   "metadata": {},
   "outputs": [],
   "source": [
    "import model_performance_utils"
   ]
  },
  {
   "cell_type": "code",
   "execution_count": 7,
   "id": "c009dac6-4c75-4b98-b080-2ac12f6f0825",
   "metadata": {},
   "outputs": [
    {
     "name": "stdout",
     "output_type": "stream",
     "text": [
      "Help on package config:\n",
      "\n",
      "NAME\n",
      "    config\n",
      "\n",
      "PACKAGE CONTENTS\n",
      "    central_configurator\n",
      "    config_utils\n",
      "    model_performance_utils\n",
      "\n",
      "FILE\n",
      "    /gpfs/data/frankmj/afengler/proj_lan_pipeline/LAN_scripts/config/__init__.py\n",
      "\n",
      "\n"
     ]
    }
   ],
   "source": [
    "help(config)"
   ]
  },
  {
   "cell_type": "code",
   "execution_count": 8,
   "id": "66be789f-2120-4cba-92c3-bf39fc1a109a",
   "metadata": {},
   "outputs": [
    {
     "name": "stdout",
     "output_type": "stream",
     "text": [
      "Help on module config.model_performance_utils in config:\n",
      "\n",
      "NAME\n",
      "    config.model_performance_utils\n",
      "\n",
      "FUNCTIONS\n",
      "    get_model_df(filter_='training_data_angle', path_='/users/afengler/data/proj_lan_pipeline/LAN_scripts/data/torch_models')\n",
      "    \n",
      "    get_model_performance_summary_df(filter_='training_data_angle', path='/users/afengler/data/proj_lan_pipeline/LAN_scripts/data/torch_models', show_top_n=10)\n",
      "\n",
      "FILE\n",
      "    /gpfs/data/frankmj/afengler/proj_lan_pipeline/LAN_scripts/config/model_performance_utils.py\n",
      "\n",
      "\n"
     ]
    }
   ],
   "source": [
    "help(config.model_performance_utils)"
   ]
  },
  {
   "cell_type": "code",
   "execution_count": 9,
   "id": "ca0c284c-4ca0-4361-bbf8-b102cd7b73c9",
   "metadata": {},
   "outputs": [],
   "source": [
    "from config import *"
   ]
  },
  {
   "cell_type": "code",
   "execution_count": 10,
   "id": "ab5c6b35-7193-4c9a-99cf-e5994f8c901a",
   "metadata": {},
   "outputs": [
    {
     "name": "stdout",
     "output_type": "stream",
     "text": [
      "Help on module config.model_performance_utils in config:\n",
      "\n",
      "NAME\n",
      "    config.model_performance_utils\n",
      "\n",
      "FUNCTIONS\n",
      "    get_model_df(filter_='training_data_angle', path_='/users/afengler/data/proj_lan_pipeline/LAN_scripts/data/torch_models')\n",
      "    \n",
      "    get_model_performance_summary_df(filter_='training_data_angle', path='/users/afengler/data/proj_lan_pipeline/LAN_scripts/data/torch_models', show_top_n=10)\n",
      "\n",
      "FILE\n",
      "    /gpfs/data/frankmj/afengler/proj_lan_pipeline/LAN_scripts/config/model_performance_utils.py\n",
      "\n",
      "\n"
     ]
    }
   ],
   "source": [
    "help(model_performance_utils)"
   ]
  },
  {
   "cell_type": "code",
   "execution_count": 11,
   "id": "2b46aa30-423d-47c6-923b-e89d8ea815df",
   "metadata": {},
   "outputs": [],
   "source": [
    "import model_performance_utils"
   ]
  },
  {
   "cell_type": "code",
   "execution_count": null,
   "id": "9eda810b-0ed1-4b1f-b826-2668e2330bee",
   "metadata": {},
   "outputs": [],
   "source": []
  }
 ],
 "metadata": {
  "kernelspec": {
   "display_name": "Python 3",
   "language": "python",
   "name": "python3"
  },
  "language_info": {
   "codemirror_mode": {
    "name": "ipython",
    "version": 3
   },
   "file_extension": ".py",
   "mimetype": "text/x-python",
   "name": "python",
   "nbconvert_exporter": "python",
   "pygments_lexer": "ipython3",
   "version": "3.7.10"
  }
 },
 "nbformat": 4,
 "nbformat_minor": 5
}
