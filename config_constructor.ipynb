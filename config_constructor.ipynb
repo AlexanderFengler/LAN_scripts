{
 "cells": [
  {
   "cell_type": "code",
   "execution_count": 1,
   "id": "be7b9564-be61-46d4-9e86-8cc013f99654",
   "metadata": {},
   "outputs": [
    {
     "name": "stdout",
     "output_type": "stream",
     "text": [
      "importing lanfactory\n",
      "importing ssms\n",
      "importing hddm\n",
      "importing lanfactory\n",
      "importing ssms\n",
      "importing hddm\n"
     ]
    }
   ],
   "source": [
    "# Append system path to include the config scripts\n",
    "import sys\n",
    "import os\n",
    "from copy import deepcopy\n",
    "\n",
    "print('importing lanfactory')\n",
    "import lanfactory\n",
    "\n",
    "print('importing ssms')\n",
    "import ssms\n",
    "\n",
    "print('importing hddm')\n",
    "import hddm\n",
    "\n",
    "sys.path.insert(1, os.path.join(sys.path[0], '..'))\n",
    "from config import *\n",
    "#from model_performance_utils import *\n",
    "\n",
    "import tensorflow\n",
    "import torch\n",
    "import config\n",
    "\n",
    "import pandas as pd"
   ]
  },
  {
   "cell_type": "code",
   "execution_count": null,
   "id": "19c29440-736c-4419-b0c7-c846b5b2b1e3",
   "metadata": {},
   "outputs": [],
   "source": [
    "# Load basic dataframe"
   ]
  },
  {
   "cell_type": "code",
   "execution_count": 6,
   "id": "83fea16d-858d-4cfd-b931-1ca1ba47687d",
   "metadata": {},
   "outputs": [],
   "source": [
    "y = pickle.load(open('/users/afengler/data/proj_lan_pipeline/LAN_scripts/data/parameter_recovery/ddm/subj_10_trials_1000/ddm_parameter_recovery_run_config.pickle', 'rb'))"
   ]
  },
  {
   "cell_type": "code",
   "execution_count": 5,
   "id": "cde1a4ab-585a-43a3-87e6-22094697e407",
   "metadata": {},
   "outputs": [
    {
     "name": "stdout",
     "output_type": "stream",
     "text": [
      "Making config for data generator\n",
      "Found folder:  /users\n",
      "Moving on...\n",
      "Found folder:  /users/afengler\n",
      "Moving on...\n",
      "Found folder:  /users/afengler/data\n",
      "Moving on...\n",
      "Found folder:  /users/afengler/data/proj_lan_pipeline\n",
      "Moving on...\n",
      "Found folder:  /users/afengler/data/proj_lan_pipeline/LAN_scripts\n",
      "Moving on...\n",
      "Found folder:  /users/afengler/data/proj_lan_pipeline/LAN_scripts/config_files\n",
      "Moving on...\n",
      "Saved to: \n",
      "/users/afengler/data/proj_lan_pipeline/LAN_scripts/config_files/ddm_nsim_2000_dt_0.001_nps_100_npts_2000.pickle\n",
      "Making config for networks\n",
      "NEW PRINT\n",
      "0\n",
      "NEW PRINT\n",
      "1\n",
      "NEW PRINT\n",
      "2\n",
      "NEW PRINT\n",
      "3\n",
      "NEW PRINT\n",
      "4\n",
      "NEW PRINT\n",
      "5\n",
      "NEW PRINT\n",
      "6\n",
      "NEW PRINT\n",
      "7\n",
      "NEW PRINT\n",
      "8\n",
      "Now saving\n",
      "/users/afengler/data/proj_lan_pipeline/LAN_scripts/config_files/torch_network_train_config_ddm_nsim_2000_dt_0.001_nps_100_npts_2000_architecture_search.pickle\n"
     ]
    }
   ],
   "source": [
    "my_config_generator.make_config_files(make_config_param_recov = 0,\n",
    "                                      make_config_data_gen = 1,\n",
    "                                      make_config_network = 1)"
   ]
  },
  {
   "cell_type": "markdown",
   "id": "caa9cfcf-8457-457b-8d83-4cd25f857bcc",
   "metadata": {},
   "source": [
    "# DATA GENERATOR CONFIGS\n",
    "#### Note: Look into the ssms package documentation to get a better idea about the kinds of configs that you need for different kinds of training data\n"
   ]
  },
  {
   "cell_type": "code",
   "execution_count": 3,
   "id": "211e022b-28b8-4ad2-8f50-3d3dc28f364b",
   "metadata": {},
   "outputs": [
    {
     "data": {
      "text/plain": [
       "{'output_folder': 'data/lan_mlp/',\n",
       " 'dgp_list': 'ddm',\n",
       " 'nbins': 0,\n",
       " 'n_samples': 100000,\n",
       " 'n_parameter_sets': 10000,\n",
       " 'n_parameter_sets_rejected': 100,\n",
       " 'n_training_samples_by_parameter_set': 1000,\n",
       " 'max_t': 20.0,\n",
       " 'delta_t': 0.001,\n",
       " 'pickleprotocol': 4,\n",
       " 'n_cpus': 'all',\n",
       " 'kde_data_mixture_probabilities': [0.8, 0.1, 0.1],\n",
       " 'simulation_filters': {'mode': 20,\n",
       "  'choice_cnt': 0,\n",
       "  'mean_rt': 17,\n",
       "  'std': 0,\n",
       "  'mode_cnt_rel': 0.9},\n",
       " 'negative_rt_cutoff': -66.77497,\n",
       " 'n_subruns': 10,\n",
       " 'bin_pointwise': False,\n",
       " 'separate_response_channels': False}"
      ]
     },
     "execution_count": 3,
     "metadata": {},
     "output_type": "execute_result"
    }
   ],
   "source": [
    "ssms.config.data_generator_config['lan']['mlp']"
   ]
  },
  {
   "cell_type": "markdown",
   "id": "1ce94559-7e07-4247-8203-5ed60d7331be",
   "metadata": {},
   "source": [
    "### Define Metadata"
   ]
  },
  {
   "cell_type": "code",
   "execution_count": 4,
   "id": "f3e843d7-5682-402e-b393-d7ae9fbe09a1",
   "metadata": {},
   "outputs": [],
   "source": [
    "# Specify model\n",
    "model = 'ddm_mic2_adj_gamma_conflict_no_bias'\n",
    "\n",
    "# Where do you want to save the config file?\n",
    "config_save_folder = '/users/afengler/data/proj_lan_pipeline/LAN_scripts/config_files/'\n",
    "\n",
    "# What kind of likelihood approximator are we generating training data for?\n",
    "generator_approach = 'lan'\n",
    "\n",
    "# Specific network type we train? (Might affect training data representation needed)\n",
    "generator_network_type = 'mlp'\n",
    "\n",
    "# Specify arguments which you want to adjust in the data generator\n",
    "data_generator_arg_dict = {'dgp_list': model,\n",
    "                           'n_samples': 200000,\n",
    "                           'n_parameter_sets': 5000,\n",
    "                           'delta_t': 0.001,\n",
    "                           'n_training_samples_by_parameter_set': 2000,\n",
    "                           'n_subruns': 5}\n",
    "\n",
    "# model_config_arg_dict = {'param_bounds': [[-2.5, 0.2, 0.1, 0.0],\n",
    "#                                           [2.5, 2.2, 0.9, 2.0]]}\n",
    "model_config_arg_dict = {}\n",
    "\n",
    "# Name of the config file\n",
    "data_config_save_name = model + '_nsim_' + str(data_generator_arg_dict['n_samples']) + \\\n",
    "                        '_dt_' + str(data_generator_arg_dict['delta_t']) + \\\n",
    "                        '_nps_' + str(data_generator_arg_dict['n_parameter_sets']) + \\\n",
    "                        '_npts_' + str(data_generator_arg_dict['n_training_samples_by_parameter_set']) + '.pickle'"
   ]
  },
  {
   "cell_type": "markdown",
   "id": "fce27325-2edf-4d5a-ad7b-bbd598e3f980",
   "metadata": {},
   "source": [
    "### Generate the Config File"
   ]
  },
  {
   "cell_type": "code",
   "execution_count": 5,
   "id": "c538e456-3069-4e2f-a017-9c06c5f8e4b8",
   "metadata": {},
   "outputs": [
    {
     "name": "stdout",
     "output_type": "stream",
     "text": [
      "Found folder:  /users\n",
      "Moving on...\n",
      "Found folder:  /users/afengler\n",
      "Moving on...\n",
      "Found folder:  /users/afengler/data\n",
      "Moving on...\n",
      "Found folder:  /users/afengler/data/proj_lan_pipeline\n",
      "Moving on...\n",
      "Found folder:  /users/afengler/data/proj_lan_pipeline/LAN_scripts\n",
      "Moving on...\n",
      "Found folder:  /users/afengler/data/proj_lan_pipeline/LAN_scripts/config_files\n",
      "Moving on...\n",
      "Saved to: \n",
      "/users/afengler/data/proj_lan_pipeline/LAN_scripts/config_files/ddm_mic2_adj_gamma_conflict_no_bias_nsim_200000_dt_0.001_nps_5000_npts_2000.pickle\n"
     ]
    },
    {
     "data": {
      "text/plain": [
       "{'model_config': {'name': 'ddm_mic2_adj_gamma_conflict_no_bias',\n",
       "  'params': ['vh',\n",
       "   'vl1',\n",
       "   'vl2',\n",
       "   'd',\n",
       "   't',\n",
       "   'a',\n",
       "   'theta',\n",
       "   'scale',\n",
       "   'alpha_gamma',\n",
       "   'scale_gamma'],\n",
       "  'param_bounds': [[-4.0, -4.0, -4.0, 0.0, 0.0, 0.3, 0.0, 0.0, 1.1, 0.5],\n",
       "   [4.0, 4.0, 4.0, 1.0, 2.0, 2.5, 0.5, 5.0, 5.0, 5.0]],\n",
       "  'boundary': <function ssms.basic_simulators.boundary_functions.gamma_conflict_bound(t=array([ 0. ,  0.1,  0.2,  0.3,  0.4,  0.5,  0.6,  0.7,  0.8,  0.9,  1. ,\n",
       "        1.1,  1.2,  1.3,  1.4,  1.5,  1.6,  1.7,  1.8,  1.9,  2. ,  2.1,\n",
       "        2.2,  2.3,  2.4,  2.5,  2.6,  2.7,  2.8,  2.9,  3. ,  3.1,  3.2,\n",
       "        3.3,  3.4,  3.5,  3.6,  3.7,  3.8,  3.9,  4. ,  4.1,  4.2,  4.3,\n",
       "        4.4,  4.5,  4.6,  4.7,  4.8,  4.9,  5. ,  5.1,  5.2,  5.3,  5.4,\n",
       "        5.5,  5.6,  5.7,  5.8,  5.9,  6. ,  6.1,  6.2,  6.3,  6.4,  6.5,\n",
       "        6.6,  6.7,  6.8,  6.9,  7. ,  7.1,  7.2,  7.3,  7.4,  7.5,  7.6,\n",
       "        7.7,  7.8,  7.9,  8. ,  8.1,  8.2,  8.3,  8.4,  8.5,  8.6,  8.7,\n",
       "        8.8,  8.9,  9. ,  9.1,  9.2,  9.3,  9.4,  9.5,  9.6,  9.7,  9.8,\n",
       "        9.9, 10. , 10.1, 10.2, 10.3, 10.4, 10.5, 10.6, 10.7, 10.8, 10.9,\n",
       "       11. , 11.1, 11.2, 11.3, 11.4, 11.5, 11.6, 11.7, 11.8, 11.9, 12. ,\n",
       "       12.1, 12.2, 12.3, 12.4, 12.5, 12.6, 12.7, 12.8, 12.9, 13. , 13.1,\n",
       "       13.2, 13.3, 13.4, 13.5, 13.6, 13.7, 13.8, 13.9, 14. , 14.1, 14.2,\n",
       "       14.3, 14.4, 14.5, 14.6, 14.7, 14.8, 14.9, 15. , 15.1, 15.2, 15.3,\n",
       "       15.4, 15.5, 15.6, 15.7, 15.8, 15.9, 16. , 16.1, 16.2, 16.3, 16.4,\n",
       "       16.5, 16.6, 16.7, 16.8, 16.9, 17. , 17.1, 17.2, 17.3, 17.4, 17.5,\n",
       "       17.6, 17.7, 17.8, 17.9, 18. , 18.1, 18.2, 18.3, 18.4, 18.5, 18.6,\n",
       "       18.7, 18.8, 18.9, 19. , 19.1, 19.2, 19.3, 19.4, 19.5, 19.6, 19.7,\n",
       "       19.8, 19.9]), a=0.5, theta=0.5, scale=1, alpha_gamma=1.01, scale_gamma=0.3)>,\n",
       "  'n_params': 10,\n",
       "  'default_params': [0.0, 0.0, 0.0, 0.5, 1.0, 1.0, 1.0, 1.0, 2, 2],\n",
       "  'hddm_include': ['vh',\n",
       "   'vl1',\n",
       "   'vl2',\n",
       "   'a',\n",
       "   'd',\n",
       "   't',\n",
       "   'theta',\n",
       "   'scale',\n",
       "   'alpha_gamma',\n",
       "   'scale_gamma'],\n",
       "  'nchoices': 4},\n",
       " 'data_config': {'output_folder': 'data/lan_mlp/',\n",
       "  'dgp_list': 'ddm_mic2_adj_gamma_conflict_no_bias',\n",
       "  'nbins': 0,\n",
       "  'n_samples': 200000,\n",
       "  'n_parameter_sets': 5000,\n",
       "  'n_parameter_sets_rejected': 100,\n",
       "  'n_training_samples_by_parameter_set': 2000,\n",
       "  'max_t': 20.0,\n",
       "  'delta_t': 0.001,\n",
       "  'pickleprotocol': 4,\n",
       "  'n_cpus': 'all',\n",
       "  'kde_data_mixture_probabilities': [0.8, 0.1, 0.1],\n",
       "  'simulation_filters': {'mode': 20,\n",
       "   'choice_cnt': 0,\n",
       "   'mean_rt': 17,\n",
       "   'std': 0,\n",
       "   'mode_cnt_rel': 0.9},\n",
       "  'negative_rt_cutoff': -66.77497,\n",
       "  'n_subruns': 5,\n",
       "  'bin_pointwise': False,\n",
       "  'separate_response_channels': False}}"
      ]
     },
     "execution_count": 5,
     "metadata": {},
     "output_type": "execute_result"
    }
   ],
   "source": [
    "make_data_generator_configs(model = model,\n",
    "                            generator_approach = 'lan',\n",
    "                            generator_network_type = 'mlp',\n",
    "                            data_generator_arg_dict = data_generator_arg_dict,\n",
    "                            model_config_arg_dict = model_config_arg_dict,\n",
    "                            save_name = data_config_save_name,\n",
    "                            save_folder = config_save_folder)"
   ]
  },
  {
   "cell_type": "markdown",
   "id": "cb3e579d-1f16-4abb-81fa-9d4252d8ec69",
   "metadata": {},
   "source": [
    "# NETWORK AND TRAIN CONFIGS"
   ]
  },
  {
   "cell_type": "markdown",
   "id": "34f88cbc-3ab9-48f2-813f-0fdbd7de580e",
   "metadata": {},
   "source": [
    "### Define Metadata"
   ]
  },
  {
   "cell_type": "code",
   "execution_count": 3,
   "id": "b588ae2b-613f-4a75-96ac-608c6954c307",
   "metadata": {},
   "outputs": [
    {
     "name": "stdout",
     "output_type": "stream",
     "text": [
      "[100]\n",
      "config for gpu --> use large batch size\n"
     ]
    }
   ],
   "source": [
    "# Where do you want to save config files?\n",
    "network_train_config_save_folder = '/users/afengler/data/proj_lan_pipeline/LAN_scripts/config_files/'\n",
    "\n",
    "# Specify training data folder:\n",
    "training_data_folder = '/users/afengler/data/proj_lan_pipeline/LAN_scripts/data/lan_mlp/training_data_0_nbins_0_n_200000'\n",
    "\n",
    "# Provide a unique identifier for the particular files you need from the training_data_folder\n",
    "# Sometimes the model name is not enough, since some model names form part of other model names\n",
    "training_file_identifier = 'mic2_adj_no_bias' #'ddm_par2_angle_no_bias'\n",
    "\n",
    "# Specify the name of the config file\n",
    "network_train_config_save_name = 'network_train_config_' + training_file_identifier + '_nsim_200000_dt_0.001_nps_5000_npts_2000_architecture_search.pickle'\n",
    "\n",
    "# How many epochs to train?\n",
    "n_epochs = 20\n",
    "\n",
    "# Network architectures\n",
    "layer_sizes = [[100, 100, 100, 1], [100, 100, 100, 100, 1], [100, 100, 100, 100, 100, 1],\n",
    "               [120, 120, 120, 1], [120, 120, 120, 120, 1], [120, 120, 120, 120, 120, 1],\n",
    "               [150, 150, 150, 1], [150, 150, 150, 150, 1], [150, 150, 150, 150, 150, 1]]\n",
    "layer_types = [['dense', 'dense', 'dense', 'dense'], ['dense', 'dense', 'dense', 'dense', 'dense'], ['dense', 'dense', 'dense', 'dense', 'dense', 'dense'],\n",
    "               ['dense', 'dense', 'dense', 'dense'], ['dense', 'dense', 'dense', 'dense', 'dense'], ['dense', 'dense', 'dense', 'dense', 'dense', 'dense'],\n",
    "               ['dense', 'dense', 'dense', 'dense'], ['dense', 'dense', 'dense', 'dense', 'dense'], ['dense', 'dense', 'dense', 'dense', 'dense', 'dense'],\n",
    "              ]\n",
    "activations = [['tanh', 'tanh', 'tanh', 'linear'], ['tanh', 'tanh', 'tanh', 'tanh', 'linear'], ['tanh', 'tanh', 'tanh', 'tanh', 'tanh', 'linear'],\n",
    "               ['tanh', 'tanh', 'tanh', 'linear'], ['tanh', 'tanh', 'tanh', 'tanh', 'linear'], ['tanh', 'tanh', 'tanh', 'tanh', 'tanh', 'linear'],\n",
    "               ['tanh', 'tanh', 'tanh', 'linear'], ['tanh', 'tanh', 'tanh', 'tanh', 'linear'], ['tanh', 'tanh', 'tanh', 'tanh', 'tanh', 'linear'],\n",
    "              ]\n",
    "\n",
    "# Train / validations split\n",
    "train_val_split = [0.98, 0.98, 0.98, \n",
    "                   0.98, 0.98, 0.98,\n",
    "                   0.98, 0.98, 0.98]"
   ]
  },
  {
   "cell_type": "markdown",
   "id": "0b7d0407-aa53-40e5-b2db-f7535cd6117a",
   "metadata": {},
   "source": [
    "### Create the Config file"
   ]
  },
  {
   "cell_type": "code",
   "execution_count": 4,
   "id": "2d1bd45b-1d18-4df8-8f59-bfc49ffebe43",
   "metadata": {},
   "outputs": [
    {
     "name": "stdout",
     "output_type": "stream",
     "text": [
      "NEW PRINT\n",
      "0\n",
      "NEW PRINT\n",
      "1\n",
      "NEW PRINT\n",
      "2\n",
      "NEW PRINT\n",
      "3\n",
      "NEW PRINT\n",
      "4\n",
      "NEW PRINT\n",
      "5\n",
      "NEW PRINT\n",
      "6\n",
      "NEW PRINT\n",
      "7\n",
      "NEW PRINT\n",
      "8\n",
      "Now saving\n",
      "/users/afengler/data/proj_lan_pipeline/LAN_scripts/config_files/gpu_torch_network_train_config_mic2_adj_no_bias_nsim_200000_dt_0.001_nps_5000_npts_2000_architecture_search.pickle\n"
     ]
    }
   ],
   "source": [
    "# Loop objects\n",
    "config_dict = {}\n",
    "network_arg_dicts = {}\n",
    "train_arg_dicts = {}    \n",
    "cnt = 0\n",
    "\n",
    "for i in range(len(layer_sizes)):\n",
    "    for j in range(len(n_training_files)):\n",
    "        # Specify the arguments which you want to adjust in the network and train configs\n",
    "        # Check: lanfactory.config.network_config_mlp\n",
    "        #        lanfactor.config.train_config_mlp for details\n",
    "\n",
    "        network_arg_dict = {'layer_types': layer_types[i],\n",
    "                            'layer_sizes': layer_sizes[i],\n",
    "                            'activations': activations[i],\n",
    "                            'loss': ['huber'],\n",
    "                            'model_id': training_file_identifier\n",
    "                            }\n",
    "\n",
    "        train_arg_dict = {'n_epochs': n_epochs,\n",
    "                          'n_training_files': n_training_files[j],\n",
    "                          'train_val_split': train_val_split[i],\n",
    "                          'cpu_batch_size': 10000,\n",
    "                          'gpu_batch_size': 100000,\n",
    "                          'shuffle_files': True,\n",
    "                          'label_prelog_cutoff_low': 1e-7,\n",
    "                          'label_prelog_cutoff_high': None,\n",
    "                          'save_history': True,\n",
    "                          'callbacks': ['checkpoint', 'earlystopping', 'reducelr'],\n",
    "                          }\n",
    "\n",
    "        config_dict[cnt] = make_train_network_configs(training_data_folder=traning_data_folder,\n",
    "                                                      training_file_identifier=training_file_identifier,\n",
    "                                                      save_folder = network_train_config_save_folder,\n",
    "                                                      train_val_split=train_val_split[i],\n",
    "                                                      network_arg_dict = network_arg_dict,\n",
    "                                                      train_arg_dict = train_arg_dict,\n",
    "                                                      save_name = None)\n",
    "        \n",
    "        print('NEW PRINT')\n",
    "        print(cnt)\n",
    "        cnt += 1\n",
    "\n",
    "print('Now saving')\n",
    "pickle.dump(config_dict, open(network_train_config_save_folder + network_train_config_save_name, 'wb'))\n",
    "print(network_train_config_save_folder + network_train_config_save_name)"
   ]
  },
  {
   "cell_type": "code",
   "execution_count": 5,
   "id": "6f7d1af0-a2fa-4da3-878e-35edb3a4f292",
   "metadata": {},
   "outputs": [],
   "source": [
    "x = pickle.load(open(network_train_config_save_folder + network_train_config_save_name, 'rb'))"
   ]
  },
  {
   "cell_type": "markdown",
   "id": "f800ddf2-350f-40d2-919f-1f4f42450521",
   "metadata": {},
   "source": [
    "### MAKE PARAMETER RECOVERY CONFIG"
   ]
  },
  {
   "cell_type": "code",
   "execution_count": 16,
   "id": "1d70ae25-70af-40e6-aaed-d8c53cf63e5f",
   "metadata": {},
   "outputs": [],
   "source": [
    "from hddm.simulators.hddm_dataset_generators import simulator_h_c\n",
    "\n",
    "def make_parameter_recovery_dataset(model = 'angle',\n",
    "                                    save_file = '',\n",
    "                                    save_folder = '',\n",
    "                                    n_subjects = 10,\n",
    "                                    n_trials_per_subject = 1000,\n",
    "                                    n_datasets = 100):\n",
    "    \n",
    "    data_dict = {}\n",
    "    for i in range(n_datasets):\n",
    "        # MAKE DATA\n",
    "        data, parameter_dict = simulator_h_c(data = None,\n",
    "                                             n_subjects = n_subjects,\n",
    "                                             n_trials_per_subject = n_trials_per_subject,\n",
    "                                             model = model,\n",
    "                                             p_outlier = 0.0,\n",
    "                                             conditions = None,\n",
    "                                             depends_on = None,\n",
    "                                             regression_models = None,\n",
    "                                             regression_covariates = None,\n",
    "                                             group_only_regressors = True,\n",
    "                                             group_only = None,\n",
    "                                             fixed_at_default = None)\n",
    "\n",
    "        data_dict[i] = {'data': data,\n",
    "                        'parameter_dict': parameter_dict}\n",
    "        \n",
    "        if not i % 10:\n",
    "            print(str(i), ' of ', str(n_datasets), ' finished')\n",
    "    \n",
    "    # Create save_folder if not already there\n",
    "    lanfactory.utils.try_gen_folder(folder = save_folder, \n",
    "                                    allow_abs_path_folder_generation = True)\n",
    "    \n",
    "    if save_file != '':\n",
    "        print('Saving...')\n",
    "        pickle.dump(data_dict, open(save_folder + save_file, 'wb'))\n",
    "        print('Saved to ', save_folder + save_file)\n",
    "        \n",
    "    return data_dict"
   ]
  },
  {
   "cell_type": "markdown",
   "id": "aa5dc977-e058-4826-abe7-96f33637dbd0",
   "metadata": {},
   "source": [
    "### MAKE PARAMETER RECOVERY DATASET"
   ]
  },
  {
   "cell_type": "code",
   "execution_count": 4,
   "id": "24125d89-a7b5-4840-8ec5-e88799ce3a84",
   "metadata": {},
   "outputs": [],
   "source": [
    "# Speficy configs for parameter recovery dataset\n",
    "model = 'angle'\n",
    "n_data_sets = 100\n",
    "n_subjects = 10\n",
    "n_trials_per_subject = 1000\n",
    "\n",
    "save_folder  = '/users/afengler/data/proj_lan_pipeline/LAN_scripts/data/parameter_recovery/' + model + '/' + \\\n",
    "                'subj_' + str(n_subjects) + '_trials_' + str(n_trials_per_subject)\n",
    "save_file_name = '/' + model + '_parameter_recovery_base_dataset_subj_' + str(n_subjects) + '_ntrials_' + str(n_trials_per_subject) + '.pickle'\n",
    "#save_file_param_recov_base = save_folder + save_file_name"
   ]
  },
  {
   "cell_type": "code",
   "execution_count": 5,
   "id": "3996861f-66ef-4d28-91e7-cb7dd2aa6bfa",
   "metadata": {},
   "outputs": [
    {
     "ename": "NameError",
     "evalue": "name 'make_parameter_recovery_dataset' is not defined",
     "output_type": "error",
     "traceback": [
      "\u001b[0;31m---------------------------------------------------------------------------\u001b[0m",
      "\u001b[0;31mNameError\u001b[0m                                 Traceback (most recent call last)",
      "\u001b[0;32m<ipython-input-5-3fee3196c6eb>\u001b[0m in \u001b[0;36m<module>\u001b[0;34m\u001b[0m\n\u001b[0;32m----> 1\u001b[0;31m data_dict = make_parameter_recovery_dataset(model = model,\n\u001b[0m\u001b[1;32m      2\u001b[0m                                             \u001b[0msave_folder\u001b[0m \u001b[0;34m=\u001b[0m \u001b[0msave_folder\u001b[0m\u001b[0;34m,\u001b[0m\u001b[0;34m\u001b[0m\u001b[0;34m\u001b[0m\u001b[0m\n\u001b[1;32m      3\u001b[0m                                             \u001b[0msave_file\u001b[0m \u001b[0;34m=\u001b[0m \u001b[0msave_file_name\u001b[0m\u001b[0;34m,\u001b[0m\u001b[0;34m\u001b[0m\u001b[0;34m\u001b[0m\u001b[0m\n\u001b[1;32m      4\u001b[0m                                             \u001b[0;31m#save_file = save_file_param_recov_base,\u001b[0m\u001b[0;34m\u001b[0m\u001b[0;34m\u001b[0m\u001b[0;34m\u001b[0m\u001b[0m\n\u001b[1;32m      5\u001b[0m                                             \u001b[0mn_subjects\u001b[0m \u001b[0;34m=\u001b[0m \u001b[0mn_subjects\u001b[0m\u001b[0;34m,\u001b[0m\u001b[0;34m\u001b[0m\u001b[0;34m\u001b[0m\u001b[0m\n",
      "\u001b[0;31mNameError\u001b[0m: name 'make_parameter_recovery_dataset' is not defined"
     ]
    }
   ],
   "source": [
    "data_dict = make_parameter_recovery_dataset(model = model,\n",
    "                                            save_folder = save_folder,\n",
    "                                            save_file = save_file_name,\n",
    "                                            #save_file = save_file_param_recov_base,\n",
    "                                            n_subjects = n_subjects,\n",
    "                                            n_trials_per_subject = n_trials_per_subject)"
   ]
  },
  {
   "cell_type": "markdown",
   "id": "8323bc71-84a7-47c0-89a5-6052aef3ad28",
   "metadata": {},
   "source": [
    "### MAKE PARAMETER RECOVERY CONFIG"
   ]
  },
  {
   "cell_type": "code",
   "execution_count": 6,
   "id": "826ef64d-46a3-4d57-a5c6-979ddb94e0d6",
   "metadata": {},
   "outputs": [
    {
     "ename": "NameError",
     "evalue": "name 'model_performance_utils' is not defined",
     "output_type": "error",
     "traceback": [
      "\u001b[0;31m---------------------------------------------------------------------------\u001b[0m",
      "\u001b[0;31mNameError\u001b[0m                                 Traceback (most recent call last)",
      "\u001b[0;32m<ipython-input-6-985576fbde25>\u001b[0m in \u001b[0;36m<module>\u001b[0;34m\u001b[0m\n\u001b[0;32m----> 1\u001b[0;31m \u001b[0mdir\u001b[0m\u001b[0;34m(\u001b[0m\u001b[0mmodel_performance_utils\u001b[0m\u001b[0;34m)\u001b[0m\u001b[0;34m\u001b[0m\u001b[0;34m\u001b[0m\u001b[0m\n\u001b[0m",
      "\u001b[0;31mNameError\u001b[0m: name 'model_performance_utils' is not defined"
     ]
    }
   ],
   "source": [
    "dir(model_performance_utils)"
   ]
  },
  {
   "cell_type": "code",
   "execution_count": 7,
   "id": "b5e7198c-ffd5-497d-9af0-4a1b8e1f5ddc",
   "metadata": {},
   "outputs": [
    {
     "name": "stdout",
     "output_type": "stream",
     "text": [
      "Overall val loss statistics: \n",
      "\n",
      "val loss mean:  0.0024939945691989\n",
      "val loss min:  0.0022585825063288\n",
      "val loss max:  0.0028880259487777\n",
      "\n",
      "\n",
      "Top five network architectures \n",
      "\n",
      "   val_loss  n_hidden_layers  size_hidden_layers\n",
      "7  0.002259                5                 100\n",
      "1  0.002339                4                 100\n",
      "0  0.002349                4                 120\n",
      "6  0.002393                5                 120\n",
      "8  0.002505                5                 150\n",
      "2  0.002535                4                 150\n",
      "5  0.002565                3                 150\n",
      "3  0.002612                3                 120\n",
      "4  0.002888                3                 100\n",
      "\n",
      "\n",
      "Top five networks, paths \n",
      "\n"
     ]
    }
   ],
   "source": [
    "import model_performance_utils\n",
    "model = 'angle'\n",
    "filter_ = 'training_data_angle'\n",
    "network_data = model_performance_utils.get_model_performance_summary_df(filter_ = filter_)\n",
    "\n",
    "# Get top n models here\n",
    "n_lans_to_pick = 10\n",
    "lan_files = network_data.loc[:, 'model_path'].to_list()[:n_lans_to_pick]\n",
    "lan_config_files = network_data.loc[:, 'network_config_path'].to_list()[:n_lans_to_pick]\n",
    "lan_ids = network_data.loc[:, 'model_id'].to_list()[:n_lans_to_pick]\n",
    "\n",
    "# PARAMETER RECOVERY HYPERPARAMETERS\n",
    "\n",
    "# Dataset specifics (for now basic hierarchical)\n",
    "n_subjects = 10\n",
    "n_trials_per_subject = 1000\n",
    "\n",
    "# MCMC specifics\n",
    "n_burn = 1000\n",
    "n_mcmc = 4000\n",
    "n_chains = 2\n",
    "\n",
    "# Other metadata\n",
    "#n_parameter_sets = 100\n",
    "model_config =  deepcopy(hddm.model_config.model_config[model]) # load from\n",
    "\n",
    "# Get date and model_file\n",
    "# save_folder = '/users/afengler/data/proj_lan_pipeline/LAN_scripts/data/parameter_recovery/' + model + '/' + \\\n",
    "#                 'subj_' + str(n_subjects) + '_trials_' + str(n_trials_per_subject) \n"
   ]
  },
  {
   "cell_type": "code",
   "execution_count": 8,
   "id": "956c413b-4211-4444-8dfa-6b5c2adffe4d",
   "metadata": {},
   "outputs": [
    {
     "name": "stdout",
     "output_type": "stream",
     "text": [
      "Found folder:  /users\n",
      "Moving on...\n",
      "Found folder:  /users/afengler\n",
      "Moving on...\n",
      "Found folder:  /users/afengler/data\n",
      "Moving on...\n",
      "Found folder:  /users/afengler/data/proj_lan_pipeline\n",
      "Moving on...\n",
      "Found folder:  /users/afengler/data/proj_lan_pipeline/LAN_scripts\n",
      "Moving on...\n",
      "Found folder:  /users/afengler/data/proj_lan_pipeline/LAN_scripts/data\n",
      "Moving on...\n",
      "Found folder:  /users/afengler/data/proj_lan_pipeline/LAN_scripts/data/parameter_recovery\n",
      "Moving on...\n",
      "Found folder:  /users/afengler/data/proj_lan_pipeline/LAN_scripts/data/parameter_recovery/angle\n",
      "Moving on...\n",
      "Found folder:  /users/afengler/data/proj_lan_pipeline/LAN_scripts/data/parameter_recovery/angle/subj_10_trials_1000\n",
      "Moving on...\n",
      "Saving to: \n",
      "/users/afengler/data/proj_lan_pipeline/LAN_scripts/data/parameter_recovery/angle/subj_10_trials_1000/angle_parameter_recovery_run_config.pickle\n"
     ]
    },
    {
     "data": {
      "text/plain": [
       "{'parameter_recovery_data_loc': '/users/afengler/data/proj_lan_pipeline/LAN_scripts/data/parameter_recovery/angle/subj_10_trials_1000/angle_parameter_recovery_base_dataset_subj_10_ntrials_1000.pickle',\n",
       " 'model_config': {'doc': 'Model formulation is described in the documentation under LAN Extension.\\nMeant for use with the extension.',\n",
       "  'params': ['v', 'a', 'z', 't', 'theta'],\n",
       "  'params_trans': [0, 0, 1, 0, 0],\n",
       "  'params_std_upper': [1.5, 1.0, None, 1.0, 1.0],\n",
       "  'param_bounds': [[-3.0, 0.3, 0.2, 0.001, -0.1], [3.0, 2.0, 0.8, 2.0, 1.45]],\n",
       "  'param_bounds_cnn': [[-2.5, 0.2, 0.1, 0.0, 0.0],\n",
       "   [2.5, 2.0, 0.9, 2.0, 1.3707963267948966]],\n",
       "  'boundary': <function hddm.simulators.boundary_functions.angle(t=1, theta=1)>,\n",
       "  'params_default': [0.0, 1.0, 0.5, 0.001, 0.0],\n",
       "  'hddm_include': ['z', 'theta'],\n",
       "  'choices': [-1, 1],\n",
       "  'slice_widths': {'v': 1.5,\n",
       "   'v_std': 1,\n",
       "   'a': 1,\n",
       "   'a_std': 1,\n",
       "   'z': 0.1,\n",
       "   'z_trans': 0.2,\n",
       "   't': 0.01,\n",
       "   't_std': 0.15,\n",
       "   'theta': 0.1,\n",
       "   'theta_std': 0.2}},\n",
       " 'model_name': 'angle',\n",
       " 'lan_files': ['/users/afengler/data/proj_lan_pipeline/LAN_scripts/data/torch_models/248c94cca33e11ecb947ac1f6bfea5a4_training_data_angle_torch_state_dict.pt',\n",
       "  '/users/afengler/data/proj_lan_pipeline/LAN_scripts/data/torch_models/24915962a33e11ecbe4ba0423f3e9be0_training_data_angle_torch_state_dict.pt',\n",
       "  '/users/afengler/data/proj_lan_pipeline/LAN_scripts/data/torch_models/485bb72ea34911ec8d583cecef055870_training_data_angle_torch_state_dict.pt',\n",
       "  '/users/afengler/data/proj_lan_pipeline/LAN_scripts/data/torch_models/9adfaa96a34911ecbd183cecef055870_training_data_angle_torch_state_dict.pt',\n",
       "  '/users/afengler/data/proj_lan_pipeline/LAN_scripts/data/torch_models/26424bc2a33e11ec90c83cecef0559ac_training_data_angle_torch_state_dict.pt',\n",
       "  '/users/afengler/data/proj_lan_pipeline/LAN_scripts/data/torch_models/263c0ae6a33e11ec8c933cecef0559ac_training_data_angle_torch_state_dict.pt',\n",
       "  '/users/afengler/data/proj_lan_pipeline/LAN_scripts/data/torch_models/676ab9f8a34911ec9aa43cecef0559ac_training_data_angle_torch_state_dict.pt',\n",
       "  '/users/afengler/data/proj_lan_pipeline/LAN_scripts/data/torch_models/cdf4d4c2a34611ecb44c3cecef05799c_training_data_angle_torch_state_dict.pt',\n",
       "  '/users/afengler/data/proj_lan_pipeline/LAN_scripts/data/torch_models/cfe591d6a34b11ecb0e3a0423f3e9a4a_training_data_angle_torch_state_dict.pt'],\n",
       " 'lan_ids': ['248c94cca33e11ecb947ac1f6bfea5a4',\n",
       "  '24915962a33e11ecbe4ba0423f3e9be0',\n",
       "  '485bb72ea34911ec8d583cecef055870',\n",
       "  '9adfaa96a34911ecbd183cecef055870',\n",
       "  '26424bc2a33e11ec90c83cecef0559ac',\n",
       "  '263c0ae6a33e11ec8c933cecef0559ac',\n",
       "  '676ab9f8a34911ec9aa43cecef0559ac',\n",
       "  'cdf4d4c2a34611ecb44c3cecef05799c',\n",
       "  'cfe591d6a34b11ecb0e3a0423f3e9a4a'],\n",
       " 'lan_config_files': ['/users/afengler/data/proj_lan_pipeline/LAN_scripts/data/torch_models/248c94cca33e11ecb947ac1f6bfea5a4_training_data_angle_torch__network_config.pickle',\n",
       "  '/users/afengler/data/proj_lan_pipeline/LAN_scripts/data/torch_models/24915962a33e11ecbe4ba0423f3e9be0_training_data_angle_torch__network_config.pickle',\n",
       "  '/users/afengler/data/proj_lan_pipeline/LAN_scripts/data/torch_models/485bb72ea34911ec8d583cecef055870_training_data_angle_torch__network_config.pickle',\n",
       "  '/users/afengler/data/proj_lan_pipeline/LAN_scripts/data/torch_models/9adfaa96a34911ecbd183cecef055870_training_data_angle_torch__network_config.pickle',\n",
       "  '/users/afengler/data/proj_lan_pipeline/LAN_scripts/data/torch_models/26424bc2a33e11ec90c83cecef0559ac_training_data_angle_torch__network_config.pickle',\n",
       "  '/users/afengler/data/proj_lan_pipeline/LAN_scripts/data/torch_models/263c0ae6a33e11ec8c933cecef0559ac_training_data_angle_torch__network_config.pickle',\n",
       "  '/users/afengler/data/proj_lan_pipeline/LAN_scripts/data/torch_models/676ab9f8a34911ec9aa43cecef0559ac_training_data_angle_torch__network_config.pickle',\n",
       "  '/users/afengler/data/proj_lan_pipeline/LAN_scripts/data/torch_models/cdf4d4c2a34611ecb44c3cecef05799c_training_data_angle_torch__network_config.pickle',\n",
       "  '/users/afengler/data/proj_lan_pipeline/LAN_scripts/data/torch_models/cfe591d6a34b11ecb0e3a0423f3e9a4a_training_data_angle_torch__network_config.pickle'],\n",
       " 'n_burn': 1000,\n",
       " 'n_mcmc': 4000,\n",
       " 'n_chains': 2,\n",
       " 'save_folder': '/users/afengler/data/proj_lan_pipeline/LAN_scripts/data/parameter_recovery/angle/subj_10_trials_1000',\n",
       " 'save_file': '/users/afengler/data/proj_lan_pipeline/LAN_scripts/data/parameter_recovery/angle/subj_10_trials_1000/angle_parameter_recovery_run_config.pickle'}"
      ]
     },
     "execution_count": 8,
     "metadata": {},
     "output_type": "execute_result"
    }
   ],
   "source": [
    "make_param_recovery_configs(model_name = model,\n",
    "                           parameter_recovery_data_loc = '/users/afengler/data/proj_lan_pipeline/LAN_scripts/data/parameter_recovery/' + model + '/' + \\\n",
    "                                                            'subj_' + str(n_subjects) + '_trials_' + str(n_trials_per_subject) + '/' + model + \\\n",
    "                                                                '_parameter_recovery_base_dataset_subj_' + str(n_subjects) + \\\n",
    "                                                                    '_ntrials_' + str(n_trials_per_subject) + '.pickle',\n",
    "                           lan_files = lan_files,\n",
    "                           lan_ids = lan_ids,\n",
    "                           lan_config_files = lan_config_files,\n",
    "                           save_folder = save_folder,\n",
    "                           model_config = model_config,\n",
    "                           n_burn = n_burn,\n",
    "                           n_mcmc = n_mcmc,\n",
    "                           n_chains = n_chains)"
   ]
  },
  {
   "cell_type": "code",
   "execution_count": 61,
   "id": "472af539-f777-4b3c-82aa-280c63517c7b",
   "metadata": {},
   "outputs": [],
   "source": [
    "y = pickle.load(open( '/users/afengler/data/proj_lan_pipeline/LAN_scripts/data/parameter_recovery/angle/angle_parameter_recovery_config.pickle', 'rb'))"
   ]
  },
  {
   "cell_type": "code",
   "execution_count": 62,
   "id": "9fa4c850-dc72-4728-b58a-e1c9d8690394",
   "metadata": {},
   "outputs": [
    {
     "data": {
      "text/plain": [
       "{'n_subjects': 10,\n",
       " 'trials_per_subject': 1000,\n",
       " 'model_config': {'doc': 'Model formulation is described in the documentation under LAN Extension.\\nMeant for use with the extension.',\n",
       "  'params': ['v', 'a', 'z', 't', 'theta'],\n",
       "  'params_trans': [0, 0, 1, 0, 0],\n",
       "  'params_std_upper': [1.5, 1.0, None, 1.0, 1.0],\n",
       "  'param_bounds': [[-3.0, 0.3, 0.2, 0.001, -0.1], [3.0, 2.0, 0.8, 2.0, 1.45]],\n",
       "  'param_bounds_cnn': [[-2.5, 0.2, 0.1, 0.0, 0.0],\n",
       "   [2.5, 2.0, 0.9, 2.0, 1.3707963267948966]],\n",
       "  'boundary': <function hddm.simulators.boundary_functions.angle(t=1, theta=1)>,\n",
       "  'params_default': [0.0, 1.0, 0.5, 0.001, 0.0],\n",
       "  'hddm_include': ['z', 'theta'],\n",
       "  'choices': [-1, 1],\n",
       "  'slice_widths': {'v': 1.5,\n",
       "   'v_std': 1,\n",
       "   'a': 1,\n",
       "   'a_std': 1,\n",
       "   'z': 0.1,\n",
       "   'z_trans': 0.2,\n",
       "   't': 0.01,\n",
       "   't_std': 0.15,\n",
       "   'theta': 0.1,\n",
       "   'theta_std': 0.2}},\n",
       " 'model_name': 'angle',\n",
       " 'n_parameter_sets': 100,\n",
       " 'lan_files': ['/users/afengler/data/proj_lan_pipeline/LAN_scripts/data/torch_models/248c94cca33e11ecb947ac1f6bfea5a4_training_data_angle_torch_state_dict.pt',\n",
       "  '/users/afengler/data/proj_lan_pipeline/LAN_scripts/data/torch_models/24915962a33e11ecbe4ba0423f3e9be0_training_data_angle_torch_state_dict.pt',\n",
       "  '/users/afengler/data/proj_lan_pipeline/LAN_scripts/data/torch_models/485bb72ea34911ec8d583cecef055870_training_data_angle_torch_state_dict.pt',\n",
       "  '/users/afengler/data/proj_lan_pipeline/LAN_scripts/data/torch_models/9adfaa96a34911ecbd183cecef055870_training_data_angle_torch_state_dict.pt',\n",
       "  '/users/afengler/data/proj_lan_pipeline/LAN_scripts/data/torch_models/26424bc2a33e11ec90c83cecef0559ac_training_data_angle_torch_state_dict.pt'],\n",
       " 'lan_config_files': ['/users/afengler/data/proj_lan_pipeline/LAN_scripts/data/torch_models/248c94cca33e11ecb947ac1f6bfea5a4_training_data_angle_torch__network_config.pickle',\n",
       "  '/users/afengler/data/proj_lan_pipeline/LAN_scripts/data/torch_models/24915962a33e11ecbe4ba0423f3e9be0_training_data_angle_torch__network_config.pickle',\n",
       "  '/users/afengler/data/proj_lan_pipeline/LAN_scripts/data/torch_models/485bb72ea34911ec8d583cecef055870_training_data_angle_torch__network_config.pickle',\n",
       "  '/users/afengler/data/proj_lan_pipeline/LAN_scripts/data/torch_models/9adfaa96a34911ecbd183cecef055870_training_data_angle_torch__network_config.pickle',\n",
       "  '/users/afengler/data/proj_lan_pipeline/LAN_scripts/data/torch_models/26424bc2a33e11ec90c83cecef0559ac_training_data_angle_torch__network_config.pickle'],\n",
       " 'n_burn': 1000,\n",
       " 'n_mcmc': 5000,\n",
       " 'n_chains': 4,\n",
       " 'save_folder': '/users/afengler/data/proj_lan_pipeline/LAN_scripts/data/parameter_recovery/angle',\n",
       " 'save_file': '/users/afengler/data/proj_lan_pipeline/LAN_scripts/data/parameter_recovery/angle/angle_parameter_recovery_config.pickle'}"
      ]
     },
     "execution_count": 62,
     "metadata": {},
     "output_type": "execute_result"
    }
   ],
   "source": [
    "y"
   ]
  }
 ],
 "metadata": {
  "kernelspec": {
   "display_name": "lanfactory",
   "language": "python",
   "name": "lanfactory"
  },
  "language_info": {
   "codemirror_mode": {
    "name": "ipython",
    "version": 3
   },
   "file_extension": ".py",
   "mimetype": "text/x-python",
   "name": "python",
   "nbconvert_exporter": "python",
   "pygments_lexer": "ipython3",
   "version": "3.7.10"
  }
 },
 "nbformat": 4,
 "nbformat_minor": 5
}
