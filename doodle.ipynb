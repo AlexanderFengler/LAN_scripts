{
 "cells": [
  {
   "cell_type": "code",
   "execution_count": 1,
   "id": "0da355db-a09c-4ca3-a028-b16e5b7a05eb",
   "metadata": {},
   "outputs": [],
   "source": [
    "import ssms\n",
    "import lanfactory\n",
    "import pickle\n",
    "import os"
   ]
  },
  {
   "cell_type": "code",
   "execution_count": 5,
   "id": "6729698a-ca54-4dbc-8137-eb2edb1e45e0",
   "metadata": {},
   "outputs": [],
   "source": [
    "base_folder = 'data/lan_mlp/training_data_0_nbins_0_n_200000/'\n",
    "files_ = os.listdir(base_folder)\n",
    "full_files_ = [base_folder + file_ for file_ in files_]"
   ]
  },
  {
   "cell_type": "code",
   "execution_count": 11,
   "id": "06857786-5d99-476d-afcf-ac1625e0a46f",
   "metadata": {},
   "outputs": [],
   "source": [
    "n_training_samples_by_parameter_set = []\n",
    "n_parameter_sets_l = []\n",
    "n_samples_l = []\n",
    "idx_l = []\n",
    "\n",
    "idx = 0\n",
    "for full_file_ in full_files_:\n",
    "    x = pickle.load(open(full_file_, 'rb'))\n",
    "    n_training_samples_by_parameter_set.append(x['generator_config']['n_training_samples_by_parameter_set'])\n",
    "    n_parameter_sets_l.append(x['generator_config']['n_parameter_sets'])\n",
    "    n_samples_l.append(x['generator_config']['n_samples'])\n",
    "    idx_l.append(idx)\n",
    "    idx += 1"
   ]
  },
  {
   "cell_type": "code",
   "execution_count": 13,
   "id": "6ad9cb2f-2b94-435e-a59a-032ad8661d59",
   "metadata": {},
   "outputs": [
    {
     "data": {
      "text/plain": [
       "[200000,\n",
       " 200000,\n",
       " 200000,\n",
       " 200000,\n",
       " 200000,\n",
       " 200000,\n",
       " 200000,\n",
       " 200000,\n",
       " 200000,\n",
       " 200000,\n",
       " 200000,\n",
       " 200000,\n",
       " 200000,\n",
       " 200000,\n",
       " 200000,\n",
       " 200000,\n",
       " 200000,\n",
       " 200000,\n",
       " 200000,\n",
       " 200000,\n",
       " 200000,\n",
       " 200000,\n",
       " 200000,\n",
       " 200000,\n",
       " 200000,\n",
       " 200000,\n",
       " 200000,\n",
       " 200000,\n",
       " 200000,\n",
       " 200000,\n",
       " 200000,\n",
       " 200000,\n",
       " 200000,\n",
       " 200000,\n",
       " 200000,\n",
       " 200000,\n",
       " 200000,\n",
       " 200000,\n",
       " 200000,\n",
       " 200000,\n",
       " 200000,\n",
       " 200000,\n",
       " 200000,\n",
       " 200000,\n",
       " 200000,\n",
       " 200000,\n",
       " 200000,\n",
       " 200000,\n",
       " 200000,\n",
       " 200000,\n",
       " 200000,\n",
       " 200000,\n",
       " 200000,\n",
       " 200000,\n",
       " 200000,\n",
       " 200000,\n",
       " 200000,\n",
       " 200000,\n",
       " 200000,\n",
       " 200000,\n",
       " 200000,\n",
       " 200000,\n",
       " 200000,\n",
       " 200000,\n",
       " 200000,\n",
       " 200000,\n",
       " 200000,\n",
       " 200000,\n",
       " 200000,\n",
       " 200000,\n",
       " 200000,\n",
       " 200000,\n",
       " 200000,\n",
       " 200000,\n",
       " 200000,\n",
       " 200000,\n",
       " 200000,\n",
       " 200000,\n",
       " 200000,\n",
       " 200000,\n",
       " 200000,\n",
       " 200000,\n",
       " 200000,\n",
       " 200000]"
      ]
     },
     "execution_count": 13,
     "metadata": {},
     "output_type": "execute_result"
    }
   ],
   "source": [
    "n_samples_l"
   ]
  },
  {
   "cell_type": "code",
   "execution_count": null,
   "id": "0e3c8ccc-1bcb-4132-b34a-e1994d6df05b",
   "metadata": {},
   "outputs": [],
   "source": []
  }
 ],
 "metadata": {
  "kernelspec": {
   "display_name": "lanfactory",
   "language": "python",
   "name": "lanfactory"
  },
  "language_info": {
   "codemirror_mode": {
    "name": "ipython",
    "version": 3
   },
   "file_extension": ".py",
   "mimetype": "text/x-python",
   "name": "python",
   "nbconvert_exporter": "python",
   "pygments_lexer": "ipython3",
   "version": "3.7.10"
  }
 },
 "nbformat": 4,
 "nbformat_minor": 5
}
