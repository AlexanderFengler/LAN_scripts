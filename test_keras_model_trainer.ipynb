{
 "cells": [
  {
   "cell_type": "code",
   "execution_count": 2,
   "id": "cab31c05-d822-4402-8bab-fcaa83180051",
   "metadata": {},
   "outputs": [],
   "source": [
    "import lanfactory\n",
    "import os\n",
    "import pickle\n",
    "import tensorflow as tf"
   ]
  },
  {
   "cell_type": "code",
   "execution_count": 2,
   "id": "d0f0030a-1f5d-4d56-9d4f-d0f23c201dd5",
   "metadata": {},
   "outputs": [
    {
     "ename": "ModuleNotFoundError",
     "evalue": "No module named 'config'",
     "output_type": "error",
     "traceback": [
      "\u001b[0;31m---------------------------------------------------------------------------\u001b[0m",
      "\u001b[0;31mModuleNotFoundError\u001b[0m                       Traceback (most recent call last)",
      "\u001b[0;32m<ipython-input-2-72cd1b3ee9f9>\u001b[0m in \u001b[0;36m<module>\u001b[0;34m\u001b[0m\n\u001b[0;32m----> 1\u001b[0;31m \u001b[0;32mfrom\u001b[0m \u001b[0mconfig\u001b[0m \u001b[0;32mimport\u001b[0m \u001b[0mconfig_dict\u001b[0m\u001b[0;34m\u001b[0m\u001b[0;34m\u001b[0m\u001b[0m\n\u001b[0m",
      "\u001b[0;31mModuleNotFoundError\u001b[0m: No module named 'config'"
     ]
    }
   ],
   "source": [
    "#from config import config_dict"
   ]
  },
  {
   "cell_type": "code",
   "execution_count": 3,
   "id": "5a9bd387-de1b-47fc-ad9c-cca3530a44c0",
   "metadata": {},
   "outputs": [
    {
     "ename": "AttributeError",
     "evalue": "module 'lanfactory' has no attribute 'util'",
     "output_type": "error",
     "traceback": [
      "\u001b[0;31m---------------------------------------------------------------------------\u001b[0m",
      "\u001b[0;31mAttributeError\u001b[0m                            Traceback (most recent call last)",
      "\u001b[0;32m<ipython-input-3-cc001285d833>\u001b[0m in \u001b[0;36m<module>\u001b[0;34m\u001b[0m\n\u001b[0;32m----> 1\u001b[0;31m \u001b[0mlanfactory\u001b[0m\u001b[0;34m.\u001b[0m\u001b[0mutil\u001b[0m\u001b[0;34m\u001b[0m\u001b[0;34m\u001b[0m\u001b[0m\n\u001b[0m",
      "\u001b[0;31mAttributeError\u001b[0m: module 'lanfactory' has no attribute 'util'"
     ]
    }
   ],
   "source": [
    "lanfactory.util"
   ]
  },
  {
   "cell_type": "code",
   "execution_count": 4,
   "id": "402850e4-7407-4207-b7e6-4c31926b9c51",
   "metadata": {},
   "outputs": [],
   "source": [
    "train_config = lanfactory.config.train_config_mlp\n",
    "network_config = lanfactory.config.network_config_mlp"
   ]
  },
  {
   "cell_type": "code",
   "execution_count": 5,
   "id": "d17c88f0-4430-4fbb-a299-bf018f629505",
   "metadata": {},
   "outputs": [],
   "source": [
    "pickle.dump(train_config, open('test_dump.py', 'wb'))"
   ]
  },
  {
   "cell_type": "code",
   "execution_count": 6,
   "id": "1f684716-76b7-4316-9b12-da61e75af862",
   "metadata": {},
   "outputs": [
    {
     "data": {
      "text/plain": [
       "{'batch_size': 128,\n",
       " 'n_epochs': 100,\n",
       " 'optimizer': 'adam',\n",
       " 'learning_rate': 0.002,\n",
       " 'loss': 'huber',\n",
       " 'metrics': [<tensorflow.python.keras.losses.MeanSquaredError at 0x7f84e6b19c10>,\n",
       "  <tensorflow.python.keras.losses.Huber at 0x7f84e6b19e50>],\n",
       " 'callbacks': ['checkpoint', 'earlystopping', 'reducelr']}"
      ]
     },
     "execution_count": 6,
     "metadata": {},
     "output_type": "execute_result"
    }
   ],
   "source": [
    "pickle.load(open('test_dump.py', 'rb'))"
   ]
  },
  {
   "cell_type": "code",
   "execution_count": 2,
   "id": "e591b4bc-32b6-45f1-a4f3-8797c6c599bf",
   "metadata": {},
   "outputs": [
    {
     "name": "stdout",
     "output_type": "stream",
     "text": [
      "Help on package lanfactory:\n",
      "\n",
      "NAME\n",
      "    lanfactory\n",
      "\n",
      "PACKAGE CONTENTS\n",
      "    config (package)\n",
      "    trainers (package)\n",
      "    utils (package)\n",
      "\n",
      "VERSION\n",
      "    0.0.1\n",
      "\n",
      "FILE\n",
      "    /users/afengler/data/software/miniconda3/envs/lanfactory/lib/python3.7/site-packages/lanfactory/__init__.py\n",
      "\n",
      "\n"
     ]
    }
   ],
   "source": [
    "help(lanfactory)"
   ]
  },
  {
   "cell_type": "code",
   "execution_count": 3,
   "id": "e41bc749-defe-4f84-8960-14c727508f15",
   "metadata": {},
   "outputs": [
    {
     "name": "stdout",
     "output_type": "stream",
     "text": [
      "Help on package lanfactory.config in lanfactory:\n",
      "\n",
      "NAME\n",
      "    lanfactory.config\n",
      "\n",
      "PACKAGE CONTENTS\n",
      "    network_configs\n",
      "\n",
      "DATA\n",
      "    network_config_mlp = {'activations': ['tanh', 'tanh', 'linear'], 'call...\n",
      "    train_config_mlp = {'batch_size': 128, 'callbacks': ['checkpoint', 'ea...\n",
      "\n",
      "FILE\n",
      "    /users/afengler/data/software/miniconda3/envs/lanfactory/lib/python3.7/site-packages/lanfactory/config/__init__.py\n",
      "\n",
      "\n"
     ]
    }
   ],
   "source": [
    "help(lanfactory.config)"
   ]
  },
  {
   "cell_type": "code",
   "execution_count": 4,
   "id": "582de869-8c96-4ed9-a136-4aec6d43686c",
   "metadata": {},
   "outputs": [
    {
     "data": {
      "text/plain": [
       "{'layer_types': ['dense', 'dense', 'dense'],\n",
       " 'layer_sizes': [100, 100, 1],\n",
       " 'activations': ['tanh', 'tanh', 'linear'],\n",
       " 'loss': ['huber'],\n",
       " 'callbacks': ['checkpoint', 'earlystopping', 'reducelr']}"
      ]
     },
     "execution_count": 4,
     "metadata": {},
     "output_type": "execute_result"
    }
   ],
   "source": [
    "lanfactory.config.network_config_mlp"
   ]
  },
  {
   "cell_type": "code",
   "execution_count": 5,
   "id": "4c5b111c-df77-4f41-ad4e-f17befd7cbce",
   "metadata": {},
   "outputs": [
    {
     "data": {
      "text/plain": [
       "{'batch_size': 128,\n",
       " 'n_epochs': 100,\n",
       " 'optimizer': 'adam',\n",
       " 'learning_rate': 0.002,\n",
       " 'loss': 'huber',\n",
       " 'metrics': [<tensorflow.python.keras.metrics.MeanSquaredError at 0x7f63ad593290>,\n",
       "  <tensorflow.python.keras.losses.Huber at 0x7f5f87f42e50>],\n",
       " 'callbacks': ['checkpoint', 'earlystopping', 'reducelr']}"
      ]
     },
     "execution_count": 5,
     "metadata": {},
     "output_type": "execute_result"
    }
   ],
   "source": [
    "lanfactory.config.train_config_mlp"
   ]
  },
  {
   "cell_type": "code",
   "execution_count": 6,
   "id": "0abab8ec-1952-496a-909f-6929886467f2",
   "metadata": {},
   "outputs": [],
   "source": [
    "my_list = os.listdir('/users/afengler/data/proj_lan_pipeline/LAN_scripts/data/lan_mlp/training_data_0_nbins_0_n_10000/')\n",
    "valid_list = ['/users/afengler/data/proj_lan_pipeline/LAN_scripts/data/lan_mlp/training_data_0_nbins_0_n_10000/' + file_ for file_ in my_list if 'ddm' in file_]"
   ]
  },
  {
   "cell_type": "code",
   "execution_count": 7,
   "id": "85488feb-2f58-4c1b-81d1-88f7b157d228",
   "metadata": {},
   "outputs": [],
   "source": [
    "my_network_config = lanfactory.config.network_config_mlp\n",
    "my_network_config['layer_types'] = ['dense', 'dense', 'dense']\n",
    "my_network_config['layer_sizes'] = [100, 100, 1]\n",
    "my_network_config['activations'] = ['tanh', 'tanh', 'linear']\n",
    "my_network_config['loss'] = ['huber']\n",
    "my_network_config['callbacks'] = ['checkpoint', 'earlystopping', 'reducelr']"
   ]
  },
  {
   "cell_type": "code",
   "execution_count": 8,
   "id": "e836370d-a727-4d2e-8f48-9e2b16bb19d7",
   "metadata": {},
   "outputs": [],
   "source": [
    "my_train_config = lanfactory.config.train_config_mlp\n",
    "my_train_config['batch_size'] = 50000\n",
    "my_train_config['n_epochs'] = 10\n",
    "my_train_config['training_files'] = valid_list\n",
    "my_train_config['validation_files'] = valid_list[:5]"
   ]
  },
  {
   "cell_type": "code",
   "execution_count": 9,
   "id": "47321388-4efd-4ad8-baae-5b9a663872ab",
   "metadata": {},
   "outputs": [],
   "source": [
    "#batch_size =my_train_config['batch_size']\n",
    "my_generator_train = lanfactory.trainers.DataGenerator(file_IDs = valid_list,\n",
    "                                                       batch_size = my_train_config['batch_size'],\n",
    "                                                       shuffle = True,\n",
    "                                                       label_prelog_cutoff_low = 1e-7)\n",
    "my_generator_val = lanfactory.trainers.DataGenerator(file_IDs = valid_list[:5],\n",
    "                                                     batch_size = my_train_config['batch_size'],\n",
    "                                                     shuffle = True,\n",
    "                                                     label_prelog_cutoff_low = 1e-7)"
   ]
  },
  {
   "cell_type": "code",
   "execution_count": 10,
   "id": "d2529842-8509-4890-babc-d10434d152ad",
   "metadata": {},
   "outputs": [],
   "source": [
    "from copy import deepcopy\n",
    "my_keras_model = lanfactory.trainers.KerasModel(network_config = deepcopy(my_network_config),\n",
    "                                                input_shape = my_generator_train.input_dim,\n",
    "                                                save_folder = '/users/afengler/data/proj_lan_pipeline/LAN_scripts/data/lan_mlp/models/')"
   ]
  },
  {
   "cell_type": "code",
   "execution_count": 15,
   "id": "cfb65591-ad0c-429d-9596-1a4f5f1733fd",
   "metadata": {},
   "outputs": [
    {
     "name": "stdout",
     "output_type": "stream",
     "text": [
      "Found folder:  /users\n",
      "Moving on...\n",
      "Found folder:  /users/afengler\n",
      "Moving on...\n",
      "Found folder:  /users/afengler/data\n",
      "Moving on...\n",
      "Found folder:  /users/afengler/data/proj_lan_pipeline\n",
      "Moving on...\n",
      "Found folder:  /users/afengler/data/proj_lan_pipeline/LAN_scripts\n",
      "Moving on...\n",
      "Found folder:  /users/afengler/data/proj_lan_pipeline/LAN_scripts/data\n",
      "Moving on...\n",
      "Found folder:  /users/afengler/data/proj_lan_pipeline/LAN_scripts/data/lan_mlp\n",
      "Moving on...\n",
      "Found folder:  /users/afengler/data/proj_lan_pipeline/LAN_scripts/data/lan_mlp/models\n",
      "Moving on...\n",
      "Saved network config\n",
      "Saved train config\n"
     ]
    }
   ],
   "source": [
    "lanfactory.utils.save_configs(model_id = my_keras_model.model_id,\n",
    "                              save_folder = '/users/afengler/data/proj_lan_pipeline/LAN_scripts/data/lan_mlp/models',\n",
    "                              network_config = my_train_config, #my_network_config,\n",
    "                              train_config = None, #my_train_config,\n",
    "                              allow_abs_path_folder_generation = True)"
   ]
  },
  {
   "cell_type": "code",
   "execution_count": 12,
   "id": "c1b540b2-b1db-437a-87e7-9b32791bbcd1",
   "metadata": {},
   "outputs": [
    {
     "name": "stdout",
     "output_type": "stream",
     "text": [
      "Found folder:  /users\n",
      "Moving on...\n",
      "Found folder:  /users/afengler\n",
      "Moving on...\n",
      "Found folder:  /users/afengler/data\n",
      "Moving on...\n",
      "Found folder:  /users/afengler/data/proj_lan_pipeline\n",
      "Moving on...\n",
      "Found folder:  /users/afengler/data/proj_lan_pipeline/LAN_scripts\n",
      "Moving on...\n",
      "Found folder:  /users/afengler/data/proj_lan_pipeline/LAN_scripts/data\n",
      "Moving on...\n",
      "Found folder:  /users/afengler/data/proj_lan_pipeline/LAN_scripts/data/lan_mlp\n",
      "Moving on...\n",
      "Found folder:  /users/afengler/data/proj_lan_pipeline/LAN_scripts/data/lan_mlp/models\n",
      "Moving on...\n"
     ]
    }
   ],
   "source": [
    "my_model_trainer = lanfactory.trainers.ModelTrainerKerasSeq(train_config = deepcopy(my_train_config),\n",
    "                        data_generator_train = my_generator_train,\n",
    "                        data_generator_val = my_generator_val,\n",
    "                        model = my_keras_model,\n",
    "                        output_folder = '/users/afengler/data/proj_lan_pipeline/LAN_scripts/data/lan_mlp/models/',\n",
    "                        warm_start = False,\n",
    "                        allow_abs_path_folder_generation = True)"
   ]
  },
  {
   "cell_type": "code",
   "execution_count": 14,
   "id": "864e9ee0-e342-427f-911a-fd268cf684f6",
   "metadata": {},
   "outputs": [
    {
     "name": "stdout",
     "output_type": "stream",
     "text": [
      "Epoch 1/10\n",
      "500/500 [==============================] - 6s 10ms/step - loss: 0.8160 - MSE: 7.6671 - Huber: 0.8160 - val_loss: 0.2143 - val_MSE: 6.5396 - val_Huber: 0.2143\n",
      "\n",
      "Epoch 00001: saving model to /users/afengler/data/proj_lan_pipeline/LAN_scripts/data/lan_mlp/models/11b7027ef4a211eba053a0423f3e9a4a_ddm_ckpt.h5\n",
      "Epoch 2/10\n",
      "500/500 [==============================] - 5s 10ms/step - loss: 0.1614 - MSE: 3.8472 - Huber: 0.1614 - val_loss: 0.1234 - val_MSE: 3.5633 - val_Huber: 0.1234\n",
      "\n",
      "Epoch 00002: saving model to /users/afengler/data/proj_lan_pipeline/LAN_scripts/data/lan_mlp/models/11b7027ef4a211eba053a0423f3e9a4a_ddm_ckpt.h5\n",
      "Epoch 3/10\n",
      "500/500 [==============================] - 5s 10ms/step - loss: 0.0952 - MSE: 2.6154 - Huber: 0.0952 - val_loss: 0.0743 - val_MSE: 2.4849 - val_Huber: 0.0743\n",
      "\n",
      "Epoch 00003: saving model to /users/afengler/data/proj_lan_pipeline/LAN_scripts/data/lan_mlp/models/11b7027ef4a211eba053a0423f3e9a4a_ddm_ckpt.h5\n",
      "Epoch 4/10\n",
      "500/500 [==============================] - 5s 10ms/step - loss: 0.0639 - MSE: 1.9937 - Huber: 0.0639 - val_loss: 0.0542 - val_MSE: 1.9187 - val_Huber: 0.0542\n",
      "\n",
      "Epoch 00004: saving model to /users/afengler/data/proj_lan_pipeline/LAN_scripts/data/lan_mlp/models/11b7027ef4a211eba053a0423f3e9a4a_ddm_ckpt.h5\n",
      "Epoch 5/10\n",
      "500/500 [==============================] - 5s 10ms/step - loss: 0.0496 - MSE: 1.6179 - Huber: 0.0496 - val_loss: 0.0506 - val_MSE: 1.5695 - val_Huber: 0.0506\n",
      "\n",
      "Epoch 00005: saving model to /users/afengler/data/proj_lan_pipeline/LAN_scripts/data/lan_mlp/models/11b7027ef4a211eba053a0423f3e9a4a_ddm_ckpt.h5\n",
      "Epoch 6/10\n",
      "500/500 [==============================] - 5s 10ms/step - loss: 0.0412 - MSE: 1.3659 - Huber: 0.0412 - val_loss: 0.0377 - val_MSE: 1.3316 - val_Huber: 0.0377\n",
      "\n",
      "Epoch 00006: saving model to /users/afengler/data/proj_lan_pipeline/LAN_scripts/data/lan_mlp/models/11b7027ef4a211eba053a0423f3e9a4a_ddm_ckpt.h5\n",
      "Epoch 7/10\n",
      "500/500 [==============================] - 5s 10ms/step - loss: 0.0362 - MSE: 1.1844 - Huber: 0.0362 - val_loss: 0.0333 - val_MSE: 1.1590 - val_Huber: 0.0333\n",
      "\n",
      "Epoch 00007: saving model to /users/afengler/data/proj_lan_pipeline/LAN_scripts/data/lan_mlp/models/11b7027ef4a211eba053a0423f3e9a4a_ddm_ckpt.h5\n",
      "Epoch 8/10\n",
      "500/500 [==============================] - 5s 10ms/step - loss: 0.0323 - MSE: 1.0476 - Huber: 0.0323 - val_loss: 0.0304 - val_MSE: 1.0280 - val_Huber: 0.0304\n",
      "\n",
      "Epoch 00008: saving model to /users/afengler/data/proj_lan_pipeline/LAN_scripts/data/lan_mlp/models/11b7027ef4a211eba053a0423f3e9a4a_ddm_ckpt.h5\n",
      "Epoch 9/10\n",
      "500/500 [==============================] - 5s 10ms/step - loss: 0.0300 - MSE: 0.9409 - Huber: 0.0300 - val_loss: 0.0289 - val_MSE: 0.9253 - val_Huber: 0.0289\n",
      "\n",
      "Epoch 00009: saving model to /users/afengler/data/proj_lan_pipeline/LAN_scripts/data/lan_mlp/models/11b7027ef4a211eba053a0423f3e9a4a_ddm_ckpt.h5\n",
      "Epoch 10/10\n",
      "500/500 [==============================] - 5s 10ms/step - loss: 0.0278 - MSE: 0.8551 - Huber: 0.0278 - val_loss: 0.0270 - val_MSE: 0.8424 - val_Huber: 0.0270\n",
      "\n",
      "Epoch 00010: saving model to /users/afengler/data/proj_lan_pipeline/LAN_scripts/data/lan_mlp/models/11b7027ef4a211eba053a0423f3e9a4a_ddm_ckpt.h5\n"
     ]
    }
   ],
   "source": [
    "my_model_trainer.train_model(save_history = True)"
   ]
  },
  {
   "cell_type": "code",
   "execution_count": 15,
   "id": "7415104d-eee0-45c2-ab24-806df3303f62",
   "metadata": {},
   "outputs": [],
   "source": [
    "import pickle\n",
    "data_example = pickle.load(open('/users/afengler/data/proj_lan_pipeline/LAN_scripts/data/lan_mlp/training_data_0_nbins_0_n_10000/' + '/' + \\\n",
    "                 valid_list[0], 'rb'))"
   ]
  }
 ],
 "metadata": {
  "kernelspec": {
   "display_name": "lanfactory",
   "language": "python",
   "name": "lanfactory"
  },
  "language_info": {
   "codemirror_mode": {
    "name": "ipython",
    "version": 3
   },
   "file_extension": ".py",
   "mimetype": "text/x-python",
   "name": "python",
   "nbconvert_exporter": "python",
   "pygments_lexer": "ipython3",
   "version": "3.7.10"
  }
 },
 "nbformat": 4,
 "nbformat_minor": 5
}
