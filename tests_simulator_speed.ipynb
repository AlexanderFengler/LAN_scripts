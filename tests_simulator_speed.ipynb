{
 "cells": [
  {
   "cell_type": "code",
   "execution_count": 1,
   "id": "c0123d5b-8970-4f97-86ee-2c5548907df9",
   "metadata": {},
   "outputs": [],
   "source": [
    "#import numba\n",
    "import ssms\n",
    "import numpy as np\n",
    "import matplotlib.pyplot as plt"
   ]
  },
  {
   "cell_type": "code",
   "execution_count": 2,
   "id": "52171749-64e9-4cee-a7d8-adb51c87ce73",
   "metadata": {},
   "outputs": [
    {
     "ename": "NameError",
     "evalue": "name 'numba' is not defined",
     "output_type": "error",
     "traceback": [
      "\u001b[0;31m---------------------------------------------------------------------------\u001b[0m",
      "\u001b[0;31mNameError\u001b[0m                                 Traceback (most recent call last)",
      "\u001b[0;32m<ipython-input-2-041d80e09aba>\u001b[0m in \u001b[0;36m<module>\u001b[0;34m\u001b[0m\n\u001b[1;32m      1\u001b[0m \u001b[0;31m# simulators\u001b[0m\u001b[0;34m\u001b[0m\u001b[0;34m\u001b[0m\u001b[0;34m\u001b[0m\u001b[0m\n\u001b[0;32m----> 2\u001b[0;31m \u001b[0;34m@\u001b[0m\u001b[0mnumba\u001b[0m\u001b[0;34m.\u001b[0m\u001b[0mjit\u001b[0m\u001b[0;34m(\u001b[0m\u001b[0mnopython\u001b[0m\u001b[0;34m=\u001b[0m\u001b[0;32mTrue\u001b[0m\u001b[0;34m)\u001b[0m\u001b[0;34m\u001b[0m\u001b[0;34m\u001b[0m\u001b[0m\n\u001b[0m\u001b[1;32m      3\u001b[0m \u001b[0;32mdef\u001b[0m \u001b[0mddm\u001b[0m\u001b[0;34m(\u001b[0m\u001b[0mv\u001b[0m\u001b[0;34m=\u001b[0m\u001b[0;36m0\u001b[0m\u001b[0;34m,\u001b[0m \u001b[0ma\u001b[0m\u001b[0;34m=\u001b[0m\u001b[0;36m1\u001b[0m\u001b[0;34m,\u001b[0m \u001b[0mw\u001b[0m\u001b[0;34m=\u001b[0m\u001b[0;36m0.5\u001b[0m\u001b[0;34m,\u001b[0m \u001b[0mtau\u001b[0m\u001b[0;34m=\u001b[0m\u001b[0;36m0\u001b[0m\u001b[0;34m,\u001b[0m \u001b[0ms\u001b[0m\u001b[0;34m=\u001b[0m\u001b[0;36m1\u001b[0m\u001b[0;34m,\u001b[0m \u001b[0mdt\u001b[0m\u001b[0;34m=\u001b[0m\u001b[0;36m0.001\u001b[0m\u001b[0;34m,\u001b[0m \u001b[0mt_max\u001b[0m\u001b[0;34m=\u001b[0m\u001b[0;36m20\u001b[0m\u001b[0;34m)\u001b[0m\u001b[0;34m:\u001b[0m\u001b[0;34m\u001b[0m\u001b[0;34m\u001b[0m\u001b[0m\n\u001b[1;32m      4\u001b[0m     \"\"\"\n\u001b[1;32m      5\u001b[0m     \u001b[0mSimulate\u001b[0m \u001b[0ma\u001b[0m \u001b[0msingle\u001b[0m \u001b[0mtrial\u001b[0m \u001b[0mof\u001b[0m \u001b[0mthe\u001b[0m \u001b[0;36m4\u001b[0m\u001b[0;34m-\u001b[0m\u001b[0mparam\u001b[0m \u001b[0mdrift\u001b[0m \u001b[0mdiffusion\u001b[0m \u001b[0mprocess\u001b[0m\u001b[0;34m.\u001b[0m\u001b[0;34m\u001b[0m\u001b[0;34m\u001b[0m\u001b[0m\n",
      "\u001b[0;31mNameError\u001b[0m: name 'numba' is not defined"
     ]
    }
   ],
   "source": [
    "# simulators\n",
    "@numba.jit(nopython=True)\n",
    "def ddm(v=0, a=1, w=0.5, tau=0, s=1, dt=0.001, t_max=20):\n",
    "    \"\"\"\n",
    "    Simulate a single trial of the 4-param drift diffusion process.\n",
    "    \"\"\"\n",
    "    s_sqrtdt = s * np.sqrt(dt)\n",
    "    n_steps = int(t_max / dt + 1)\n",
    "    noise = np.random.normal(0, 1, size=n_steps) * s_sqrtdt\n",
    "    x = w * a\n",
    "    t, i = 0, 0\n",
    "    while (t <= t_max) and (x >= 0) and (x <= a):\n",
    "        # drift + diffusion, increment time\n",
    "        x += v * dt + noise[i]\n",
    "        t += dt\n",
    "        i += 1\n",
    "    return t + tau, np.sign(x)\n",
    "\n",
    "@numba.jit(nopython=True)\n",
    "def ddm_batch_python(v, a, w, tau, dt, t_max, num_trials, seed):\n",
    "    \"\"\"\n",
    "    Simulate multiple trials of DDM per param configuration.\n",
    "    \"\"\"\n",
    "    num_params = np.shape(v)[0]\n",
    "    rt = np.zeros((num_params, num_trials))\n",
    "    c = np.zeros((num_params, num_trials))\n",
    "\n",
    "    # set seed\n",
    "    np.random.seed(seed)\n",
    "    for i_p in range(num_params):\n",
    "        for i_t in range(num_trials):\n",
    "            # loop simulator\n",
    "            rt[i_p, i_t], c[i_p, i_t] = ddm(\n",
    "                v[i_p], a[i_p], w[i_p], tau[i_p], dt=dt, t_max=t_max\n",
    "            )\n",
    "\n",
    "    return rt, c"
   ]
  },
  {
   "cell_type": "code",
   "execution_count": 29,
   "id": "e61dbb5e-2055-4184-bdac-664ef9981a6d",
   "metadata": {},
   "outputs": [
    {
     "name": "stdout",
     "output_type": "stream",
     "text": [
      "0.6845796298980713\n"
     ]
    }
   ],
   "source": [
    "start_t = time()\n",
    "for i in range(100):\n",
    "    out = ddm_batch_python(v = np.array([0.0]), a = np.array([1.0]), w = np.array([0.5]), tau = np.array([0.001]), dt = 0.001, t_max = 20, num_trials = 1000, seed = 42)\n",
    "elapsed = time() - start_t\n",
    "\n",
    "print(elapsed / 100)"
   ]
  },
  {
   "cell_type": "code",
   "execution_count": 4,
   "id": "577d22d9-82fd-431d-b553-203081e38952",
   "metadata": {},
   "outputs": [],
   "source": [
    "from time import time\n",
    "#for \n",
    "#for i in range(100)out[0].shape"
   ]
  },
  {
   "cell_type": "code",
   "execution_count": 11,
   "id": "8a1f194c-8f72-4e42-b150-16b9185b6af2",
   "metadata": {},
   "outputs": [
    {
     "data": {
      "text/plain": [
       "[0.0, 1.0, 0.5, 0.001]"
      ]
     },
     "execution_count": 11,
     "metadata": {},
     "output_type": "execute_result"
    }
   ],
   "source": [
    "ssms.config.model_config[model]['default_params']"
   ]
  },
  {
   "cell_type": "code",
   "execution_count": 6,
   "id": "a0a4460f-8c0a-4e91-b67f-650d3727ad49",
   "metadata": {},
   "outputs": [
    {
     "name": "stdout",
     "output_type": "stream",
     "text": [
      "0.6905571174621582\n"
     ]
    }
   ],
   "source": [
    "model = 'ddm'\n",
    "\n",
    "start_t = time()\n",
    "for i in range(100):\n",
    "    ssms.basic_simulators.simulator(theta = ssms.config.model_config[model]['default_params'],\n",
    "                                    model = model,\n",
    "                                    n_samples = 10000)\n",
    "elapsed = time() - start_t\n",
    "\n",
    "print(elapsed / 100)"
   ]
  },
  {
   "cell_type": "code",
   "execution_count": 37,
   "id": "a0140b14-b492-411b-809c-1e24a9db8e5b",
   "metadata": {},
   "outputs": [
    {
     "data": {
      "image/png": "[encoded data removed]",
      "text/plain": [
       "<Figure size 432x288 with 1 Axes>"
      ]
     },
     "metadata": {
      "needs_background": "light"
     },
     "output_type": "display_data"
    }
   ],
   "source": [
    "model = 'ddm_mic2'\n",
    "d_s = [0, 0.25, 0.5, 1]\n",
    "for d in d_s:\n",
    "    theta = [1.0, 1.0, 1.0, 1.75, 0.5, 0.5, 0.5, d, 0]\n",
    "    out = ssms.basic_simulators.simulator(theta = theta,\n",
    "                                          model = model,\n",
    "                                          n_samples = 20000)\n",
    "    \n",
    "    if d == 0:\n",
    "        plt.hist(out['rts'][out['choices'] == 3], range = (0, 10), bins = 20, histtype = 'step', color = 'red')\n",
    "    else:\n",
    "        plt.hist(out['rts'][out['choices'] == 3], range = (0, 10), bins = 20, histtype = 'step', alpha = d, color = 'black')"
   ]
  },
  {
   "cell_type": "code",
   "execution_count": 10,
   "id": "98bf1d87-d32a-428d-ac6c-a6f5753bcb78",
   "metadata": {},
   "outputs": [
    {
     "data": {
      "text/plain": [
       "{'name': 'ddm_mic2',\n",
       " 'params': ['vh', 'vl1', 'vl2', 'a', 'zh', 'zl1', 'zl2', 'd', 't'],\n",
       " 'param_bounds': [[-2.5, -2.5, -2.5, 0.3, 0.2, 0.2, 0.2, 0.0, 0.0],\n",
       "  [2.5, 2.5, 2.5, 2.0, 0.8, 0.8, 0.8, 1.0, 2.0]],\n",
       " 'boundary': <function ssms.basic_simulators.boundary_functions.constant(t=0)>,\n",
       " 'n_params': 9,\n",
       " 'default_params': [0.0, 0.0, 0.0, 1.0, 0.5, 0.5, 0.5, 0.5, 0.5],\n",
       " 'hddm_include': ['vh', 'vl1', 'vl2', 'a', 'zh', 'zl1', 'zl2', 'd', 't'],\n",
       " 'nchoices': 4}"
      ]
     },
     "execution_count": 10,
     "metadata": {},
     "output_type": "execute_result"
    }
   ],
   "source": [
    "ssms.config.model_config['ddm_mic2']\n"
   ]
  },
  {
   "cell_type": "code",
   "execution_count": 24,
   "id": "1929c722-fd04-4903-8492-bfe096854375",
   "metadata": {},
   "outputs": [
    {
     "data": {
      "text/plain": [
       "(array([1.540e+02, 1.608e+03, 2.245e+03, 1.798e+03, 1.257e+03, 7.410e+02,\n",
       "        5.050e+02, 3.220e+02, 1.950e+02, 1.140e+02, 7.600e+01, 3.800e+01,\n",
       "        2.100e+01, 1.100e+01, 1.100e+01, 6.000e+00, 1.000e+00, 2.000e+00,\n",
       "        1.000e+00, 0.000e+00]),\n",
       " array([ 0. ,  0.5,  1. ,  1.5,  2. ,  2.5,  3. ,  3.5,  4. ,  4.5,  5. ,\n",
       "         5.5,  6. ,  6.5,  7. ,  7.5,  8. ,  8.5,  9. ,  9.5, 10. ],\n",
       "       dtype=float32),\n",
       " <BarContainer object of 20 artists>)"
      ]
     },
     "execution_count": 24,
     "metadata": {},
     "output_type": "execute_result"
    },
    {
     "data": {
      "image/png": "[encoded data removed]",
      "text/plain": [
       "<Figure size 432x288 with 1 Axes>"
      ]
     },
     "metadata": {
      "needs_background": "light"
     },
     "output_type": "display_data"
    }
   ],
   "source": []
  },
  {
   "cell_type": "code",
   "execution_count": 7,
   "id": "91bdb139-6e70-413e-8dfd-728c0dd22be9",
   "metadata": {},
   "outputs": [
    {
     "data": {
      "text/plain": [
       "{'name': 'ddm',\n",
       " 'params': ['v', 'a', 'z', 't'],\n",
       " 'param_bounds': [[-3.0, 0.3, 0.1, 0.0], [3.0, 2.5, 0.9, 2.0]],\n",
       " 'boundary': <function ssms.basic_simulators.boundary_functions.constant(t=0)>,\n",
       " 'n_params': 4,\n",
       " 'default_params': [0.0, 1.0, 0.5, 0.001],\n",
       " 'hddm_include': ['z'],\n",
       " 'nchoices': 2}"
      ]
     },
     "execution_count": 7,
     "metadata": {},
     "output_type": "execute_result"
    }
   ],
   "source": [
    "ssms.config.model_config['ddm']"
   ]
  },
  {
   "cell_type": "code",
   "execution_count": 39,
   "id": "8fd7df3a-1a01-40b8-b57a-4a02edba977c",
   "metadata": {},
   "outputs": [],
   "source": [
    "import os\n",
    "\n",
    "files_ = os.listdir('/users/afengler/batch_job_out/')\n",
    "files_imp = ['/users/afengler/batch_job_out/' + file_ for file_ in files_ if '1972244' in file_]"
   ]
  },
  {
   "cell_type": "code",
   "execution_count": 59,
   "id": "93e3e386-25a9-441d-a41d-522cfe99891d",
   "metadata": {},
   "outputs": [],
   "source": [
    "str_list = []\n",
    "for file_ in files_imp:\n",
    "    f = open(file_, 'r')\n",
    "    x = f.read()\n",
    "    f.close()\n",
    "    str_list.append(x.split('\\n')[-3])\n",
    "    \n"
   ]
  },
  {
   "cell_type": "code",
   "execution_count": 61,
   "id": "3b97c013-e74f-405e-985e-8160b2187f9c",
   "metadata": {},
   "outputs": [
    {
     "ename": "ModuleNotFoundError",
     "evalue": "No module named 'iteration_utilities'",
     "output_type": "error",
     "traceback": [
      "\u001b[0;31m---------------------------------------------------------------------------\u001b[0m",
      "\u001b[0;31mModuleNotFoundError\u001b[0m                       Traceback (most recent call last)",
      "\u001b[0;32m<ipython-input-61-b56d5aac6f50>\u001b[0m in \u001b[0;36m<module>\u001b[0;34m\u001b[0m\n\u001b[0;32m----> 1\u001b[0;31m \u001b[0;32mfrom\u001b[0m \u001b[0miteration_utilities\u001b[0m \u001b[0;32mimport\u001b[0m \u001b[0mduplicdates\u001b[0m\u001b[0;34m\u001b[0m\u001b[0;34m\u001b[0m\u001b[0m\n\u001b[0m\u001b[1;32m      2\u001b[0m \u001b[0mstr_list\u001b[0m\u001b[0;34m\u001b[0m\u001b[0;34m\u001b[0m\u001b[0m\n",
      "\u001b[0;31mModuleNotFoundError\u001b[0m: No module named 'iteration_utilities'"
     ]
    }
   ],
   "source": [
    "from iteration_utilities import duplicdates\n",
    "str_list"
   ]
  },
  {
   "cell_type": "code",
   "execution_count": 50,
   "id": "4e32fec8-ea60-4e36-a179-4c6e59397232",
   "metadata": {},
   "outputs": [],
   "source": [
    "x = x.split('\\n')"
   ]
  },
  {
   "cell_type": "code",
   "execution_count": 63,
   "id": "6c009119-0c3b-4fcb-b6ce-1a356857fcd7",
   "metadata": {},
   "outputs": [
    {
     "name": "stdout",
     "output_type": "stream",
     "text": [
      "[]\n"
     ]
    }
   ],
   "source": [
    "import collections\n",
    "print([item for item, count in collections.Counter(str_list).items() if count > 1])"
   ]
  },
  {
   "cell_type": "code",
   "execution_count": 56,
   "id": "36e46f43-aad5-4bee-8a5c-fdc3e285dc67",
   "metadata": {},
   "outputs": [
    {
     "data": {
      "text/plain": [
       "<_io.TextIOWrapper name='/users/afengler/batch_job_out/data_generator_1972244_257.out' mode='r' encoding='UTF-8'>"
      ]
     },
     "execution_count": 56,
     "metadata": {},
     "output_type": "execute_result"
    }
   ],
   "source": [
    "f"
   ]
  },
  {
   "cell_type": "code",
   "execution_count": 3,
   "id": "2eeea058-700a-40bc-98ea-c73b53362303",
   "metadata": {},
   "outputs": [],
   "source": [
    "#collections.Counter(str_list)"
   ]
  },
  {
   "cell_type": "code",
   "execution_count": 4,
   "id": "451f2861-be66-445c-befc-8702d7423db8",
   "metadata": {},
   "outputs": [],
   "source": [
    "#str_list"
   ]
  },
  {
   "cell_type": "code",
   "execution_count": 75,
   "id": "9af25244-0c36-4b9c-9bfb-68cf2feead74",
   "metadata": {},
   "outputs": [],
   "source": [
    "files_ = os.listdir('/users/afengler/data/proj_lan_pipeline/LAN_scripts/data/lan_mlp/training_data_0_nbins_0_n_200000')\n",
    "files_imp = ['/users/afengler/data/proj_lan_pipeline/LAN_scripts/data/lan_mlp/training_data_0_nbins_0_n_200000/' + file_ for file_ in files_ if 'lca_no_bias' in file_]"
   ]
  },
  {
   "cell_type": "code",
   "execution_count": 72,
   "id": "dd79e281-5acf-4c8a-b895-607964ffd698",
   "metadata": {},
   "outputs": [
    {
     "data": {
      "text/plain": [
       "515"
      ]
     },
     "execution_count": 72,
     "metadata": {},
     "output_type": "execute_result"
    }
   ],
   "source": [
    "len(files_imp)"
   ]
  },
  {
   "cell_type": "code",
   "execution_count": 76,
   "id": "0346be75-397a-4c83-9a31-3ebc9415168f",
   "metadata": {},
   "outputs": [],
   "source": [
    "import pickle\n",
    "myf = pickle.load(open(files_imp[0], 'rb'))"
   ]
  },
  {
   "cell_type": "code",
   "execution_count": 83,
   "id": "4beac729-34f1-4232-84e7-240172acb978",
   "metadata": {},
   "outputs": [
    {
     "data": {
      "text/plain": [
       "495683"
      ]
     },
     "execution_count": 83,
     "metadata": {},
     "output_type": "execute_result"
    }
   ],
   "source": [
    "(myf['data'][:, -1] == 0).sum()"
   ]
  },
  {
   "cell_type": "code",
   "execution_count": 86,
   "id": "8621cea6-86ca-4e8e-89e3-dc3356cc1d4a",
   "metadata": {},
   "outputs": [
    {
     "data": {
      "text/plain": [
       "496438"
      ]
     },
     "execution_count": 86,
     "metadata": {},
     "output_type": "execute_result"
    }
   ],
   "source": [
    "(myf['data'][:, -1] == 3).sum()"
   ]
  },
  {
   "cell_type": "code",
   "execution_count": 37,
   "id": "5dad0f08-a415-4f89-8a7a-7459cf1e0301",
   "metadata": {},
   "outputs": [],
   "source": [
    "# condition 211\n",
    "model = 'ddm_par2'\n",
    "theta = [1.4, -2.0, 0.75, 1.3, 0.5, 0.5, 0.5, 0.2]\n",
    "n_samples = 10000\n",
    "\n",
    "out = ssms.basic_simulators.simulator(theta = theta,\n",
    "                                model = model,\n",
    "                                n_samples = n_samples)"
   ]
  },
  {
   "cell_type": "code",
   "execution_count": 38,
   "id": "cd0185f1-9c8e-4f8f-93af-1c110aed1fb7",
   "metadata": {},
   "outputs": [
    {
     "data": {
      "image/png": "[encoded data removed]",
      "text/plain": [
       "<Figure size 720x720 with 1 Axes>"
      ]
     },
     "metadata": {
      "needs_background": "light"
     },
     "output_type": "display_data"
    }
   ],
   "source": [
    "#fig = plt.figure(figsize=(10, 10))\n",
    "plt.figure(figsize=(10, 10))\n",
    "color = ['blue', 'red', 'black', 'green']\n",
    "for j in range(4):\n",
    "    #plt.subplot(4,4,i*2,xlim=(0,10),ylim=(0,0.8))\n",
    "    plt.hist(out['rts'][out['choices'] == j],\n",
    "            density=False,\n",
    "            histtype = 'step',\n",
    "            color = color[j],\n",
    "            range=(0,10),\n",
    "            bins=20,\n",
    "            weights=np.ones(out['rts'][out['choices'] == j].shape[0])/ (n_samples * 0.5))\n",
    "    #plt.title('par2 {}'.format(cond_keys[i-1]))\n",
    "#for i in range(1,9):\n"
   ]
  },
  {
   "cell_type": "code",
   "execution_count": 41,
   "id": "7071f2eb-94e6-43e2-8ec7-0bc859574878",
   "metadata": {},
   "outputs": [],
   "source": [
    "# condition 212\n",
    "model = 'ddm_par2'\n",
    "theta = [1.55, -2.0, 1.5, 1.3, 0.5, 0.5, 0.5, 0.2]\n",
    "n_samples = 10000\n",
    "\n",
    "out = ssms.basic_simulators.simulator(theta = theta,\n",
    "                                model = model,\n",
    "                                n_samples = n_samples)"
   ]
  },
  {
   "cell_type": "code",
   "execution_count": 42,
   "id": "1e30c782-04a8-4a66-9090-5a836deb5920",
   "metadata": {},
   "outputs": [
    {
     "data": {
      "image/png": "[encoded data removed]",
      "text/plain": [
       "<Figure size 720x720 with 1 Axes>"
      ]
     },
     "metadata": {
      "needs_background": "light"
     },
     "output_type": "display_data"
    }
   ],
   "source": [
    "#import matplotlib.pyplot as plt\n",
    "plt.figure(figsize=(10, 10))\n",
    "color = ['blue', 'red', 'black', 'green']\n",
    "for j in range(4):\n",
    "    #plt.subplot(4,4,i*2,xlim=(0,10),ylim=(0,0.8))\n",
    "    plt.hist(out['rts'][out['choices'] == j],\n",
    "            density=False,\n",
    "            histtype = 'step',\n",
    "            color = color[j],\n",
    "            range=(0,10),\n",
    "            bins=20,\n",
    "            weights=np.ones(out['rts'][out['choices'] == j].shape[0])/ (n_samples * 0.5))\n",
    "    #plt.title('par2 {}'.format(cond_keys[i-1]))\n",
    "#for i in range(1,9):\n"
   ]
  },
  {
   "cell_type": "code",
   "execution_count": 43,
   "id": "a7435fdf-47eb-4a06-a010-cd53bd315dcb",
   "metadata": {},
   "outputs": [],
   "source": [
    "# condition 111\n",
    "model = 'ddm_par2'\n",
    "theta = [0.6, 1.15, 0.67, 1.3, 0.5, 0.5, 0.5, 0.21]\n",
    "n_samples = 10000\n",
    "\n",
    "out = ssms.basic_simulators.simulator(theta = theta,\n",
    "                                model = model,\n",
    "                                n_samples = n_samples)"
   ]
  },
  {
   "cell_type": "code",
   "execution_count": 44,
   "id": "97591731-80cb-4f64-8ae0-0f6a588c884a",
   "metadata": {},
   "outputs": [
    {
     "data": {
      "image/png": "[encoded data removed]",
      "text/plain": [
       "<Figure size 720x720 with 1 Axes>"
      ]
     },
     "metadata": {
      "needs_background": "light"
     },
     "output_type": "display_data"
    }
   ],
   "source": [
    "#import matplotlib.pyplot as plt\n",
    "plt.figure(figsize=(10, 10))\n",
    "color = ['blue', 'red', 'black', 'green']\n",
    "for j in range(4):\n",
    "    #plt.subplot(4,4,i*2,xlim=(0,10),ylim=(0,0.8))\n",
    "    plt.hist(out['rts'][out['choices'] == j],\n",
    "            density=False,\n",
    "            histtype = 'step',\n",
    "            color = color[j],\n",
    "            range=(0,10),\n",
    "            bins=20,\n",
    "            weights=np.ones(out['rts'][out['choices'] == j].shape[0])/ (n_samples * 0.5))\n",
    "    #plt.title('par2 {}'.format(cond_keys[i-1]))\n",
    "#for i in range(1,9):\n"
   ]
  },
  {
   "cell_type": "code",
   "execution_count": 45,
   "id": "bbc206e9-f3bb-4fb3-b357-b21cee7a47de",
   "metadata": {},
   "outputs": [],
   "source": [
    "# condition 222\n",
    "model = 'ddm_par2'\n",
    "theta = [1.5, -2., 1.5, 1.3, 0.5, 0.5, 0.5, 0.21]\n",
    "n_samples = 10000\n",
    "\n",
    "out = ssms.basic_simulators.simulator(theta = theta,\n",
    "                                model = model,\n",
    "                                n_samples = n_samples)"
   ]
  },
  {
   "cell_type": "code",
   "execution_count": 46,
   "id": "b94d2a50-2ce4-4d81-985d-8d22143f03c3",
   "metadata": {},
   "outputs": [
    {
     "data": {
      "image/png": "[encoded data removed]",
      "text/plain": [
       "<Figure size 720x720 with 1 Axes>"
      ]
     },
     "metadata": {
      "needs_background": "light"
     },
     "output_type": "display_data"
    }
   ],
   "source": [
    "import matplotlib.pyplot as plt\n",
    "plt.figure(figsize=(10, 10))\n",
    "color = ['blue', 'red', 'black', 'green']\n",
    "for j in range(4):\n",
    "    #plt.subplot(4,4,i*2,xlim=(0,10),ylim=(0,0.8))\n",
    "    plt.hist(out['rts'][out['choices'] == j],\n",
    "            density=False,\n",
    "            histtype = 'step',\n",
    "            color = color[j],\n",
    "            range=(0,10),\n",
    "            bins=20,\n",
    "            weights=np.ones(out['rts'][out['choices'] == j].shape[0])/ (n_samples * 0.5))\n",
    "    #plt.title('par2 {}'.format(cond_keys[i-1]))\n",
    "#for i in range(1,9):\n"
   ]
  },
  {
   "cell_type": "code",
   "execution_count": null,
   "id": "b39322e9-c678-41a0-ae72-7a356e7d9eb2",
   "metadata": {},
   "outputs": [],
   "source": []
  }
 ],
 "metadata": {
  "kernelspec": {
   "display_name": "lanfactory",
   "language": "python",
   "name": "lanfactory"
  },
  "language_info": {
   "codemirror_mode": {
    "name": "ipython",
    "version": 3
   },
   "file_extension": ".py",
   "mimetype": "text/x-python",
   "name": "python",
   "nbconvert_exporter": "python",
   "pygments_lexer": "ipython3",
   "version": "3.7.10"
  }
 },
 "nbformat": 4,
 "nbformat_minor": 5
}
