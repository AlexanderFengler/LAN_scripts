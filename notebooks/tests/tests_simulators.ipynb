{
 "cells": [
  {
   "cell_type": "markdown",
   "id": "75217c81-041a-42ec-8172-98bb93b1db6d",
   "metadata": {},
   "source": [
    "## Some Simulator tests"
   ]
  },
  {
   "cell_type": "code",
   "execution_count": 1,
   "id": "c0123d5b-8970-4f97-86ee-2c5548907df9",
   "metadata": {},
   "outputs": [],
   "source": [
    "import ssms\n",
    "import numpy as np\n",
    "import matplotlib.pyplot as plt\n",
    "from time import time"
   ]
  },
  {
   "cell_type": "markdown",
   "id": "4689b4b7-7eee-49a4-ac34-00be33c6e79b",
   "metadata": {},
   "source": [
    "### Run simulations"
   ]
  },
  {
   "cell_type": "code",
   "execution_count": 41,
   "id": "a0140b14-b492-411b-809c-1e24a9db8e5b",
   "metadata": {},
   "outputs": [
    {
     "name": "stdout",
     "output_type": "stream",
     "text": [
      "3.4150732\n",
      "3.4150732\n",
      "3.4150732\n",
      "3.4150732\n"
     ]
    },
    {
     "data": {
      "image/png": "[encoded data removed]",
      "text/plain": [
       "<Figure size 432x288 with 1 Axes>"
      ]
     },
     "metadata": {
      "needs_background": "light"
     },
     "output_type": "display_data"
    }
   ],
   "source": [
    "model = 'ddm_mic2_adj_gamma_conflict_no_bias'\n",
    "ssms.config.model_config[model]['default_params']\n",
    "\n",
    "theta = ssms.config.model_config[model]['default_params']\n",
    "theta[0] = 2 # v_h\n",
    "theta[1] = 2 # v_l1\n",
    "theta[2] = 2 # v_l2\n",
    "theta[5] = 2 # a\n",
    "theta[6] = 0.3 # theta\n",
    "theta[7] = 5\n",
    "theta[8] = 4\n",
    "\n",
    "out = ssms.basic_simulators.simulator(theta = theta,\n",
    "                                      model = model,\n",
    "                                      n_samples = 20000)\n",
    "\n",
    "color = ['blue', 'red', 'orange', 'green']\n",
    "cnt = 0\n",
    "for c in [0, 1, 2, 3]:\n",
    "    plt.hist(out['rts'][out['choices'] == c], range = (0, 20), bins = 160, histtype = 'step', color = color[c])\n",
    "    cnt += 1\n",
    "    print(np.mean(out['rts']))                                                                                                    "
   ]
  },
  {
   "cell_type": "markdown",
   "id": "c9015b0e-7730-4e9f-8cfd-5acef6b14089",
   "metadata": {},
   "source": [
    "### Check bounds"
   ]
  },
  {
   "cell_type": "code",
   "execution_count": 42,
   "id": "850c4bb7-8dbb-4fac-b7ac-232c7d256e4b",
   "metadata": {},
   "outputs": [
    {
     "data": {
      "text/plain": [
       "[<matplotlib.lines.Line2D at 0x7f703b442050>]"
      ]
     },
     "execution_count": 42,
     "metadata": {},
     "output_type": "execute_result"
    },
    {
     "data": {
      "image/png": "[encoded data removed]",
      "text/plain": [
       "<Figure size 432x288 with 1 Axes>"
      ]
     },
     "metadata": {
      "needs_background": "light"
     },
     "output_type": "display_data"
    }
   ],
   "source": [
    "t_vec = np.arange(0, 20, 0.01)\n",
    "bound = ssms.basic_simulators.gamma_conflict_bound(t= t_vec,\n",
    "                                           a = theta[5],\n",
    "                                           theta = theta[6],\n",
    "                                           scale = theta[7],\n",
    "                                           alpha_gamma = theta[8],\n",
    "                                           scale_gamma = theta[9])\n",
    "plt.plot(t_vec, bound)\n",
    "plt.plot(t_vec, -bound)"
   ]
  }
 ],
 "metadata": {
  "kernelspec": {
   "display_name": "lan_pipeline",
   "language": "python",
   "name": "lan_pipeline"
  },
  "language_info": {
   "codemirror_mode": {
    "name": "ipython",
    "version": 3
   },
   "file_extension": ".py",
   "mimetype": "text/x-python",
   "name": "python",
   "nbconvert_exporter": "python",
   "pygments_lexer": "ipython3",
   "version": "3.10.9"
  }
 },
 "nbformat": 4,
 "nbformat_minor": 5
}
