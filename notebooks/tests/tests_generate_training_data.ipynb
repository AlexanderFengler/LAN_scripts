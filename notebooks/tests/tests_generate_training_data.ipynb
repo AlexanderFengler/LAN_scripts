{
 "cells": [
  {
   "cell_type": "code",
   "execution_count": 1,
   "id": "f7c06853-8d5f-4b9c-987d-45eda7a611a9",
   "metadata": {
    "tags": []
   },
   "outputs": [
    {
     "name": "stdout",
     "output_type": "stream",
     "text": [
      "importing lanfactory\n",
      "importing ssms\n"
     ]
    },
    {
     "name": "stderr",
     "output_type": "stream",
     "text": [
      "/users/afengler/data/software/miniconda3/envs/lan_pipeline/lib/python3.10/site-packages/flax/core/frozen_dict.py:169: FutureWarning: jax.tree_util.register_keypaths is deprecated, and will be removed in a future release. Please use `register_pytree_with_keys()` instead.\n",
      "  jax.tree_util.register_keypaths(\n"
     ]
    }
   ],
   "source": [
    "# MAKE CONFIGS\n",
    "from ssms.basic_simulators import simulator\n",
    "from ssms.config import data_generator_config\n",
    "from ssms.config import model_config\n",
    "from copy import deepcopy\n",
    "import pickle\n",
    "import sys\n",
    "import os\n",
    "\n",
    "sys.path.insert(1, os.path.join(sys.path[0], '..'))\n",
    "from config import *"
   ]
  },
  {
   "cell_type": "markdown",
   "id": "c5aa1ac8-d99c-41db-875d-4da62d69af34",
   "metadata": {},
   "source": [
    "### Make Data Generator Config"
   ]
  },
  {
   "cell_type": "code",
   "execution_count": 6,
   "id": "3bb11c94-3f3d-42fb-889c-f20630c12c37",
   "metadata": {
    "tags": []
   },
   "outputs": [],
   "source": [
    "# Specify model\n",
    "model = 'ddm'\n",
    "\n",
    "# Specify data_generator parameters\n",
    "n_samples = 20000\n",
    "n_parameter_sets = 100\n",
    "delta_t = 0.001\n",
    "n_training_samples_by_parameter_set = 2000\n",
    "n_subruns = 1\n",
    "\n",
    "# proj folder\n",
    "project_folder = '/users/afengler/data/proj_lan_pipeline/LAN_scripts/local_tests/'\n",
    "\n",
    "# What kind of likelihood approximator are we generating training data for?\n",
    "generator_approach = 'lan'\n",
    "\n",
    "# training data folder\n",
    "training_data_folder = project_folder + \\\n",
    "                         '/data/training_data/' + generator_approach + \\\n",
    "                            '/training_data_n_samples' + '_' + \\\n",
    "                                str(n_samples) + '/' + model + '/'\n",
    "\n",
    "# Where do you want to save the config file?\n",
    "config_save_folder = project_folder + '/data/config_files/data_generation/' + \\\n",
    "                        generator_approach + '/' + model + '/'\n",
    "\n",
    "# Specify arguments which you want to adjust in the data generator\n",
    "data_generator_arg_dict = {\n",
    "                           'output_folder': training_data_folder,\n",
    "                           'dgp_list': model,\n",
    "                           'n_samples': n_samples,\n",
    "                           'n_parameter_sets': n_parameter_sets,\n",
    "                           'delta_t': delta_t,\n",
    "                           'n_training_samples_by_parameter_set': n_training_samples_by_parameter_set,\n",
    "                           'n_subruns': n_subruns\n",
    "                          }\n",
    "\n",
    "model_config_arg_dict = {}\n",
    "\n",
    "# Name of the config file\n",
    "data_config_save_name = 'nsim_' + str(data_generator_arg_dict['n_samples']) + \\\n",
    "                        '_dt_' + str(data_generator_arg_dict['delta_t']) + \\\n",
    "                        '_nps_' + str(data_generator_arg_dict['n_parameter_sets']) + \\\n",
    "                        '_npts_' + str(data_generator_arg_dict['n_training_samples_by_parameter_set']) + \\\n",
    "                        '.pickle'"
   ]
  },
  {
   "cell_type": "code",
   "execution_count": 7,
   "id": "9b136a32-e9f6-4318-b23e-30dda4389049",
   "metadata": {
    "tags": []
   },
   "outputs": [],
   "source": [
    "configs_out = make_data_generator_configs(model = model,\n",
    "                                          generator_approach = generator_approach,\n",
    "                                          data_generator_arg_dict = data_generator_arg_dict,\n",
    "                                          model_config_arg_dict = model_config_arg_dict,\n",
    "                                          save_name = None,\n",
    "                                          save_folder = config_save_folder)\n",
    "\n",
    "model_config = configs_out['model_config'] \n",
    "data_config = configs_out['data_config']"
   ]
  },
  {
   "cell_type": "markdown",
   "id": "a2a12942-0d35-4ba6-88ec-e3a417bbb2ea",
   "metadata": {},
   "source": [
    "### Loaded Generator Config"
   ]
  },
  {
   "cell_type": "code",
   "execution_count": 14,
   "id": "631dfb96-a9ec-4892-a07f-3306c4d50d3a",
   "metadata": {
    "tags": []
   },
   "outputs": [],
   "source": [
    "# Load data generator config\n",
    "ddm_generator_config = pickle.load(open('/users/afengler/data/proj_lan_pipeline/LAN_scripts/' + \\\n",
    "                                            'local_tests/data/config_files/data_generation/' + \\\n",
    "                                                'lan/ddm/nsim_2000_dt_0.001_nps_1000_npts_2000.pickle', 'rb'))\n",
    "\n",
    "model_config = ddm_generator_config['model_config']\n",
    "data_config = ddm_generator_config['data_config']"
   ]
  },
  {
   "cell_type": "markdown",
   "id": "4ea4bce0-4948-429e-8836-f2624ee7c2bd",
   "metadata": {},
   "source": [
    "### Simulate"
   ]
  },
  {
   "cell_type": "code",
   "execution_count": 8,
   "id": "58972b9e-667d-4d95-b1cc-3a609ca3e380",
   "metadata": {
    "tags": []
   },
   "outputs": [
    {
     "name": "stdout",
     "output_type": "stream",
     "text": [
      "n_cpus used:  32\n",
      "checking:  /users/afengler/data/proj_lan_pipeline/LAN_scripts/local_tests//data/training_data/lan/training_data_n_samples_20000/ddm/\n",
      "Dataset:  1  of  1\n",
      "simulation round: 1  of 1\n",
      "Writing to file:  /users/afengler/data/proj_lan_pipeline/LAN_scripts/local_tests//data/training_data/lan/training_data_n_samples_20000/ddm//training_data_5b4437c2d0ec11edb3c6a0423f39b59c.pickle\n",
      "Took  21.902665376663208  seconds!\n"
     ]
    }
   ],
   "source": [
    "# MAKE DATA\n",
    "from ssms.dataset_generators import data_generator\n",
    "from time import time\n",
    "n_datasets = 1\n",
    "\n",
    "# Instantiate a data generator (we pass our configs)\n",
    "my_dataset_generator = data_generator(generator_config = data_config,\n",
    "                                      model_config = model_config)\n",
    "\n",
    "start_t = time()\n",
    "for i in range(n_datasets):\n",
    "    print('Dataset: ', i + 1, ' of ', n_datasets)\n",
    "    training_data = my_dataset_generator.generate_data_training_uniform(save = True,\n",
    "                                                                        verbose = True)\n",
    "    \n",
    "end_t = time()\n",
    "\n",
    "print('Took ', end_t - start_t, ' seconds!')"
   ]
  },
  {
   "cell_type": "code",
   "execution_count": null,
   "id": "cc176d3e-c0d9-4a07-8887-6244895fc025",
   "metadata": {},
   "outputs": [],
   "source": []
  }
 ],
 "metadata": {
  "kernelspec": {
   "display_name": "lan_pipeline",
   "language": "python",
   "name": "lan_pipeline"
  },
  "language_info": {
   "codemirror_mode": {
    "name": "ipython",
    "version": 3
   },
   "file_extension": ".py",
   "mimetype": "text/x-python",
   "name": "python",
   "nbconvert_exporter": "python",
   "pygments_lexer": "ipython3",
   "version": "3.10.9"
  }
 },
 "nbformat": 4,
 "nbformat_minor": 5
}
