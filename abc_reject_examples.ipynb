{
 "cells": [
  {
   "cell_type": "markdown",
   "id": "6cdade25-dcaa-49f1-8ae6-9680ae07090f",
   "metadata": {},
   "source": [
    "# SOME SIMPLE EXAMPLES USING THE ABC REJECTION SAMPLER"
   ]
  },
  {
   "cell_type": "code",
   "execution_count": 13,
   "id": "aaff6e72-01fe-4025-b6c3-df6787da4e19",
   "metadata": {},
   "outputs": [],
   "source": [
    "import numpy as np\n",
    "import pandas as pd\n",
    "import scipy as scp\n",
    "import matplotlib.pyplot as plt\n",
    "from functools import partial\n",
    "from copy import deepcopy"
   ]
  },
  {
   "cell_type": "code",
   "execution_count": 14,
   "id": "45180695-e748-4ce5-a839-a70a6c97f16f",
   "metadata": {},
   "outputs": [],
   "source": [
    "# DEFINE OUR REJECTION SAMPLER\n",
    "def rejection_sampler(x_obs, prior, simulator, epsilon, n_samples, update_freq = 100, **kwargs):\n",
    "    \n",
    "    # Initializations ----\n",
    "    accepted_samples_cnt = 0\n",
    "    total_samples_cnt = 0\n",
    "    \n",
    "    if (type(x_obs) == float) or (type(x_obs) == int):\n",
    "        size = 1\n",
    "    else: \n",
    "        size = x_obs.shape[0]\n",
    "    \n",
    "    if type(prior(size = 1)) == float or (type(prior(size = 1)) == int):\n",
    "        params_dim = 1\n",
    "    else:\n",
    "        params_dim = prior(size = 1).shape[0]\n",
    "\n",
    "    if 'n' in kwargs:\n",
    "        dataset_size = kwargs['n']\n",
    "    else:\n",
    "        dataset_size = size\n",
    "\n",
    "    accepted_params = np.zeros((n_samples, params_dim))\n",
    "    # ---------------------\n",
    "    \n",
    "    # Main loop --> get posterior samples until we have n_samples of them\n",
    "    while accepted_samples_cnt < n_samples:\n",
    "        params_tmp = prior(size = 1)\n",
    "        x_sim = simulator(params = params_tmp, size = size, **kwargs)\n",
    "        # ACCEPT / REJECT STEP\n",
    "        if np.sum(np.abs(x_sim - x_obs)) <= epsilon: # We accept a sample only if it is whitin epsilon of the true data\n",
    "            accepted_params[accepted_samples_cnt, :] = params_tmp\n",
    "            accepted_samples_cnt += 1\n",
    "            \n",
    "            if (accepted_samples_cnt % update_freq) == 0: \n",
    "                print('{} of {} samples gathered...'.format(accepted_samples_cnt, n_samples))\n",
    "        total_samples_cnt += 1\n",
    "    # --------------------------------------------------------------------\n",
    "    \n",
    "    print('Accepted / Total Samples for Epsilon {} and Dataset-size {}: {}'.format(epsilon_tmp, dataset_size, accepted_samples_cnt / total_samples_cnt))\n",
    "    return accepted_params"
   ]
  },
  {
   "cell_type": "markdown",
   "id": "b2a2f23f-47ef-4809-8bac-08a61565d870",
   "metadata": {},
   "source": [
    "## NOTES\n",
    "\n",
    "The problem setup is always going to be, \n",
    "\n",
    "1. We have some **empirical data** --> `x_obs`\n",
    "\n",
    "2. We have a **prior distribution** --> `prior`\n",
    "\n",
    "3. We have a **simulator** --> `simulator_{name}`\n",
    "\n",
    "4. For our examples (in the real world you don't) we have **samples from the true posterior** --> `true_post`\n",
    "\n",
    "\n",
    "Then we use the **ABC Rejection Sampler**, with tolerance level `epsilon` to get posterior samples via our **simulator**.\n",
    "\n"
   ]
  },
  {
   "cell_type": "markdown",
   "id": "9dba493b-e12d-4be9-bf05-06151f0eca8d",
   "metadata": {},
   "source": [
    "# EXAMPLE: SINGLE DATAPOINT FROM A NORMAL, VARY EPSILON"
   ]
  },
  {
   "cell_type": "code",
   "execution_count": 15,
   "id": "8921d2a4-9ed0-4401-823e-367849d3d795",
   "metadata": {},
   "outputs": [],
   "source": [
    "# EMPIRICAL DATA\n",
    "x_obs = np.random.normal(0, 1)"
   ]
  },
  {
   "cell_type": "code",
   "execution_count": 16,
   "id": "c0866409-aca6-4f09-89ad-a7ec09656ab0",
   "metadata": {},
   "outputs": [
    {
     "data": {
      "text/plain": [
       "1.2426285701370139"
      ]
     },
     "execution_count": 16,
     "metadata": {},
     "output_type": "execute_result"
    }
   ],
   "source": [
    "x_obs"
   ]
  },
  {
   "cell_type": "code",
   "execution_count": 17,
   "id": "0bd5d362-41ad-4fb8-8800-b85e094d079c",
   "metadata": {},
   "outputs": [
    {
     "name": "stdout",
     "output_type": "stream",
     "text": [
      "1000 of 2000 samples gathered...\n",
      "2000 of 2000 samples gathered...\n",
      "Accepted / Total Samples for Epsilon 0.1 and Dataset-size 1: 0.009959415382317057\n",
      "1000 of 2000 samples gathered...\n",
      "2000 of 2000 samples gathered...\n",
      "Accepted / Total Samples for Epsilon 0.5 and Dataset-size 1: 0.05080913548255976\n",
      "1000 of 2000 samples gathered...\n",
      "2000 of 2000 samples gathered...\n",
      "Accepted / Total Samples for Epsilon 1.0 and Dataset-size 1: 0.09715812484819043\n",
      "1000 of 2000 samples gathered...\n",
      "2000 of 2000 samples gathered...\n",
      "Accepted / Total Samples for Epsilon 2.0 and Dataset-size 1: 0.1968697706467172\n",
      "1000 of 2000 samples gathered...\n",
      "2000 of 2000 samples gathered...\n",
      "Accepted / Total Samples for Epsilon 4.0 and Dataset-size 1: 0.39992001599680066\n"
     ]
    }
   ],
   "source": [
    "# # EMPIRICAL DATA\n",
    "# x_obs = np.random.normal(0, 1)\n",
    "\n",
    "# TRUE POSTERIOR\n",
    "true_post = np.random.normal(x_obs, 1, size = 2000)\n",
    "\n",
    "# PRIOR\n",
    "prior = partial(np.random.uniform, **{'low': -10, 'high': 10})\n",
    "\n",
    "# SIMULATOR\n",
    "def simulator_normal_mean(params = 0, size = 1):\n",
    "    assert (type(params) == float) or (params.shape[0] == 1), 'Simulator takes in single parameter, you supplied the wrong data format and / or at least two parameters'\n",
    "    return np.random.normal(params, 1, size = size)\n",
    "\n",
    "# GET REJECTION SAMPLES FOR MULTIPLE EPSILONS\n",
    "n_samples_to_get = 2000\n",
    "epsilons = [0.1, 0.5, 1.0, 2.0, 4.0]\n",
    "accepted_samples = []\n",
    "\n",
    "for epsilon_tmp in epsilons:\n",
    "    accepted_samples.append(rejection_sampler(x_obs = x_obs, \n",
    "                                              prior = prior, \n",
    "                                              simulator = simulator_normal_mean, \n",
    "                                              epsilon = epsilon_tmp, \n",
    "                                              n_samples = n_samples_to_get,\n",
    "                                              update_freq = 1000))\n",
    "    \n",
    "accepted_samples = np.column_stack(accepted_samples) #.reshape(-1, n_samples_to_get)"
   ]
  },
  {
   "cell_type": "code",
   "execution_count": 18,
   "id": "8c57b0d3-9b4b-4b68-a172-4fdf597bb20e",
   "metadata": {},
   "outputs": [
    {
     "data": {
      "text/plain": [
       "<matplotlib.legend.Legend at 0x7f6e136fe390>"
      ]
     },
     "execution_count": 18,
     "metadata": {},
     "output_type": "execute_result"
    },
    {
     "data": {
      "image/png": "[encoded data removed]",
      "text/plain": [
       "<Figure size 720x720 with 1 Axes>"
      ]
     },
     "metadata": {
      "needs_background": "light"
     },
     "output_type": "display_data"
    }
   ],
   "source": [
    "# PLOTTING\n",
    "\n",
    "# Plot epsilon-wise ABC posteriors\n",
    "epsilon_cnt = 0\n",
    "plt.figure(figsize = (10, 10))\n",
    "for epsilon_tmp in epsilons:\n",
    "    plt.hist(accepted_samples[:, epsilon_cnt], \n",
    "             histtype = 'step', \n",
    "             color = 'black', \n",
    "             density = True,\n",
    "             alpha = max(0.1, (1 / epsilon_tmp) / (np.max(1 / np.array(epsilons)))),\n",
    "             range = (-10, 10),\n",
    "             bins = 40, \n",
    "             label = r'$\\epsilon$ ' + str(epsilon_tmp))\n",
    "    plt.xlim((-10, 10))\n",
    "    epsilon_cnt += 1\n",
    "\n",
    "# Plot true posterior\n",
    "plt.hist(true_post, histtype = 'step', \n",
    "         color = 'red', \n",
    "         density = True,\n",
    "         range = (-10, 10),\n",
    "         alpha = 1.0, \n",
    "         bins = 40, \n",
    "         label = 'True posterior')\n",
    "plt.legend(loc = 'upper right', prop = {'size': 15})"
   ]
  },
  {
   "cell_type": "markdown",
   "id": "65290671-2940-4395-8386-d2f776e1ef18",
   "metadata": {},
   "source": [
    "# EXAMPLE: SINGLE BERNOULLI TRIAL, VARY EPSILON"
   ]
  },
  {
   "cell_type": "code",
   "execution_count": 21,
   "id": "66ce6fe2-a520-4031-acee-3fa54fe4cdfa",
   "metadata": {},
   "outputs": [],
   "source": [
    "# EMIRICAL DATA\n",
    "x_obs = np.array([1.0])"
   ]
  },
  {
   "cell_type": "code",
   "execution_count": 22,
   "id": "c54e8a64-d2e3-4f53-b4dd-982f283a3503",
   "metadata": {},
   "outputs": [
    {
     "data": {
      "text/plain": [
       "array([1.])"
      ]
     },
     "execution_count": 22,
     "metadata": {},
     "output_type": "execute_result"
    }
   ],
   "source": [
    "x_obs"
   ]
  },
  {
   "cell_type": "code",
   "execution_count": 23,
   "id": "4d166b7a-ec95-49c2-b0dd-3819da1ce2e4",
   "metadata": {},
   "outputs": [
    {
     "name": "stdout",
     "output_type": "stream",
     "text": [
      "1000 of 2000 samples gathered...\n",
      "2000 of 2000 samples gathered...\n",
      "Accepted / Total Samples for Epsilon 0.1 and Dataset-size 1: 0.501002004008016\n",
      "1000 of 2000 samples gathered...\n",
      "2000 of 2000 samples gathered...\n",
      "Accepted / Total Samples for Epsilon 0.5 and Dataset-size 1: 0.5005005005005005\n",
      "1000 of 2000 samples gathered...\n",
      "2000 of 2000 samples gathered...\n",
      "Accepted / Total Samples for Epsilon 1.0 and Dataset-size 1: 1.0\n",
      "1000 of 2000 samples gathered...\n",
      "2000 of 2000 samples gathered...\n",
      "Accepted / Total Samples for Epsilon 2.0 and Dataset-size 1: 1.0\n"
     ]
    }
   ],
   "source": [
    "# EMIRICAL DATA\n",
    "x_obs = np.array([1.0])\n",
    "\n",
    "# TRUE POSTERIOR\n",
    "true_post = np.random.beta(1 + x_obs, 1 + (1 - x_obs), size = 2000)\n",
    "\n",
    "# PRIOR \n",
    "prior = partial(np.random.beta, **{'a': 1, 'b': 1})\n",
    "\n",
    "\n",
    "# SIMULATOR\n",
    "def simulator_bernoulli(params = 0, size = 1):\n",
    "    assert (type(params) == float) or (params.shape[0] == 1), 'Simulator takes in single parameter, you supplied the wrong data format and / or at least two parameters'\n",
    "    return np.random.binomial(1, params, size = size)\n",
    "\n",
    "\n",
    "\n",
    "# GET REJECTION SAMPLES FOR MULTIPLE EPSILONS\n",
    "n_samples_to_get = 2000\n",
    "epsilons = [0.1, 0.5, 1.0, 2.0]\n",
    "accepted_samples = []\n",
    "\n",
    "for epsilon_tmp in epsilons:\n",
    "    accepted_samples.append(rejection_sampler(x_obs = x_obs, \n",
    "                                              prior = prior, \n",
    "                                              simulator = simulator_bernoulli, \n",
    "                                              epsilon = epsilon_tmp, \n",
    "                                              n_samples = n_samples_to_get,\n",
    "                                              update_freq = 1000))\n",
    "    \n",
    "accepted_samples = np.column_stack(accepted_samples) #.reshape(-1, n_samples_to_get)"
   ]
  },
  {
   "cell_type": "code",
   "execution_count": 24,
   "id": "5b9c1fcb-baa0-442c-b191-8cd7670ebfc6",
   "metadata": {},
   "outputs": [
    {
     "data": {
      "text/plain": [
       "<matplotlib.legend.Legend at 0x7f6e12c83690>"
      ]
     },
     "execution_count": 24,
     "metadata": {},
     "output_type": "execute_result"
    },
    {
     "data": {
      "image/png": "[encoded data removed]",
      "text/plain": [
       "<Figure size 720x720 with 1 Axes>"
      ]
     },
     "metadata": {
      "needs_background": "light"
     },
     "output_type": "display_data"
    }
   ],
   "source": [
    "# PLOTTING\n",
    "epsilon_cnt = 0\n",
    "plt.figure(figsize = (10, 10))\n",
    "for epsilon_tmp in epsilons:\n",
    "    plt.hist(accepted_samples[:, epsilon_cnt], \n",
    "             histtype = 'step', \n",
    "             color = 'black',\n",
    "             density = True,\n",
    "             alpha = max(0.1, (1 / epsilon_tmp) / (np.max(1 / np.array(epsilons)))), \n",
    "             bins = 20, \n",
    "             label = r'$\\epsilon$ ' + str(epsilon_tmp))\n",
    "    plt.xlim((0, 1))\n",
    "    epsilon_cnt += 1\n",
    "plt.hist(true_post, histtype = 'step', \n",
    "         color = 'red', \n",
    "         density = True,\n",
    "         alpha = 1.0, \n",
    "         bins = 20, \n",
    "         label = 'True posterior')\n",
    "plt.legend(loc = 'upper left', prop = {'size': 15})"
   ]
  },
  {
   "cell_type": "markdown",
   "id": "02f4deea-1ec4-4263-bd08-7541b1c9aa82",
   "metadata": {},
   "source": [
    "# EXAMPLE: INCREASE NUMBER OF COINFLIPS, VARY EPSILON"
   ]
  },
  {
   "cell_type": "code",
   "execution_count": 26,
   "id": "8039a732-3b05-4247-b91d-480f51fa59ca",
   "metadata": {},
   "outputs": [],
   "source": [
    "# EMPIRICAL DATA\n",
    "data_lens = [1, 2, 4, 8]\n",
    "x_obs = [np.random.binomial(1, 0.5, size = data_lens[i]) for i in range(len(data_lens))]\n"
   ]
  },
  {
   "cell_type": "code",
   "execution_count": 27,
   "id": "57f50b6b-5264-404f-bf79-f130ab0cd297",
   "metadata": {},
   "outputs": [
    {
     "data": {
      "text/plain": [
       "[array([1]),\n",
       " array([1, 0]),\n",
       " array([0, 1, 1, 1]),\n",
       " array([1, 1, 0, 1, 1, 0, 0, 0])]"
      ]
     },
     "execution_count": 27,
     "metadata": {},
     "output_type": "execute_result"
    }
   ],
   "source": [
    "x_obs"
   ]
  },
  {
   "cell_type": "code",
   "execution_count": 28,
   "id": "722abf7b-91c2-4b0f-be51-faf429ab9903",
   "metadata": {},
   "outputs": [
    {
     "name": "stdout",
     "output_type": "stream",
     "text": [
      "1000 of 2000 samples gathered...\n",
      "2000 of 2000 samples gathered...\n",
      "Accepted / Total Samples for Epsilon 0.0 and Dataset-size 1: 0.4830917874396135\n",
      "1000 of 2000 samples gathered...\n",
      "2000 of 2000 samples gathered...\n",
      "Accepted / Total Samples for Epsilon 2.0 and Dataset-size 1: 1.0\n",
      "1000 of 2000 samples gathered...\n",
      "2000 of 2000 samples gathered...\n",
      "Accepted / Total Samples for Epsilon 4.0 and Dataset-size 1: 1.0\n",
      "1000 of 2000 samples gathered...\n",
      "2000 of 2000 samples gathered...\n",
      "Accepted / Total Samples for Epsilon 0.0 and Dataset-size 2: 0.16516640515319184\n",
      "1000 of 2000 samples gathered...\n",
      "2000 of 2000 samples gathered...\n",
      "Accepted / Total Samples for Epsilon 2.0 and Dataset-size 2: 1.0\n",
      "1000 of 2000 samples gathered...\n",
      "2000 of 2000 samples gathered...\n",
      "Accepted / Total Samples for Epsilon 4.0 and Dataset-size 2: 1.0\n",
      "1000 of 2000 samples gathered...\n",
      "2000 of 2000 samples gathered...\n",
      "Accepted / Total Samples for Epsilon 0.0 and Dataset-size 4: 0.04775549188156638\n",
      "1000 of 2000 samples gathered...\n",
      "2000 of 2000 samples gathered...\n",
      "Accepted / Total Samples for Epsilon 2.0 and Dataset-size 4: 0.648508430609598\n",
      "1000 of 2000 samples gathered...\n",
      "2000 of 2000 samples gathered...\n",
      "Accepted / Total Samples for Epsilon 4.0 and Dataset-size 4: 1.0\n",
      "1000 of 2000 samples gathered...\n",
      "2000 of 2000 samples gathered...\n",
      "Accepted / Total Samples for Epsilon 0.0 and Dataset-size 8: 0.0015302359317759613\n",
      "1000 of 2000 samples gathered...\n",
      "2000 of 2000 samples gathered...\n",
      "Accepted / Total Samples for Epsilon 2.0 and Dataset-size 8: 0.09131586156515387\n",
      "1000 of 2000 samples gathered...\n",
      "2000 of 2000 samples gathered...\n",
      "Accepted / Total Samples for Epsilon 4.0 and Dataset-size 8: 0.7312614259597806\n"
     ]
    }
   ],
   "source": [
    "# # EMPIRICAL DATA\n",
    "# data_lens = [1, 2, 4, 8]\n",
    "# x_obs = [np.random.binomial(1, 0.5, size = data_lens[i]) for i in range(len(data_lens))]\n",
    "\n",
    "# TRUE POSTERIOR\n",
    "true_post = [np.random.beta(1 + np.sum(x_obs[i]), 1 + data_lens[i] - np.sum(x_obs[i]), size = 2000) for i in range(len(data_lens))]\n",
    " \n",
    "# PRIOR \n",
    "prior = partial(np.random.beta, **{'a': 1, 'b': 1})\n",
    "\n",
    "\n",
    "# SIMULATOR\n",
    "def simulator_bernoulli(params = 0, size = 1):\n",
    "    assert (type(params) == float) or (params.shape[0] == 1), 'Simulator takes in single parameter, you supplied the wrong data format and / or at least two parameters'\n",
    "    return np.random.binomial(1, params, size = size)\n",
    "\n",
    "# GET REJECTION SAMPLES FOR MULTIPLE EPSILONS\n",
    "n_samples_to_get = 2000\n",
    "epsilons = [0.0, 2.0, 4.0]\n",
    "accepted_samples_multi_len = []\n",
    "\n",
    "for i in range(len(data_lens)):\n",
    "    accepted_samples = []\n",
    "    for epsilon_tmp in epsilons:\n",
    "        accepted_samples.append(rejection_sampler(x_obs = x_obs[i], \n",
    "                                                  prior = prior, \n",
    "                                                  simulator = simulator_bernoulli, \n",
    "                                                  epsilon = epsilon_tmp, \n",
    "                                                  n_samples = n_samples_to_get,\n",
    "                                                  update_freq = 1000))\n",
    "\n",
    "    accepted_samples_multi_len.append(deepcopy(np.expand_dims(np.column_stack(accepted_samples), 0))) #.reshape(-1, n_samples_to_get)\n",
    "\n",
    "accepted_samples_multi_len = np.row_stack(accepted_samples_multi_len)"
   ]
  },
  {
   "cell_type": "code",
   "execution_count": 29,
   "id": "3bbc8fc0-4a8d-4722-86fa-f3f4743d96f0",
   "metadata": {},
   "outputs": [
    {
     "data": {
      "image/png": "[encoded data removed]",
      "text/plain": [
       "<Figure size 864x2160 with 4 Axes>"
      ]
     },
     "metadata": {
      "needs_background": "light"
     },
     "output_type": "display_data"
    }
   ],
   "source": [
    "# PLOTTING\n",
    "fig, ax = plt.subplots(len(data_lens), 1, figsize = (12, 30))\n",
    "\n",
    "for i in range(len(data_lens)):\n",
    "    epsilon_cnt = 0\n",
    "    for epsilon_tmp in epsilons:\n",
    "        ax[i].hist(accepted_samples_multi_len[i, :, epsilon_cnt], #epsilon_cnt, :], \n",
    "                  histtype = 'step', \n",
    "                 color = 'black', \n",
    "                 alpha = 1 / (1 + epsilon_tmp), \n",
    "                 density = True,\n",
    "                 bins = 20, \n",
    "                 label = r'$\\epsilon$ ' + str(epsilon_tmp))\n",
    "        \n",
    "        ax[i].set_xlim((0, 1))\n",
    "        epsilon_cnt += 1\n",
    "        \n",
    "    ax[i].hist(true_post[i], histtype = 'step', \n",
    "                color = 'red', \n",
    "                alpha = 1.0, \n",
    "                density = True,\n",
    "                bins = 20, \n",
    "                label = 'True posterior')\n",
    "    ax[i].legend(prop = {'size': 15})\n",
    "    ax[i].set_title('N coinflips: ' + str(data_lens[i]), size = 16)"
   ]
  },
  {
   "cell_type": "markdown",
   "id": "b726298f-056d-4f60-a274-99e19d553bcb",
   "metadata": {},
   "source": [
    "## EXAMPLE: BERNOULLI WITH SUMMARY STATISTICS\n",
    "\n",
    "It turns out that for a sequence of **Bernoulli Trials** (Coin Flips), we only need to know the **number of heads** to estimate the probability of success.\n",
    "\n",
    "So instead of matching exact sequences of $0$'s and $1$'s, we can only focus on matching **head counts**.\n",
    "\n",
    "This returns our probem back to a **one dimensional matching**, and we should observe much better **acceptance probabilities**. \n",
    "\n",
    "Lets see ...."
   ]
  },
  {
   "cell_type": "code",
   "execution_count": 30,
   "id": "dda210f5-049f-4352-bed5-12ae191be8e2",
   "metadata": {},
   "outputs": [
    {
     "name": "stdout",
     "output_type": "stream",
     "text": [
      "1000 of 2000 samples gathered...\n",
      "2000 of 2000 samples gathered...\n",
      "Accepted / Total Samples for Epsilon 0.0 and Dataset-size 1: 0.5013787916771121\n",
      "1000 of 2000 samples gathered...\n",
      "2000 of 2000 samples gathered...\n",
      "Accepted / Total Samples for Epsilon 2.0 and Dataset-size 1: 1.0\n",
      "1000 of 2000 samples gathered...\n",
      "2000 of 2000 samples gathered...\n",
      "Accepted / Total Samples for Epsilon 4.0 and Dataset-size 1: 1.0\n",
      "1000 of 2000 samples gathered...\n",
      "2000 of 2000 samples gathered...\n",
      "Accepted / Total Samples for Epsilon 0.0 and Dataset-size 2: 0.34036759700476515\n",
      "1000 of 2000 samples gathered...\n",
      "2000 of 2000 samples gathered...\n",
      "Accepted / Total Samples for Epsilon 2.0 and Dataset-size 2: 1.0\n",
      "1000 of 2000 samples gathered...\n",
      "2000 of 2000 samples gathered...\n",
      "Accepted / Total Samples for Epsilon 4.0 and Dataset-size 2: 1.0\n",
      "1000 of 2000 samples gathered...\n",
      "2000 of 2000 samples gathered...\n",
      "Accepted / Total Samples for Epsilon 0.0 and Dataset-size 4: 0.20195900232252853\n",
      "1000 of 2000 samples gathered...\n",
      "2000 of 2000 samples gathered...\n",
      "Accepted / Total Samples for Epsilon 2.0 and Dataset-size 4: 0.5891016200294551\n",
      "1000 of 2000 samples gathered...\n",
      "2000 of 2000 samples gathered...\n",
      "Accepted / Total Samples for Epsilon 4.0 and Dataset-size 4: 1.0\n",
      "1000 of 2000 samples gathered...\n",
      "2000 of 2000 samples gathered...\n",
      "Accepted / Total Samples for Epsilon 0.0 and Dataset-size 8: 0.10968520346605243\n",
      "1000 of 2000 samples gathered...\n",
      "2000 of 2000 samples gathered...\n",
      "Accepted / Total Samples for Epsilon 2.0 and Dataset-size 8: 0.5583472920156337\n",
      "1000 of 2000 samples gathered...\n",
      "2000 of 2000 samples gathered...\n",
      "Accepted / Total Samples for Epsilon 4.0 and Dataset-size 8: 0.7818608287724785\n",
      "1000 of 2000 samples gathered...\n",
      "2000 of 2000 samples gathered...\n",
      "Accepted / Total Samples for Epsilon 0.0 and Dataset-size 16: 0.05708088361207832\n",
      "1000 of 2000 samples gathered...\n",
      "2000 of 2000 samples gathered...\n",
      "Accepted / Total Samples for Epsilon 2.0 and Dataset-size 16: 0.2868617326448652\n",
      "1000 of 2000 samples gathered...\n",
      "2000 of 2000 samples gathered...\n",
      "Accepted / Total Samples for Epsilon 4.0 and Dataset-size 16: 0.5227391531625719\n",
      "1000 of 2000 samples gathered...\n",
      "2000 of 2000 samples gathered...\n",
      "Accepted / Total Samples for Epsilon 0.0 and Dataset-size 32: 0.03134452332816149\n",
      "1000 of 2000 samples gathered...\n",
      "2000 of 2000 samples gathered...\n",
      "Accepted / Total Samples for Epsilon 2.0 and Dataset-size 32: 0.15248551387618176\n",
      "1000 of 2000 samples gathered...\n",
      "2000 of 2000 samples gathered...\n",
      "Accepted / Total Samples for Epsilon 4.0 and Dataset-size 32: 0.27078256160303277\n"
     ]
    }
   ],
   "source": [
    "# Our empirical data\n",
    "data_lens = [1, 2, 4, 8, 16, 32]\n",
    "x_obs = [np.random.binomial(data_lens[i], 0.5) for i in range(len(data_lens))]\n",
    "\n",
    "# True posterior\n",
    "true_post = [np.random.beta(1 + x_obs[i], 1 + data_lens[i] - x_obs[i], size = 2000) for i in range(len(data_lens))]\n",
    "\n",
    "# PRIOR \n",
    "prior = partial(np.random.beta, **{'a': 1, 'b': 1})\n",
    "\n",
    "\n",
    "# SIMULATOR\n",
    "def simulator_binomial(params = 0, size = 1, **kwargs):\n",
    "    assert (type(params) == float) or (params.shape[0] == 1), 'Simulator takes in single parameter, you supplied the wrong data format and / or at least two parameters'\n",
    "    return np.random.binomial(kwargs['n'], params, size = 1)\n",
    "\n",
    "# GET REJECTION SAMPLES FOR MULTIPLE EPSILONS\n",
    "n_samples_to_get = 2000\n",
    "epsilons = [0.0, 2.0, 4.0]\n",
    "accepted_samples_multi_len = []\n",
    "\n",
    "for i in range(len(data_lens)):\n",
    "    accepted_samples = []\n",
    "    for epsilon_tmp in epsilons:\n",
    "        accepted_samples.append(rejection_sampler(x_obs = x_obs[i],\n",
    "                                                  prior = prior, \n",
    "                                                  simulator = simulator_binomial, \n",
    "                                                  epsilon = epsilon_tmp, \n",
    "                                                  n_samples = n_samples_to_get,\n",
    "                                                  update_freq = 1000,\n",
    "                                                  **{'n': data_lens[i]}))\n",
    "\n",
    "    accepted_samples_multi_len.append(deepcopy(np.expand_dims(np.column_stack(accepted_samples), 0))) #.reshape(-1, n_samples_to_get)\n",
    "\n",
    "accepted_samples_multi_len = np.row_stack(accepted_samples_multi_len)"
   ]
  },
  {
   "cell_type": "markdown",
   "id": "f9fe7ba3-decb-44b8-bc37-7f5af286a69d",
   "metadata": {},
   "source": [
    "## NOTE:\n",
    "\n",
    "We observe a great improvement in acceptance rate over matchine sequences directly, but using **low dimensional summary statistics** !"
   ]
  },
  {
   "cell_type": "code",
   "execution_count": null,
   "id": "46b4ddd4-0ccb-4624-9d8d-9adef9461fb9",
   "metadata": {},
   "outputs": [],
   "source": [
    "# PLOTTING\n",
    "fig, ax = plt.subplots(len(data_lens), 1, figsize = (12, 50))\n",
    "\n",
    "for i in range(len(data_lens)):\n",
    "    epsilon_cnt = 0\n",
    "    for epsilon_tmp in epsilons:\n",
    "        ax[i].hist(accepted_samples_multi_len[i, :, epsilon_cnt], \n",
    "                 histtype = 'step', \n",
    "                 color = 'black', \n",
    "                 alpha = 1 / (1 + epsilon_tmp), \n",
    "                 bins = 20, \n",
    "                 label = r'$\\epsilon$ ' + str(epsilon_tmp))\n",
    "        \n",
    "        ax[i].set_xlim((0, 1))\n",
    "        epsilon_cnt += 1\n",
    "        \n",
    "    ax[i].hist(true_post[i], histtype = 'step', \n",
    "                color = 'red', \n",
    "                alpha = 1.0, \n",
    "                bins = 20, \n",
    "                label = 'True posterior')\n",
    "    ax[i].legend()\n",
    "    ax[i].set_title('N coinflips: ' + str(data_lens[i]), size = 16)"
   ]
  },
  {
   "cell_type": "markdown",
   "id": "f89d90c9-638f-44c3-88dc-d9456e4b513d",
   "metadata": {},
   "source": [
    "## Notes\n",
    "\n",
    "Low dimensional summaries of the data are important for sampling efficiency (this concept is still important for modern methods).\n",
    "\n",
    "Standard statistical models (especially those part of the **Exponential Family**) tend to have these low dimensional summary statistics. \n",
    "\n",
    "The formal notion is called **Sufficient Statistic**: A low dimensional summary of the data, which *preserves all information about the parameters*. \n",
    "\n",
    "**Well known example**: If your data comes from a *Normal Distribution*, you can summarize it with $\\hat{\\mu}$, the **sample mean** and $\\hat{\\sigma^2}$, **the sample variance**."
   ]
  },
  {
   "cell_type": "markdown",
   "id": "0805472e-51ca-4cdb-ad2f-5c2ccf17b662",
   "metadata": {},
   "source": [
    "# ANY QUESTIONS ABOUT THIS PART ? "
   ]
  }
 ],
 "metadata": {
  "kernelspec": {
   "display_name": "lanfactory",
   "language": "python",
   "name": "lanfactory"
  },
  "language_info": {
   "codemirror_mode": {
    "name": "ipython",
    "version": 3
   },
   "file_extension": ".py",
   "mimetype": "text/x-python",
   "name": "python",
   "nbconvert_exporter": "python",
   "pygments_lexer": "ipython3",
   "version": "3.7.10"
  }
 },
 "nbformat": 4,
 "nbformat_minor": 5
}
