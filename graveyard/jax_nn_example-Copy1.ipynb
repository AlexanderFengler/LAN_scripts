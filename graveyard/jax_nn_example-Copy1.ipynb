{
 "cells": [
  {
   "cell_type": "code",
   "execution_count": 1,
   "id": "81022860-b1d3-4f89-8815-f75968b90ea9",
   "metadata": {},
   "outputs": [],
   "source": [
    "import jax.numpy as jnp\n",
    "from jax import grad, jit, vmap\n",
    "from jax import random\n",
    "from torchvision.transforms import ToTensor"
   ]
  },
  {
   "cell_type": "code",
   "execution_count": 2,
   "id": "030a73ff-59c6-4a10-9eec-20ad367381e6",
   "metadata": {},
   "outputs": [
    {
     "name": "stderr",
     "output_type": "stream",
     "text": [
      "WARNING:absl:No GPU/TPU found, falling back to CPU. (Set TF_CPP_MIN_LOG_LEVEL=0 and rerun for more info.)\n"
     ]
    },
    {
     "name": "stdout",
     "output_type": "stream",
     "text": [
      "[[2285895361 1501764800]\n",
      " [1518642379 4090693311]\n",
      " [ 433833334 4221794875]\n",
      " [ 839183663 3740430601]]\n",
      "[784, 512, 512]\n",
      "[512, 512, 10]\n"
     ]
    }
   ],
   "source": [
    "def random_layer_params(m, n, key, scale=1e-2):\n",
    "    w_key, b_key = random.split(key)\n",
    "    return scale * random.normal(w_key, (n, m)), scale * random.normal(b_key, (n, ))\n",
    "    \n",
    "def init_network_params(sizes, key):\n",
    "    keys = random.split(key, len(sizes))\n",
    "    \n",
    "    print(keys)\n",
    "    print(sizes[:-1])\n",
    "    print(sizes[1:])\n",
    "    return [random_layer_params(m, n, k) for m, n, k in zip(sizes[:-1], \n",
    "                                                            sizes[1:], \n",
    "                                                            keys)]\n",
    "\n",
    "layer_sizes = [784, 512, 512,10]\n",
    "step_size = 0.01\n",
    "num_epochs = 8\n",
    "batch_size = 128\n",
    "n_targets = 10\n",
    "params = init_network_params(layer_sizes, random.PRNGKey(0))"
   ]
  },
  {
   "cell_type": "code",
   "execution_count": 3,
   "id": "e3b9bc01-db7f-4718-ba05-5cf3e0bf60ca",
   "metadata": {},
   "outputs": [],
   "source": [
    "import jax"
   ]
  },
  {
   "cell_type": "code",
   "execution_count": 4,
   "id": "54c4d590-bcbe-4f8f-98a8-78ed352f68be",
   "metadata": {},
   "outputs": [
    {
     "data": {
      "text/plain": [
       "<CompiledFunction of <function _one_to_one_unop.<locals>.<lambda> at 0x7fb2083b8cb0>>"
      ]
     },
     "execution_count": 4,
     "metadata": {},
     "output_type": "execute_result"
    }
   ],
   "source": [
    "jax.numpy.tanh"
   ]
  },
  {
   "cell_type": "code",
   "execution_count": 5,
   "id": "e5019448-139f-4b92-8a67-d0e3f117bdf0",
   "metadata": {},
   "outputs": [],
   "source": [
    "from jax.scipy.special import logsumexp\n",
    "\n",
    "def relu(x):\n",
    "    return jnp.maximum(0, x)\n",
    "\n",
    "def tanh(x):\n",
    "    return jnp.tanh(x)\n",
    "\n",
    "def selu(x):\n",
    "    return jax.nn.selu(x)\n",
    "\n",
    "\n",
    "def predict(params, image):\n",
    "    activations = image\n",
    "    for w, b in params[:-1]:\n",
    "        outputs = jnp.dot(w, activations) + b\n",
    "        activations = relu(outputs)\n",
    "    \n",
    "    final_w, final_b = params[-1]\n",
    "    logits = jnp.dot(final_w, activations) + final_b\n",
    "    return logits - logsumexp(logits)"
   ]
  },
  {
   "cell_type": "code",
   "execution_count": 6,
   "id": "80449b77-8574-482f-8402-157b1dcfca37",
   "metadata": {},
   "outputs": [],
   "source": [
    "random_flattened_images = random.normal(random.PRNGKey(1), (10, 28 * 28))"
   ]
  },
  {
   "cell_type": "code",
   "execution_count": 7,
   "id": "4845f8aa-b558-4d84-9318-61ab6514c1b7",
   "metadata": {},
   "outputs": [],
   "source": [
    "batched_predict = vmap(predict, in_axes = (None, 0))\n",
    "batched_predict_alt = vmap(predict, in_axes = (0, 0))"
   ]
  },
  {
   "cell_type": "code",
   "execution_count": 8,
   "id": "72a85151-4784-49fb-9543-fda1e9090d22",
   "metadata": {},
   "outputs": [
    {
     "name": "stdout",
     "output_type": "stream",
     "text": [
      "(10, 10)\n"
     ]
    }
   ],
   "source": [
    "batched_preds = batched_predict(params, random_flattened_images)\n",
    "print(batched_preds.shape)"
   ]
  },
  {
   "cell_type": "code",
   "execution_count": 115,
   "id": "880e05eb-7829-46a0-a71e-c608f8512533",
   "metadata": {},
   "outputs": [],
   "source": [
    "def one_hot(x, k, dtype=jnp.float32):\n",
    "  \"\"\"Create a one-hot encoding of x of size k.\"\"\"\n",
    "  return jnp.array(x[:, None] == jnp.arange(k), dtype)\n",
    "  \n",
    "def accuracy(params, images, targets):\n",
    "    target_class = jnp.argmax(targets, axis=1)\n",
    "    predicted_class = jnp.argmax(batched_predict(params, images), axis=1)\n",
    "    return jnp.mean(predicted_class == target_class)\n",
    "\n",
    "def loss(params, images, targets):\n",
    "    preds = batched_predict(params, images)\n",
    "    \n",
    "    return -jnp.mean(preds * targets)\n",
    "\n",
    "@jit\n",
    "def update(params, x, y):\n",
    "    grads = grad(loss)(params, x, y)\n",
    "    return [(w - step_size * dw, b - step_size * db)\n",
    "          for (w, b), (dw, db) in zip(params, grads)]"
   ]
  },
  {
   "cell_type": "code",
   "execution_count": 108,
   "id": "539022f5-c66c-4651-a82d-b199f2920da3",
   "metadata": {},
   "outputs": [],
   "source": [
    "import numpy as np\n",
    "from torch.utils import data\n",
    "from torchvision.datasets import MNIST\n",
    "\n",
    "def numpy_collate(batch):\n",
    "#     print('called')\n",
    "#     print(type(batch))\n",
    "#     print(len(batch))\n",
    "    #print(batch[0])\n",
    "    if isinstance(batch[0], np.ndarray):\n",
    "        return np.stack(batch)\n",
    "    elif isinstance(batch[0], (tuple,list)):\n",
    "        transposed = zip(*batch)\n",
    "        return [numpy_collate(samples) for samples in transposed]\n",
    "    else:\n",
    "        return np.array(batch)\n",
    "\n",
    "class NumpyLoader(data.DataLoader):\n",
    "    def __init__(self, dataset, batch_size=1,\n",
    "                shuffle=False, sampler=None,\n",
    "                batch_sampler=None, num_workers=0,\n",
    "                pin_memory=False, drop_last=False,\n",
    "                timeout=0, worker_init_fn=None):\n",
    "        super(self.__class__, self).__init__(dataset,\n",
    "            batch_size=batch_size,\n",
    "            shuffle=shuffle,\n",
    "            sampler=sampler,\n",
    "            batch_sampler=batch_sampler,\n",
    "            num_workers=num_workers,\n",
    "            collate_fn=numpy_collate,\n",
    "            pin_memory=pin_memory,\n",
    "            drop_last=drop_last,\n",
    "            timeout=timeout,\n",
    "            worker_init_fn=worker_init_fn)\n",
    "\n",
    "# This is applied when the __getitem__ method in the dataset (mnist_dataset below)\n",
    "# is invoked\n",
    "class FlattenAndCast(object):\n",
    "    def __call__(self, pic):\n",
    "        #print(pic)\n",
    "        return np.ravel(np.array(pic, dtype=jnp.float32)).astype(jnp.float32)"
   ]
  },
  {
   "cell_type": "code",
   "execution_count": 109,
   "id": "53ba7050-f7eb-4400-8585-d33f54b1409b",
   "metadata": {},
   "outputs": [],
   "source": [
    "# Define our dataset, using torch datasets\n",
    "mnist_dataset = MNIST('data/mnist/', \n",
    "                      download=True,\n",
    "                      transform=FlattenAndCast())\n",
    "training_generator = NumpyLoader(mnist_dataset, \n",
    "                                 batch_size=batch_size,\n",
    "                                 num_workers=0)"
   ]
  },
  {
   "cell_type": "code",
   "execution_count": 116,
   "id": "8487501e-0ee1-4197-a652-24323a1dbc1e",
   "metadata": {},
   "outputs": [],
   "source": [
    "# Get the full train dataset ( for checking accuracy while training)\n",
    "train_images = np.array(mnist_dataset.data[500:, :, :]).reshape(len(mnist_dataset.data[500:]), - 1) \n",
    "train_labels = one_hot(np.array(mnist_dataset.targets[500:]), n_targets)                                                                  \n",
    "\n",
    "# Get test dataset\n",
    "test_images = np.array(mnist_dataset.data[:500, :, :]).reshape(len(mnist_dataset.data[:500]), - 1) \n",
    "test_labels = one_hot(np.array(mnist_dataset.targets[:500]), n_targets) "
   ]
  },
  {
   "cell_type": "code",
   "execution_count": 117,
   "id": "19eb2006-cc72-409f-8bf0-ea940bfd4212",
   "metadata": {},
   "outputs": [
    {
     "name": "stdout",
     "output_type": "stream",
     "text": [
      "Epoch 0 in 5.89 sec\n",
      "Training set accuracy 0.942874014377594\n",
      "Test set accuracy 0.9500000476837158\n",
      "Epoch 1 in 5.57 sec\n",
      "Training set accuracy 0.9526386857032776\n",
      "Test set accuracy 0.956000030040741\n",
      "Epoch 2 in 5.16 sec\n",
      "Training set accuracy 0.960084080696106\n",
      "Test set accuracy 0.9600000381469727\n",
      "Epoch 3 in 5.27 sec\n",
      "Training set accuracy 0.9652605652809143\n",
      "Test set accuracy 0.9620000720024109\n",
      "Epoch 4 in 5.37 sec\n",
      "Training set accuracy 0.9689244031906128\n",
      "Test set accuracy 0.968000054359436\n",
      "Epoch 5 in 5.19 sec\n",
      "Training set accuracy 0.9720168709754944\n",
      "Test set accuracy 0.9720000624656677\n",
      "Epoch 6 in 5.29 sec\n",
      "Training set accuracy 0.974907636642456\n",
      "Test set accuracy 0.9720000624656677\n",
      "Epoch 7 in 5.29 sec\n",
      "Training set accuracy 0.9772941470146179\n",
      "Test set accuracy 0.9740000367164612\n"
     ]
    }
   ],
   "source": [
    "import time\n",
    "\n",
    "for epoch in range(num_epochs):\n",
    "    start_time = time.time()\n",
    "    for x, y in training_generator:\n",
    "        y = one_hot(y, n_targets)\n",
    "        params = update(params, x, y)\n",
    "    epoch_time = time.time() - start_time\n",
    "\n",
    "    train_acc = accuracy(params, train_images, train_labels)\n",
    "    test_acc = accuracy(params, test_images, test_labels)\n",
    "    print(\"Epoch {} in {:0.2f} sec\".format(epoch, epoch_time))\n",
    "    print(\"Training set accuracy {}\".format(train_acc))\n",
    "    print(\"Test set accuracy {}\".format(test_acc))"
   ]
  },
  {
   "cell_type": "code",
   "execution_count": null,
   "id": "e2c5c542-8726-4d1b-ac18-e3146370cb52",
   "metadata": {},
   "outputs": [],
   "source": []
  }
 ],
 "metadata": {
  "kernelspec": {
   "display_name": "lanfactory",
   "language": "python",
   "name": "lanfactory"
  },
  "language_info": {
   "codemirror_mode": {
    "name": "ipython",
    "version": 3
   },
   "file_extension": ".py",
   "mimetype": "text/x-python",
   "name": "python",
   "nbconvert_exporter": "python",
   "pygments_lexer": "ipython3",
   "version": "3.7.10"
  }
 },
 "nbformat": 4,
 "nbformat_minor": 5
}
