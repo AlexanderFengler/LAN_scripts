{
 "cells": [
  {
   "cell_type": "code",
   "execution_count": 23,
   "id": "aee1a6a5-c200-4663-94b2-e30a82b481f4",
   "metadata": {},
   "outputs": [],
   "source": [
    "import jax\n",
    "import jax.numpy as jnp\n",
    "from jax import grad, jit, vmap\n",
    "from jax import random"
   ]
  },
  {
   "cell_type": "code",
   "execution_count": 2,
   "id": "e81a614b-1016-4829-a439-12315cd0f6b5",
   "metadata": {},
   "outputs": [
    {
     "name": "stderr",
     "output_type": "stream",
     "text": [
      "WARNING:absl:No GPU/TPU found, falling back to CPU. (Set TF_CPP_MIN_LOG_LEVEL=0 and rerun for more info.)\n"
     ]
    },
    {
     "name": "stdout",
     "output_type": "stream",
     "text": [
      "[-0.3721109   0.26423115 -0.18252768 -0.7368197  -0.44030377 -0.1521442\n",
      " -0.67135346 -0.5908641   0.73168886  0.5673026 ]\n"
     ]
    }
   ],
   "source": [
    "key = random.PRNGKey(0)\n",
    "x = random.normal(key, (10, ))\n",
    "print(x)"
   ]
  },
  {
   "cell_type": "code",
   "execution_count": 5,
   "id": "1646dad1-18ff-4371-847a-e66a8e3d5379",
   "metadata": {},
   "outputs": [
    {
     "name": "stdout",
     "output_type": "stream",
     "text": [
      "208 µs ± 6.92 µs per loop (mean ± std. dev. of 7 runs, 1000 loops each)\n"
     ]
    }
   ],
   "source": [
    "size = 150\n",
    "x = random.normal(key, (size, size), dtype = jnp.float32)\n",
    "%timeit jnp.dot(x, x.T).block_until_ready()  # runs on the GPU"
   ]
  },
  {
   "cell_type": "code",
   "execution_count": 6,
   "id": "82e63dc0-7f5f-4d58-a205-222d90a12c90",
   "metadata": {},
   "outputs": [
    {
     "name": "stdout",
     "output_type": "stream",
     "text": [
      "137 µs ± 2.12 µs per loop (mean ± std. dev. of 7 runs, 10000 loops each)\n"
     ]
    }
   ],
   "source": [
    "import numpy as np\n",
    "x = np.random.normal(size = (size, size)).astype(np.float32)\n",
    "%timeit jnp.dot(x, x.T).block_until_ready()"
   ]
  },
  {
   "cell_type": "markdown",
   "id": "05b79a06-be99-41fb-8fc0-2f10af5b2339",
   "metadata": {},
   "source": [
    "#### Using `jit()`"
   ]
  },
  {
   "cell_type": "code",
   "execution_count": 7,
   "id": "1916b8e5-e357-4099-a42f-7b1a5756d87a",
   "metadata": {},
   "outputs": [
    {
     "name": "stdout",
     "output_type": "stream",
     "text": [
      "1.98 ms ± 204 µs per loop (mean ± std. dev. of 7 runs, 1000 loops each)\n"
     ]
    }
   ],
   "source": [
    "def selu(x, alpha = 1.67, lmbda=1.05):\n",
    "    return lmbda * jnp.where(x > 0, x, alpha * jnp.exp(x) - alpha)\n",
    "\n",
    "x = random.normal(key, (1000000, ))\n",
    "%timeit selu(x).block_until_ready()"
   ]
  },
  {
   "cell_type": "code",
   "execution_count": 8,
   "id": "63a89ed5-13c8-4b52-97ed-36ad1fe2533c",
   "metadata": {},
   "outputs": [
    {
     "name": "stdout",
     "output_type": "stream",
     "text": [
      "403 µs ± 7.92 µs per loop (mean ± std. dev. of 7 runs, 1000 loops each)\n"
     ]
    }
   ],
   "source": [
    "selu_jit = jit(selu)\n",
    "%timeit selu_jit(x).block_until_ready()"
   ]
  },
  {
   "cell_type": "code",
   "execution_count": 12,
   "id": "56c178b6-a460-4033-92ed-7b6505c06f91",
   "metadata": {},
   "outputs": [
    {
     "name": "stdout",
     "output_type": "stream",
     "text": [
      "[0.25       0.19661197 0.10499357]\n"
     ]
    }
   ],
   "source": [
    "def sum_logistic(x):\n",
    "    return jnp.sum(1.0 / (1.0 + jnp.exp(-x)))\n",
    "\n",
    "x_small = jnp.arange(3.)\n",
    "\n",
    "derivative_fn = grad(sum_logistic)\n",
    "\n",
    "print(derivative_fn(x_small))"
   ]
  },
  {
   "cell_type": "code",
   "execution_count": 9,
   "id": "3cd0f415-a0c2-43df-bd69-0d94c0b2c109",
   "metadata": {},
   "outputs": [
    {
     "data": {
      "text/plain": [
       "DeviceArray([0., 1., 2.], dtype=float32)"
      ]
     },
     "execution_count": 9,
     "metadata": {},
     "output_type": "execute_result"
    }
   ],
   "source": [
    "jnp.arange(3.)"
   ]
  },
  {
   "cell_type": "markdown",
   "id": "4201f01e-00fe-4a3a-a1a6-8eea349fe78a",
   "metadata": {},
   "source": [
    "#### Using `vmap()`"
   ]
  },
  {
   "cell_type": "code",
   "execution_count": 3,
   "id": "aeb4f9fe-a4de-4479-aabf-e3fd1e2dd5be",
   "metadata": {},
   "outputs": [],
   "source": [
    "mat = random.normal(key, (150, 100))\n",
    "batched_x = random.normal(key, (10, 100))\n",
    "\n",
    "def apply_matrix(v):\n",
    "    return jnp.dot(mat, v)"
   ]
  },
  {
   "cell_type": "code",
   "execution_count": 4,
   "id": "ef752280-55bf-4e9c-b39d-9abae3c012b0",
   "metadata": {},
   "outputs": [],
   "source": [
    "def naively_batched_apply_matrix(v_batched):\n",
    "    return jnp.stack([apply_matrix(v) for v in v_batched])"
   ]
  },
  {
   "cell_type": "code",
   "execution_count": 6,
   "id": "b444c06b-f991-4c12-ad6a-40548bdc4742",
   "metadata": {},
   "outputs": [
    {
     "name": "stdout",
     "output_type": "stream",
     "text": [
      "1.4 ms ± 3.22 µs per loop (mean ± std. dev. of 7 runs, 1000 loops each)\n"
     ]
    }
   ],
   "source": [
    "%timeit naively_batched_apply_matrix(batched_x).block_until_ready()"
   ]
  },
  {
   "cell_type": "code",
   "execution_count": 15,
   "id": "07a77ae3-68b0-4df4-9cff-d92da3b978cd",
   "metadata": {},
   "outputs": [],
   "source": []
  },
  {
   "cell_type": "markdown",
   "id": "e45d2ad9-55e0-48eb-a63b-d16902122b85",
   "metadata": {},
   "source": [
    "#### A simple Training loop in JAX"
   ]
  },
  {
   "cell_type": "code",
   "execution_count": 18,
   "id": "7533dc00-821a-408c-a118-c20a04708fad",
   "metadata": {},
   "outputs": [
    {
     "data": {
      "text/plain": [
       "<matplotlib.collections.PathCollection at 0x7f51583be550>"
      ]
     },
     "execution_count": 18,
     "metadata": {},
     "output_type": "execute_result"
    },
    {
     "data": {
      "image/png": "[encoded data removed]",
      "text/plain": [
       "<Figure size 432x288 with 1 Axes>"
      ]
     },
     "metadata": {
      "needs_background": "light"
     },
     "output_type": "display_data"
    }
   ],
   "source": [
    "import numpy as np\n",
    "import matplotlib.pyplot as plt\n",
    "\n",
    "xs = np.random.normal(size = (100, ))\n",
    "noise = np.random.normal(scale = 0.1, size = (100, ))\n",
    "ys = xs * 3 - 1 + noise\n",
    "\n",
    "plt.scatter(xs, ys)"
   ]
  },
  {
   "cell_type": "code",
   "execution_count": 19,
   "id": "7e5ba0e4-f6a6-432c-9a45-5ed8230df3be",
   "metadata": {},
   "outputs": [],
   "source": [
    "def model(theta, x):\n",
    "    \"\"\"Computes wx + b on a batch of input x.\"\"\"\n",
    "    w, b = theta\n",
    "    return w * x + b"
   ]
  },
  {
   "cell_type": "code",
   "execution_count": 20,
   "id": "fa11c6fd-3837-49bd-a0da-3970b50a9b1d",
   "metadata": {},
   "outputs": [],
   "source": [
    "def loss_fn(theta, x, y):\n",
    "    prediction = model(theta, x)\n",
    "    return jnp.mean((prediction - y) ** 2)"
   ]
  },
  {
   "cell_type": "code",
   "execution_count": 21,
   "id": "dcdec31c-f330-4cf0-bbd0-ad15e05f5172",
   "metadata": {},
   "outputs": [],
   "source": [
    "def update(theta, x, y, lr=0.1):\n",
    "    return theta - lr * jax.grad(loss_fn)(theta, x, y)"
   ]
  },
  {
   "cell_type": "code",
   "execution_count": 36,
   "id": "f8fc8c22-7f5b-447d-a5b7-93acc7124cf5",
   "metadata": {},
   "outputs": [
    {
     "name": "stdout",
     "output_type": "stream",
     "text": [
      "w: 3.00, b: -1.02\n"
     ]
    },
    {
     "data": {
      "image/png": "[encoded data removed]",
      "text/plain": [
       "<Figure size 432x288 with 1 Axes>"
      ]
     },
     "metadata": {
      "needs_background": "light"
     },
     "output_type": "display_data"
    }
   ],
   "source": [
    "theta = jnp.array([0., 0.])\n",
    "for _ in range(50):\n",
    "  theta = update(theta, xs, ys)\n",
    "  plt.plot(xs, model(theta, xs), alpha = 0.10, color = 'black')\n",
    "\n",
    "plt.scatter(xs, ys, color = 'yellow', alpha = 0.5)\n",
    "\n",
    "w, b = theta\n",
    "print(f\"w: {w:<.2f}, b: {b:<.2f}\")"
   ]
  },
  {
   "cell_type": "markdown",
   "id": "0c00da9e-e8b6-4077-a701-4b5be1bb1827",
   "metadata": {},
   "source": [
    "#### Higher Order Derivatives\n",
    "\n",
    "##### Scalar case"
   ]
  },
  {
   "cell_type": "code",
   "execution_count": 42,
   "id": "0deff26d-1e14-4bd3-bccd-8be27c66fa01",
   "metadata": {},
   "outputs": [],
   "source": [
    "f = lambda x: x**3 + 2*x**2 - 3*x + 1\n",
    "dfdx = jax.grad(f)\n",
    "d2fdx = jax.grad(dfdx)"
   ]
  },
  {
   "cell_type": "code",
   "execution_count": 44,
   "id": "d759a3eb-c788-4b46-b113-0cdd26cf2c3e",
   "metadata": {},
   "outputs": [
    {
     "name": "stdout",
     "output_type": "stream",
     "text": [
      "4.0\n",
      "10.0\n"
     ]
    }
   ],
   "source": [
    "print(dfdx(1.0))\n",
    "print(d2fdx(1.0))"
   ]
  },
  {
   "cell_type": "markdown",
   "id": "5112e66d-be1a-475d-86d1-b330ae050c35",
   "metadata": {},
   "source": [
    "##### Multivariate case"
   ]
  },
  {
   "cell_type": "code",
   "execution_count": 49,
   "id": "3d0c8d6e-aeee-4040-9657-b1b933356c89",
   "metadata": {},
   "outputs": [],
   "source": [
    "def hessian(f):\n",
    "    return jax.jacfwd(jax.grad(f))\n",
    "\n",
    "def hessian_naive(f):\n",
    "    return jax.jacrev(jax.grad(f))"
   ]
  },
  {
   "cell_type": "code",
   "execution_count": 46,
   "id": "1ed0341b-5249-4758-9686-e299cab52b92",
   "metadata": {},
   "outputs": [],
   "source": [
    "def f(x):\n",
    "    return jnp.dot(x, x)"
   ]
  },
  {
   "cell_type": "code",
   "execution_count": 55,
   "id": "be1f70b9-68f4-43d4-943a-b96e4c1924a0",
   "metadata": {},
   "outputs": [
    {
     "name": "stdout",
     "output_type": "stream",
     "text": [
      "2.97 ms ± 30.8 µs per loop (mean ± std. dev. of 7 runs, 100 loops each)\n"
     ]
    }
   ],
   "source": [
    "%timeit hessian(f)(jnp.array([1., 2., 3.]))"
   ]
  },
  {
   "cell_type": "code",
   "execution_count": 56,
   "id": "4fcc76e2-8d33-4ace-b9af-7f405422b74c",
   "metadata": {},
   "outputs": [
    {
     "name": "stdout",
     "output_type": "stream",
     "text": [
      "3.77 ms ± 56.5 µs per loop (mean ± std. dev. of 7 runs, 100 loops each)\n"
     ]
    }
   ],
   "source": [
    "%timeit hessian_naive(f)(jnp.array([1., 2., 3.]))"
   ]
  },
  {
   "cell_type": "markdown",
   "id": "a5b863b3-3a6d-481e-b1a9-57ba8e39a22c",
   "metadata": {},
   "source": [
    "#### Random Numbers"
   ]
  },
  {
   "cell_type": "code",
   "execution_count": 57,
   "id": "a00f4494-ec19-4751-bde2-4373d9ab5abd",
   "metadata": {},
   "outputs": [
    {
     "name": "stdout",
     "output_type": "stream",
     "text": [
      "[ 0 42]\n"
     ]
    }
   ],
   "source": [
    "from jax import random\n",
    "\n",
    "key = random.PRNGKey(42)\n",
    "print(key)"
   ]
  },
  {
   "cell_type": "code",
   "execution_count": 59,
   "id": "b76071b5-b59c-4f9a-b15d-7be246e27d41",
   "metadata": {},
   "outputs": [
    {
     "name": "stdout",
     "output_type": "stream",
     "text": [
      "-0.18471177\n",
      "-0.18471177\n"
     ]
    }
   ],
   "source": [
    "print(random.normal(key))\n",
    "print(random.normal(key))"
   ]
  },
  {
   "cell_type": "markdown",
   "id": "731ad69b-4159-4568-887a-72b7c0f9a3ab",
   "metadata": {},
   "source": [
    "Instead of reusing keys, we want to generate new keys all the time."
   ]
  },
  {
   "cell_type": "code",
   "execution_count": 60,
   "id": "a88c882f-40f8-45e0-b37e-1de67165aa0b",
   "metadata": {},
   "outputs": [
    {
     "name": "stdout",
     "output_type": "stream",
     "text": [
      "old key [ 0 42]\n",
      "    \\---SPLIT --> new key    [2465931498 3679230171]\n",
      "             \\--> new subkey [255383827 267815257] --> normal 1.3694694\n"
     ]
    }
   ],
   "source": [
    "print(\"old key\", key)\n",
    "new_key, subkey = random.split(key)\n",
    "del key  # The old key is discarded -- we must never use it again.\n",
    "normal_sample = random.normal(subkey)\n",
    "print(r\"    \\---SPLIT --> new key   \", new_key)\n",
    "print(r\"             \\--> new subkey\", subkey, \"--> normal\", normal_sample)\n",
    "del subkey  # The subkey is also discarded after use.\n",
    "\n",
    "# Note: you don't actually need to `del` keys -- that's just for emphasis.\n",
    "# Not reusing the same values is enough.\n",
    "\n",
    "key = new_key  # If we wanted to do this again, we would use new_key as the key."
   ]
  },
  {
   "cell_type": "markdown",
   "id": "166a6397-7328-499e-abfb-f81d658eae8e",
   "metadata": {},
   "source": [
    "One more example illustrating key behavior."
   ]
  },
  {
   "cell_type": "code",
   "execution_count": 61,
   "id": "4cf5e532-fe0e-41c8-bbc3-34710353011c",
   "metadata": {},
   "outputs": [
    {
     "name": "stdout",
     "output_type": "stream",
     "text": [
      "individually: [-0.04838832  0.10796154 -1.2226542 ]\n",
      "all at once:  [ 0.18693547 -1.2806505  -1.5593132 ]\n"
     ]
    }
   ],
   "source": [
    "key = random.PRNGKey(42)\n",
    "subkeys = random.split(key, 3)\n",
    "sequence = np.stack([random.normal(subkey) for subkey in subkeys])\n",
    "print(\"individually:\", sequence)\n",
    "\n",
    "key = random.PRNGKey(42)\n",
    "print(\"all at once: \", random.normal(key, shape=(3,)))"
   ]
  },
  {
   "cell_type": "markdown",
   "id": "15574162-6edb-432b-a758-0a7978e44049",
   "metadata": {},
   "source": [
    "#### pytree s"
   ]
  },
  {
   "cell_type": "code",
   "execution_count": 62,
   "id": "88cdf852-17ab-4593-9d29-09d506c74208",
   "metadata": {},
   "outputs": [
    {
     "name": "stdout",
     "output_type": "stream",
     "text": [
      "[1, 'a', <object object at 0x7f508dec4850>]   has 3 leaves: [1, 'a', <object object at 0x7f508dec4850>]\n",
      "(1, (2, 3), ())                               has 3 leaves: [1, 2, 3]\n",
      "[1, {'k1': 2, 'k2': (3, 4)}, 5]               has 5 leaves: [1, 2, 3, 4, 5]\n",
      "{'a': 2, 'b': (2, 3)}                         has 3 leaves: [2, 2, 3]\n",
      "DeviceArray([1, 2, 3], dtype=int32)           has 1 leaves: [DeviceArray([1, 2, 3], dtype=int32)]\n"
     ]
    }
   ],
   "source": [
    "import jax\n",
    "import jax.numpy as jnp\n",
    "\n",
    "example_trees = [\n",
    "                    [1, 'a', object()],\n",
    "                    (1, (2, 3), ()),\n",
    "                    [1, {'k1': 2, 'k2': (3, 4)}, 5],\n",
    "                    {'a': 2, 'b': (2, 3)},\n",
    "                    jnp.array([1, 2, 3]),\n",
    "                 ]\n",
    "\n",
    "# Let's see how many leaves they have:\n",
    "for pytree in example_trees:\n",
    "  leaves = jax.tree_leaves(pytree)\n",
    "  print(f\"{repr(pytree):<45} has {len(leaves)} leaves: {leaves}\")"
   ]
  },
  {
   "cell_type": "markdown",
   "id": "1dd3f0ac-14c3-42b9-9c4c-c33383e164bd",
   "metadata": {},
   "source": [
    "#### pytrees for MLP training"
   ]
  },
  {
   "cell_type": "code",
   "execution_count": 81,
   "id": "c8661012-587a-4434-b16b-74d22516f451",
   "metadata": {},
   "outputs": [],
   "source": [
    "import numpy as np\n",
    "\n",
    "def init_mlp_params(layer_widths):\n",
    "    params = []\n",
    "    for n_in, n_out in zip(layer_widths[:-1], layer_widths[1:]):\n",
    "        params.append(\n",
    "            dict(weights=np.random.normal(size=(n_in, n_out)) * np.sqrt(2/n_in),\n",
    "                 biases=np.ones(shape=(n_out,))\n",
    "                )\n",
    "        )\n",
    "    return params\n",
    "\n",
    "params = init_mlp_params([1, 128, 128, 1])"
   ]
  },
  {
   "cell_type": "code",
   "execution_count": 82,
   "id": "617735bb-5897-4dd7-a1b7-b5f358b13d95",
   "metadata": {},
   "outputs": [
    {
     "data": {
      "text/plain": [
       "[{'biases': (128,), 'weights': (1, 128)},\n",
       " {'biases': (128,), 'weights': (128, 128)},\n",
       " {'biases': (1,), 'weights': (128, 1)}]"
      ]
     },
     "execution_count": 82,
     "metadata": {},
     "output_type": "execute_result"
    }
   ],
   "source": [
    "jax.tree_map(lambda x: x.shape, params)"
   ]
  },
  {
   "cell_type": "code",
   "execution_count": 83,
   "id": "9f31281a-24a6-403d-ac76-098152f87900",
   "metadata": {},
   "outputs": [],
   "source": [
    "def forward(params, x):\n",
    "    *hidden, last = params\n",
    "    for layer in hidden:\n",
    "        x = jax.nn.relu(x @ layer['weights'] + layer['biases'])\n",
    "    return x @ last['weights'] + last['biases']\n",
    "\n",
    "def loss_fn(params, x, y):\n",
    "    return jnp.mean((forward(params, x) - y) ** 2)\n",
    "\n",
    "LEARNING_RATE = 0.0001\n",
    "\n",
    "@jax.jit\n",
    "def update(params, x, y):\n",
    "    grads = jax.grad(loss_fn)(params, x, y)\n",
    "    # Note that `grads` is a pytree with the same structure as `params`.\n",
    "    # `jax.grad` is one of the many JAX functions that has\n",
    "    # built-in support for pytrees.\n",
    "\n",
    "    # This is handy, because we can apply the SGD update using tree utils:\n",
    "    return jax.tree_map(lambda p, \n",
    "                        g: p - LEARNING_RATE * g, \n",
    "                        params, \n",
    "                        grads)"
   ]
  },
  {
   "cell_type": "code",
   "execution_count": 101,
   "id": "7d353e23-3424-45ce-8d97-a077b53f1dce",
   "metadata": {},
   "outputs": [
    {
     "name": "stderr",
     "output_type": "stream",
     "text": [
      "WARNING:matplotlib.legend:No handles with labels found to put in legend.\n"
     ]
    },
    {
     "data": {
      "image/png": "[encoded data removed]",
      "text/plain": [
       "<Figure size 432x288 with 1 Axes>"
      ]
     },
     "metadata": {
      "needs_background": "light"
     },
     "output_type": "display_data"
    }
   ],
   "source": [
    "import matplotlib.pyplot as plt\n",
    "\n",
    "params = init_mlp_params([1, 128, 128, 1])\n",
    "\n",
    "xs = np.random.normal(size=(128, 1))\n",
    "ys = xs ** 2\n",
    "\n",
    "for _ in range(100):\n",
    "  params = update(params, xs, ys)\n",
    "  plt.scatter(xs, forward(params, xs), alpha = (10 + i) / 110, marker = '.',\n",
    "             color = 'black')\n",
    "\n",
    "plt.scatter(xs, ys, marker = '+', color = 'red')\n",
    "#plt.scatter(xs, forward(params, xs), label='Model prediction')\n",
    "plt.legend();"
   ]
  },
  {
   "cell_type": "markdown",
   "id": "cd68fdab-9bb5-4e36-bb74-389f5d103391",
   "metadata": {},
   "source": [
    "#### transposing pytrees"
   ]
  },
  {
   "cell_type": "code",
   "execution_count": 109,
   "id": "def8de80-d2f2-42d3-85f3-21e5b402923f",
   "metadata": {},
   "outputs": [
    {
     "data": {
      "text/plain": [
       "{'obs': [3, 4], 't': [1, 2]}"
      ]
     },
     "execution_count": 109,
     "metadata": {},
     "output_type": "execute_result"
    }
   ],
   "source": [
    "def tree_transpose(list_of_trees):\n",
    "  \"\"\"Convert a list of trees of identical structure into a single tree of lists.\"\"\"\n",
    "  return jax.tree_map(lambda *xs: list(xs), *list_of_trees)\n",
    "\n",
    "# Convert a dataset from row-major to column-major:\n",
    "episode_steps = [dict(t=1, obs=3), dict(t=2, obs=4)]\n",
    "tree_transpose(episode_steps)"
   ]
  },
  {
   "cell_type": "code",
   "execution_count": 106,
   "id": "7fd8a12e-7cae-4e69-8af3-0c380d33277d",
   "metadata": {},
   "outputs": [
    {
     "ename": "SyntaxError",
     "evalue": "starred assignment target must be in a list or tuple (<ipython-input-106-b302c791ec12>, line 4)",
     "output_type": "error",
     "traceback": [
      "\u001b[0;36m  File \u001b[0;32m\"<ipython-input-106-b302c791ec12>\"\u001b[0;36m, line \u001b[0;32m4\u001b[0m\n\u001b[0;31mSyntaxError\u001b[0m\u001b[0;31m:\u001b[0m starred assignment target must be in a list or tuple\n"
     ]
    }
   ],
   "source": [
    "*lot = episode_steps"
   ]
  },
  {
   "cell_type": "markdown",
   "id": "196c7624-8f2b-4256-b074-4b26ac0b7b55",
   "metadata": {},
   "source": []
  }
 ],
 "metadata": {
  "kernelspec": {
   "display_name": "lanfactory",
   "language": "python",
   "name": "lanfactory"
  },
  "language_info": {
   "codemirror_mode": {
    "name": "ipython",
    "version": 3
   },
   "file_extension": ".py",
   "mimetype": "text/x-python",
   "name": "python",
   "nbconvert_exporter": "python",
   "pygments_lexer": "ipython3",
   "version": "3.7.10"
  }
 },
 "nbformat": 4,
 "nbformat_minor": 5
}
