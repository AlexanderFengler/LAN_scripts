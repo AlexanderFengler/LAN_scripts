{
 "cells": [
  {
   "cell_type": "code",
   "execution_count": 1,
   "id": "c0123d5b-8970-4f97-86ee-2c5548907df9",
   "metadata": {},
   "outputs": [],
   "source": [
    "#import numba\n",
    "import ssms\n",
    "import numpy as np\n",
    "import matplotlib.pyplot as plt\n",
    "from time import time"
   ]
  },
  {
   "cell_type": "code",
   "execution_count": 30,
   "id": "8a1f194c-8f72-4e42-b150-16b9185b6af2",
   "metadata": {},
   "outputs": [
    {
     "data": {
      "text/plain": [
       "[0.0, 0.0, 0.0, 0.5, 1.0, 1.0, 1.0, 1.0, 2, 2]"
      ]
     },
     "execution_count": 30,
     "metadata": {},
     "output_type": "execute_result"
    }
   ],
   "source": [
    "model = 'ddm_mic2_adj_gamma_conflict_no_bias'\n",
    "\n",
    "ssms.config.model_config[model]['default_params']\n"
   ]
  },
  {
   "cell_type": "code",
   "execution_count": 31,
   "id": "92bbf890-536c-4721-9068-bac69b5a4d70",
   "metadata": {},
   "outputs": [
    {
     "data": {
      "text/plain": [
       "{'name': 'ddm_mic2_gamma_conflict_no_bias',\n",
       " 'params': ['vh',\n",
       "  'vl1',\n",
       "  'vl2',\n",
       "  'd',\n",
       "  't',\n",
       "  'a',\n",
       "  'theta',\n",
       "  'scale',\n",
       "  'alpha_gamma',\n",
       "  'scale_gamma'],\n",
       " 'param_bounds': [[-4.0, -4.0, -4.0, 0.0, 0.0, 0.3, 0.0, 0.0, 1.1, 0.5],\n",
       "  [4.0, 4.0, 4.0, 1.0, 2.0, 2.5, 0.5, 5.0, 5.0, 5.0]],\n",
       " 'boundary': <function ssms.basic_simulators.boundary_functions.gamma_conflict_bound(t=array([ 0. ,  0.1,  0.2,  0.3,  0.4,  0.5,  0.6,  0.7,  0.8,  0.9,  1. ,\n",
       "        1.1,  1.2,  1.3,  1.4,  1.5,  1.6,  1.7,  1.8,  1.9,  2. ,  2.1,\n",
       "        2.2,  2.3,  2.4,  2.5,  2.6,  2.7,  2.8,  2.9,  3. ,  3.1,  3.2,\n",
       "        3.3,  3.4,  3.5,  3.6,  3.7,  3.8,  3.9,  4. ,  4.1,  4.2,  4.3,\n",
       "        4.4,  4.5,  4.6,  4.7,  4.8,  4.9,  5. ,  5.1,  5.2,  5.3,  5.4,\n",
       "        5.5,  5.6,  5.7,  5.8,  5.9,  6. ,  6.1,  6.2,  6.3,  6.4,  6.5,\n",
       "        6.6,  6.7,  6.8,  6.9,  7. ,  7.1,  7.2,  7.3,  7.4,  7.5,  7.6,\n",
       "        7.7,  7.8,  7.9,  8. ,  8.1,  8.2,  8.3,  8.4,  8.5,  8.6,  8.7,\n",
       "        8.8,  8.9,  9. ,  9.1,  9.2,  9.3,  9.4,  9.5,  9.6,  9.7,  9.8,\n",
       "        9.9, 10. , 10.1, 10.2, 10.3, 10.4, 10.5, 10.6, 10.7, 10.8, 10.9,\n",
       "       11. , 11.1, 11.2, 11.3, 11.4, 11.5, 11.6, 11.7, 11.8, 11.9, 12. ,\n",
       "       12.1, 12.2, 12.3, 12.4, 12.5, 12.6, 12.7, 12.8, 12.9, 13. , 13.1,\n",
       "       13.2, 13.3, 13.4, 13.5, 13.6, 13.7, 13.8, 13.9, 14. , 14.1, 14.2,\n",
       "       14.3, 14.4, 14.5, 14.6, 14.7, 14.8, 14.9, 15. , 15.1, 15.2, 15.3,\n",
       "       15.4, 15.5, 15.6, 15.7, 15.8, 15.9, 16. , 16.1, 16.2, 16.3, 16.4,\n",
       "       16.5, 16.6, 16.7, 16.8, 16.9, 17. , 17.1, 17.2, 17.3, 17.4, 17.5,\n",
       "       17.6, 17.7, 17.8, 17.9, 18. , 18.1, 18.2, 18.3, 18.4, 18.5, 18.6,\n",
       "       18.7, 18.8, 18.9, 19. , 19.1, 19.2, 19.3, 19.4, 19.5, 19.6, 19.7,\n",
       "       19.8, 19.9]), a=0.5, theta=0.5, scale=1, alpha_gamma=1.01, scale_gamma=0.3)>,\n",
       " 'n_params': 10,\n",
       " 'default_params': [0.0, 0.0, 0.0, 0.5, 1.0, 1.0, 1.0, 1.0, 2, 2],\n",
       " 'hddm_include': ['vh',\n",
       "  'vl1',\n",
       "  'vl2',\n",
       "  'a',\n",
       "  'd',\n",
       "  't',\n",
       "  'theta',\n",
       "  'scale',\n",
       "  'alpha_gamma',\n",
       "  'scale_gamma'],\n",
       " 'nchoices': 4}"
      ]
     },
     "execution_count": 31,
     "metadata": {},
     "output_type": "execute_result"
    }
   ],
   "source": [
    "ssms.config.model_config[model]"
   ]
  },
  {
   "cell_type": "code",
   "execution_count": 41,
   "id": "a0140b14-b492-411b-809c-1e24a9db8e5b",
   "metadata": {},
   "outputs": [
    {
     "name": "stdout",
     "output_type": "stream",
     "text": [
      "3.4150732\n",
      "3.4150732\n",
      "3.4150732\n",
      "3.4150732\n"
     ]
    },
    {
     "data": {
      "image/png": "[encoded data removed]",
      "text/plain": [
       "<Figure size 432x288 with 1 Axes>"
      ]
     },
     "metadata": {
      "needs_background": "light"
     },
     "output_type": "display_data"
    }
   ],
   "source": [
    "#d_s = [0, 0.25, 0.5, 1]\n",
    "\n",
    "theta = ssms.config.model_config[model]['default_params']\n",
    "theta[0] = 2 # v_h\n",
    "theta[1] = 2 # v_l1\n",
    "theta[2] = 2 # v_l2\n",
    "theta[5] = 2 # a\n",
    "theta[6] = 0.3 # theta\n",
    "theta[7] = 5\n",
    "theta[8] = 4\n",
    "\n",
    "out = ssms.basic_simulators.simulator(theta = theta,\n",
    "                                      model = model,\n",
    "                                      n_samples = 20000)\n",
    "\n",
    "#if d == 0:\n",
    "color = ['blue', 'red', 'orange', 'green']\n",
    "cnt = 0\n",
    "for c in [0, 1, 2, 3]:\n",
    "    plt.hist(out['rts'][out['choices'] == c], range = (0, 20), bins = 160, histtype = 'step', color = color[c])\n",
    "    cnt += 1\n",
    "    print(np.mean(out['rts']))\n",
    "                                                                                                       \n",
    "#else:\n",
    "#plt.hist(out['rts'][out['choices'] == 3], range = (0, 1), bins = 100, histtype = 'step', alpha = d, color = 'black')"
   ]
  },
  {
   "cell_type": "code",
   "execution_count": 42,
   "id": "850c4bb7-8dbb-4fac-b7ac-232c7d256e4b",
   "metadata": {},
   "outputs": [
    {
     "data": {
      "text/plain": [
       "[<matplotlib.lines.Line2D at 0x7f703b442050>]"
      ]
     },
     "execution_count": 42,
     "metadata": {},
     "output_type": "execute_result"
    },
    {
     "data": {
      "image/png": "[encoded data removed]",
      "text/plain": [
       "<Figure size 432x288 with 1 Axes>"
      ]
     },
     "metadata": {
      "needs_background": "light"
     },
     "output_type": "display_data"
    }
   ],
   "source": [
    "t_vec = np.arange(0, 20, 0.01)\n",
    "bound = ssms.basic_simulators.gamma_conflict_bound(t= t_vec,\n",
    "                                           a = theta[5],\n",
    "                                           theta = theta[6],\n",
    "                                           scale = theta[7],\n",
    "                                           alpha_gamma = theta[8],\n",
    "                                           scale_gamma = theta[9])\n",
    "plt.plot(t_vec, bound)\n",
    "plt.plot(t_vec, -bound)"
   ]
  },
  {
   "cell_type": "code",
   "execution_count": 5,
   "id": "45e36d5f-74cb-47d9-a9f8-5a2029603df4",
   "metadata": {},
   "outputs": [
    {
     "name": "stdout",
     "output_type": "stream",
     "text": [
      "1.3640604\n",
      "1.3640604\n",
      "1.3640604\n",
      "1.3640604\n"
     ]
    },
    {
     "data": {
      "image/png": "[encoded data removed]",
      "text/plain": [
       "<Figure size 432x288 with 1 Axes>"
      ]
     },
     "metadata": {
      "needs_background": "light"
     },
     "output_type": "display_data"
    }
   ],
   "source": [
    "model = 'ddm_mic2_adj_no_bias'\n",
    "#d_s = [0, 0.25, 0.5, 1]\n",
    "\n",
    "theta = [0.0, 0.0, 2.0, 1.0, 0.0, 0.0]\n",
    "out = ssms.basic_simulators.simulator(theta = theta,\n",
    "                                      model = model,\n",
    "                                      n_samples = 20000)\n",
    "\n",
    "#if d == 0:\n",
    "color = ['blue', 'red', 'orange', 'green']\n",
    "cnt = 0\n",
    "for c in [0, 1, 2, 3]:\n",
    "    plt.hist(out['rts'][out['choices'] == c], range = (0, 20), bins = 160, histtype = 'step', color = color[c])\n",
    "    cnt += 1\n",
    "    print(np.mean(out['rts']))\n",
    "                                                                                                       \n",
    "#else:\n",
    "#plt.hist(out['rts'][out['choices'] == 3], range = (0, 1), bins = 100, histtype = 'step', alpha = d, color = 'black')"
   ]
  },
  {
   "cell_type": "code",
   "execution_count": 9,
   "id": "7cc53cc0-1db0-4940-b52b-c754e2cedea4",
   "metadata": {},
   "outputs": [
    {
     "name": "stdout",
     "output_type": "stream",
     "text": [
      "1.310778\n",
      "1.310778\n",
      "1.310778\n",
      "1.310778\n"
     ]
    },
    {
     "data": {
      "image/png": "[encoded data removed]",
      "text/plain": [
       "<Figure size 432x288 with 1 Axes>"
      ]
     },
     "metadata": {
      "needs_background": "light"
     },
     "output_type": "display_data"
    }
   ],
   "source": [
    "model = 'ddm_mic2_adj_no_bias'\n",
    "#d_s = [0, 0.25, 0.5, 1]\n",
    "\n",
    "theta = [0.0, 0.0, 2.0, 1.0, 1.0, 0.0]\n",
    "out = ssms.basic_simulators.simulator(theta = theta,\n",
    "                                      model = model,\n",
    "                                      n_samples = 20000)\n",
    "\n",
    "#if d == 0:\n",
    "color = ['blue', 'red', 'orange', 'green']\n",
    "cnt = 0\n",
    "for c in [0, 1, 2, 3]:\n",
    "    plt.hist(out['rts'][out['choices'] == c], range = (0, 20), bins = 160, histtype = 'step', color = color[c])\n",
    "    cnt += 1\n",
    "    print(np.mean(out['rts']))\n",
    "                                                                                                       \n",
    "#else:\n",
    "#plt.hist(out['rts'][out['choices'] == 3], range = (0, 1), bins = 100, histtype = 'step', alpha = d, color = 'black')"
   ]
  },
  {
   "cell_type": "code",
   "execution_count": 5,
   "id": "cb8917c9-3267-473a-9619-cfa7a29f5193",
   "metadata": {},
   "outputs": [
    {
     "name": "stdout",
     "output_type": "stream",
     "text": [
      "1.8097922\n",
      "1.8097922\n",
      "1.8097922\n",
      "1.8097922\n"
     ]
    },
    {
     "data": {
      "image/png": "[encoded data removed]",
      "text/plain": [
       "<Figure size 432x288 with 1 Axes>"
      ]
     },
     "metadata": {
      "needs_background": "light"
     },
     "output_type": "display_data"
    }
   ],
   "source": [
    "model = 'ddm_seq2_no_bias'\n",
    "#d_s = [0, 0.25, 0.5, 1]\n",
    "\n",
    "theta = [0.0, 1.0, 1.0, 1.0, 0.0]\n",
    "out = ssms.basic_simulators.simulator(theta = theta,\n",
    "                                      model = model,\n",
    "                                      n_samples = 50000)\n",
    "\n",
    "#if d == 0:\n",
    "color = ['blue', 'red', 'orange', 'green']\n",
    "cnt = 0\n",
    "for c in [0, 1, 2, 3]:\n",
    "    plt.hist(out['rts'][out['choices'] == c], range = (0, 20), bins = 160, histtype = 'step', color = color[c])\n",
    "    cnt += 1\n",
    "    print(np.mean(out['rts']))\n",
    "                                                                                                       \n",
    "#else:\n",
    "#plt.hist(out['rts'][out['choices'] == 3], range = (0, 1), bins = 100, histtype = 'step', alpha = d, color = 'black')"
   ]
  },
  {
   "cell_type": "code",
   "execution_count": 15,
   "id": "06cb677d-5d00-4fad-bdf8-4f687de8385c",
   "metadata": {},
   "outputs": [
    {
     "data": {
      "text/plain": [
       "array([-0.        , -0.00546302, -0.01092605, -0.01638907, -0.0218521 ,\n",
       "       -0.02731512, -0.03277815, -0.03824117, -0.0437042 , -0.04916722,\n",
       "       -0.05463025, -0.06009327, -0.0655563 , -0.07101932, -0.07648235,\n",
       "       -0.08194537, -0.0874084 , -0.09287142, -0.09833445, -0.10379747,\n",
       "       -0.1092605 , -0.11472352, -0.12018655, -0.12564957, -0.1311126 ,\n",
       "       -0.13657562, -0.14203865, -0.14750167, -0.1529647 , -0.15842772,\n",
       "       -0.16389075, -0.16935377, -0.1748168 , -0.18027982, -0.18574285,\n",
       "       -0.19120587, -0.1966689 , -0.20213192, -0.20759495, -0.21305797,\n",
       "       -0.218521  , -0.22398402, -0.22944705, -0.23491007, -0.2403731 ,\n",
       "       -0.24583612, -0.25129915, -0.25676217, -0.2622252 , -0.26768822,\n",
       "       -0.27315124, -0.27861427, -0.28407729, -0.28954032, -0.29500334,\n",
       "       -0.30046637, -0.30592939, -0.31139242, -0.31685544, -0.32231847,\n",
       "       -0.32778149, -0.33324452, -0.33870754, -0.34417057, -0.34963359,\n",
       "       -0.35509662, -0.36055964, -0.36602267, -0.37148569, -0.37694872,\n",
       "       -0.38241174, -0.38787477, -0.39333779, -0.39880082, -0.40426384,\n",
       "       -0.40972687, -0.41518989, -0.42065292, -0.42611594, -0.43157897,\n",
       "       -0.43704199, -0.44250502, -0.44796804, -0.45343107, -0.45889409,\n",
       "       -0.46435712, -0.46982014, -0.47528317, -0.48074619, -0.48620922,\n",
       "       -0.49167224, -0.49713527, -0.50259829, -0.50806132, -0.51352434,\n",
       "       -0.51898737, -0.52445039, -0.52991342, -0.53537644, -0.54083946,\n",
       "       -0.54630249, -0.55176551, -0.55722854, -0.56269156, -0.56815459,\n",
       "       -0.57361761, -0.57908064, -0.58454366, -0.59000669, -0.59546971,\n",
       "       -0.60093274, -0.60639576, -0.61185879, -0.61732181, -0.62278484,\n",
       "       -0.62824786, -0.63371089, -0.63917391, -0.64463694, -0.65009996,\n",
       "       -0.65556299, -0.66102601, -0.66648904, -0.67195206, -0.67741509,\n",
       "       -0.68287811, -0.68834114, -0.69380416, -0.69926719, -0.70473021,\n",
       "       -0.71019324, -0.71565626, -0.72111929, -0.72658231, -0.73204534,\n",
       "       -0.73750836, -0.74297139, -0.74843441, -0.75389744, -0.75936046,\n",
       "       -0.76482349, -0.77028651, -0.77574954, -0.78121256, -0.78667559,\n",
       "       -0.79213861, -0.79760164, -0.80306466, -0.80852768, -0.81399071,\n",
       "       -0.81945373, -0.82491676, -0.83037978, -0.83584281, -0.84130583,\n",
       "       -0.84676886, -0.85223188, -0.85769491, -0.86315793, -0.86862096,\n",
       "       -0.87408398, -0.87954701, -0.88501003, -0.89047306, -0.89593608,\n",
       "       -0.90139911, -0.90686213, -0.91232516, -0.91778818, -0.92325121,\n",
       "       -0.92871423, -0.93417726, -0.93964028, -0.94510331, -0.95056633,\n",
       "       -0.95602936, -0.96149238, -0.96695541, -0.97241843, -0.97788146,\n",
       "       -0.98334448, -0.98880751, -0.99427053, -0.99973356, -1.00519658,\n",
       "       -1.01065961, -1.01612263, -1.02158566, -1.02704868, -1.03251171,\n",
       "       -1.03797473, -1.04343776, -1.04890078, -1.05436381, -1.05982683,\n",
       "       -1.06528986, -1.07075288, -1.0762159 , -1.08167893, -1.08714195,\n",
       "       -1.09260498, -1.098068  , -1.10353103, -1.10899405, -1.11445708,\n",
       "       -1.1199201 , -1.12538313, -1.13084615, -1.13630918, -1.1417722 ,\n",
       "       -1.14723523, -1.15269825, -1.15816128, -1.1636243 , -1.16908733,\n",
       "       -1.17455035, -1.18001338, -1.1854764 , -1.19093943, -1.19640245,\n",
       "       -1.20186548, -1.2073285 , -1.21279153, -1.21825455, -1.22371758,\n",
       "       -1.2291806 , -1.23464363, -1.24010665, -1.24556968, -1.2510327 ,\n",
       "       -1.25649573, -1.26195875, -1.26742178, -1.2728848 , -1.27834783,\n",
       "       -1.28381085, -1.28927388, -1.2947369 , -1.30019993, -1.30566295,\n",
       "       -1.31112598, -1.316589  , -1.32205203, -1.32751505, -1.33297808,\n",
       "       -1.3384411 , -1.34390413, -1.34936715, -1.35483017, -1.3602932 ,\n",
       "       -1.36575622, -1.37121925, -1.37668227, -1.3821453 , -1.38760832,\n",
       "       -1.39307135, -1.39853437, -1.4039974 , -1.40946042, -1.41492345,\n",
       "       -1.42038647, -1.4258495 , -1.43131252, -1.43677555, -1.44223857,\n",
       "       -1.4477016 , -1.45316462, -1.45862765, -1.46409067, -1.4695537 ,\n",
       "       -1.47501672, -1.48047975, -1.48594277, -1.4914058 , -1.49686882,\n",
       "       -1.50233185, -1.50779487, -1.5132579 , -1.51872092, -1.52418395,\n",
       "       -1.52964697, -1.53511   , -1.54057302, -1.54603605, -1.55149907,\n",
       "       -1.5569621 , -1.56242512, -1.56788815, -1.57335117, -1.5788142 ,\n",
       "       -1.58427722, -1.58974025, -1.59520327, -1.6006663 , -1.60612932,\n",
       "       -1.61159235, -1.61705537, -1.62251839, -1.62798142, -1.63344444,\n",
       "       -1.63890747, -1.64437049, -1.64983352, -1.65529654, -1.66075957,\n",
       "       -1.66622259, -1.67168562, -1.67714864, -1.68261167, -1.68807469,\n",
       "       -1.69353772, -1.69900074, -1.70446377, -1.70992679, -1.71538982,\n",
       "       -1.72085284, -1.72631587, -1.73177889, -1.73724192, -1.74270494,\n",
       "       -1.74816797, -1.75363099, -1.75909402, -1.76455704, -1.77002007,\n",
       "       -1.77548309, -1.78094612, -1.78640914, -1.79187217, -1.79733519,\n",
       "       -1.80279822, -1.80826124, -1.81372427, -1.81918729, -1.82465032,\n",
       "       -1.83011334, -1.83557637, -1.84103939, -1.84650242, -1.85196544,\n",
       "       -1.85742847, -1.86289149, -1.86835452, -1.87381754, -1.87928057,\n",
       "       -1.88474359, -1.89020661, -1.89566964, -1.90113266, -1.90659569,\n",
       "       -1.91205871, -1.91752174, -1.92298476, -1.92844779, -1.93391081,\n",
       "       -1.93937384, -1.94483686, -1.95029989, -1.95576291, -1.96122594,\n",
       "       -1.96668896, -1.97215199, -1.97761501, -1.98307804, -1.98854106,\n",
       "       -1.99400409, -1.99946711, -2.00493014, -2.01039316, -2.01585619,\n",
       "       -2.02131921, -2.02678224, -2.03224526, -2.03770829, -2.04317131,\n",
       "       -2.04863434, -2.05409736, -2.05956039, -2.06502341, -2.07048644,\n",
       "       -2.07594946, -2.08141249, -2.08687551, -2.09233854, -2.09780156,\n",
       "       -2.10326459, -2.10872761, -2.11419064, -2.11965366, -2.12511669,\n",
       "       -2.13057971, -2.13604274, -2.14150576, -2.14696879, -2.15243181,\n",
       "       -2.15789483, -2.16335786, -2.16882088, -2.17428391, -2.17974693,\n",
       "       -2.18520996, -2.19067298, -2.19613601, -2.20159903, -2.20706206,\n",
       "       -2.21252508, -2.21798811, -2.22345113, -2.22891416, -2.23437718,\n",
       "       -2.23984021, -2.24530323, -2.25076626, -2.25622928, -2.26169231,\n",
       "       -2.26715533, -2.27261836, -2.27808138, -2.28354441, -2.28900743,\n",
       "       -2.29447046, -2.29993348, -2.30539651, -2.31085953, -2.31632256,\n",
       "       -2.32178558, -2.32724861, -2.33271163, -2.33817466, -2.34363768,\n",
       "       -2.34910071, -2.35456373, -2.36002676, -2.36548978, -2.37095281,\n",
       "       -2.37641583, -2.38187886, -2.38734188, -2.39280491, -2.39826793,\n",
       "       -2.40373096, -2.40919398, -2.41465701, -2.42012003, -2.42558305,\n",
       "       -2.43104608, -2.4365091 , -2.44197213, -2.44743515, -2.45289818,\n",
       "       -2.4583612 , -2.46382423, -2.46928725, -2.47475028, -2.4802133 ,\n",
       "       -2.48567633, -2.49113935, -2.49660238, -2.5020654 , -2.50752843,\n",
       "       -2.51299145, -2.51845448, -2.5239175 , -2.52938053, -2.53484355,\n",
       "       -2.54030658, -2.5457696 , -2.55123263, -2.55669565, -2.56215868,\n",
       "       -2.5676217 , -2.57308473, -2.57854775, -2.58401078, -2.5894738 ,\n",
       "       -2.59493683, -2.60039985, -2.60586288, -2.6113259 , -2.61678893,\n",
       "       -2.62225195, -2.62771498, -2.633178  , -2.63864103, -2.64410405,\n",
       "       -2.64956708, -2.6550301 , -2.66049313, -2.66595615, -2.67141918,\n",
       "       -2.6768822 , -2.68234523, -2.68780825, -2.69327127, -2.6987343 ,\n",
       "       -2.70419732, -2.70966035, -2.71512337, -2.7205864 , -2.72604942])"
      ]
     },
     "execution_count": 15,
     "metadata": {},
     "output_type": "execute_result"
    }
   ],
   "source": [
    "ssms.basic_simulators.angle(t = np.arange(0, 5, 0.01), theta = 0.5)"
   ]
  },
  {
   "cell_type": "code",
   "execution_count": 7,
   "id": "98bf1d87-d32a-428d-ac6c-a6f5753bcb78",
   "metadata": {},
   "outputs": [
    {
     "data": {
      "text/plain": [
       "{'name': 'ddm_mic2',\n",
       " 'params': ['vh', 'vl1', 'vl2', 'a', 'zh', 'zl1', 'zl2', 'd', 't'],\n",
       " 'param_bounds': [[-2.5, -2.5, -2.5, 0.3, 0.2, 0.2, 0.2, 0.0, 0.0],\n",
       "  [2.5, 2.5, 2.5, 2.0, 0.8, 0.8, 0.8, 1.0, 2.0]],\n",
       " 'boundary': <function ssms.basic_simulators.boundary_functions.constant(t=0)>,\n",
       " 'n_params': 9,\n",
       " 'default_params': [0.0, 0.0, 0.0, 1.0, 0.5, 0.5, 0.5, 0.5, 0.5],\n",
       " 'hddm_include': ['vh', 'vl1', 'vl2', 'a', 'zh', 'zl1', 'zl2', 'd', 't'],\n",
       " 'nchoices': 4}"
      ]
     },
     "execution_count": 7,
     "metadata": {},
     "output_type": "execute_result"
    }
   ],
   "source": [
    "ssms.config.model_config['ddm_mic2']"
   ]
  },
  {
   "cell_type": "code",
   "execution_count": 24,
   "id": "1929c722-fd04-4903-8492-bfe096854375",
   "metadata": {},
   "outputs": [
    {
     "data": {
      "text/plain": [
       "(array([1.540e+02, 1.608e+03, 2.245e+03, 1.798e+03, 1.257e+03, 7.410e+02,\n",
       "        5.050e+02, 3.220e+02, 1.950e+02, 1.140e+02, 7.600e+01, 3.800e+01,\n",
       "        2.100e+01, 1.100e+01, 1.100e+01, 6.000e+00, 1.000e+00, 2.000e+00,\n",
       "        1.000e+00, 0.000e+00]),\n",
       " array([ 0. ,  0.5,  1. ,  1.5,  2. ,  2.5,  3. ,  3.5,  4. ,  4.5,  5. ,\n",
       "         5.5,  6. ,  6.5,  7. ,  7.5,  8. ,  8.5,  9. ,  9.5, 10. ],\n",
       "       dtype=float32),\n",
       " <BarContainer object of 20 artists>)"
      ]
     },
     "execution_count": 24,
     "metadata": {},
     "output_type": "execute_result"
    },
    {
     "data": {
      "image/png": "[encoded data removed]",
      "text/plain": [
       "<Figure size 432x288 with 1 Axes>"
      ]
     },
     "metadata": {
      "needs_background": "light"
     },
     "output_type": "display_data"
    }
   ],
   "source": []
  },
  {
   "cell_type": "code",
   "execution_count": 7,
   "id": "91bdb139-6e70-413e-8dfd-728c0dd22be9",
   "metadata": {},
   "outputs": [
    {
     "data": {
      "text/plain": [
       "{'name': 'ddm',\n",
       " 'params': ['v', 'a', 'z', 't'],\n",
       " 'param_bounds': [[-3.0, 0.3, 0.1, 0.0], [3.0, 2.5, 0.9, 2.0]],\n",
       " 'boundary': <function ssms.basic_simulators.boundary_functions.constant(t=0)>,\n",
       " 'n_params': 4,\n",
       " 'default_params': [0.0, 1.0, 0.5, 0.001],\n",
       " 'hddm_include': ['z'],\n",
       " 'nchoices': 2}"
      ]
     },
     "execution_count": 7,
     "metadata": {},
     "output_type": "execute_result"
    }
   ],
   "source": [
    "ssms.config.model_config['ddm']"
   ]
  },
  {
   "cell_type": "code",
   "execution_count": 39,
   "id": "8fd7df3a-1a01-40b8-b57a-4a02edba977c",
   "metadata": {},
   "outputs": [],
   "source": [
    "import os\n",
    "\n",
    "files_ = os.listdir('/users/afengler/batch_job_out/')\n",
    "files_imp = ['/users/afengler/batch_job_out/' + file_ for file_ in files_ if '1972244' in file_]"
   ]
  },
  {
   "cell_type": "code",
   "execution_count": 59,
   "id": "93e3e386-25a9-441d-a41d-522cfe99891d",
   "metadata": {},
   "outputs": [],
   "source": [
    "str_list = []\n",
    "for file_ in files_imp:\n",
    "    f = open(file_, 'r')\n",
    "    x = f.read()\n",
    "    f.close()\n",
    "    str_list.append(x.split('\\n')[-3])\n",
    "    \n"
   ]
  },
  {
   "cell_type": "code",
   "execution_count": 61,
   "id": "3b97c013-e74f-405e-985e-8160b2187f9c",
   "metadata": {},
   "outputs": [
    {
     "ename": "ModuleNotFoundError",
     "evalue": "No module named 'iteration_utilities'",
     "output_type": "error",
     "traceback": [
      "\u001b[0;31m---------------------------------------------------------------------------\u001b[0m",
      "\u001b[0;31mModuleNotFoundError\u001b[0m                       Traceback (most recent call last)",
      "\u001b[0;32m<ipython-input-61-b56d5aac6f50>\u001b[0m in \u001b[0;36m<module>\u001b[0;34m\u001b[0m\n\u001b[0;32m----> 1\u001b[0;31m \u001b[0;32mfrom\u001b[0m \u001b[0miteration_utilities\u001b[0m \u001b[0;32mimport\u001b[0m \u001b[0mduplicdates\u001b[0m\u001b[0;34m\u001b[0m\u001b[0;34m\u001b[0m\u001b[0m\n\u001b[0m\u001b[1;32m      2\u001b[0m \u001b[0mstr_list\u001b[0m\u001b[0;34m\u001b[0m\u001b[0;34m\u001b[0m\u001b[0m\n",
      "\u001b[0;31mModuleNotFoundError\u001b[0m: No module named 'iteration_utilities'"
     ]
    }
   ],
   "source": [
    "from iteration_utilities import duplicdates\n",
    "str_list"
   ]
  },
  {
   "cell_type": "code",
   "execution_count": 50,
   "id": "4e32fec8-ea60-4e36-a179-4c6e59397232",
   "metadata": {},
   "outputs": [],
   "source": [
    "x = x.split('\\n')"
   ]
  },
  {
   "cell_type": "code",
   "execution_count": 63,
   "id": "6c009119-0c3b-4fcb-b6ce-1a356857fcd7",
   "metadata": {},
   "outputs": [
    {
     "name": "stdout",
     "output_type": "stream",
     "text": [
      "[]\n"
     ]
    }
   ],
   "source": [
    "import collections\n",
    "print([item for item, count in collections.Counter(str_list).items() if count > 1])"
   ]
  },
  {
   "cell_type": "code",
   "execution_count": 56,
   "id": "36e46f43-aad5-4bee-8a5c-fdc3e285dc67",
   "metadata": {},
   "outputs": [
    {
     "data": {
      "text/plain": [
       "<_io.TextIOWrapper name='/users/afengler/batch_job_out/data_generator_1972244_257.out' mode='r' encoding='UTF-8'>"
      ]
     },
     "execution_count": 56,
     "metadata": {},
     "output_type": "execute_result"
    }
   ],
   "source": [
    "f"
   ]
  },
  {
   "cell_type": "code",
   "execution_count": 3,
   "id": "2eeea058-700a-40bc-98ea-c73b53362303",
   "metadata": {},
   "outputs": [],
   "source": [
    "#collections.Counter(str_list)"
   ]
  },
  {
   "cell_type": "code",
   "execution_count": 4,
   "id": "451f2861-be66-445c-befc-8702d7423db8",
   "metadata": {},
   "outputs": [],
   "source": [
    "#str_list"
   ]
  },
  {
   "cell_type": "code",
   "execution_count": 75,
   "id": "9af25244-0c36-4b9c-9bfb-68cf2feead74",
   "metadata": {},
   "outputs": [],
   "source": [
    "files_ = os.listdir('/users/afengler/data/proj_lan_pipeline/LAN_scripts/data/lan_mlp/training_data_0_nbins_0_n_200000')\n",
    "files_imp = ['/users/afengler/data/proj_lan_pipeline/LAN_scripts/data/lan_mlp/training_data_0_nbins_0_n_200000/' + file_ for file_ in files_ if 'lca_no_bias' in file_]"
   ]
  },
  {
   "cell_type": "code",
   "execution_count": 72,
   "id": "dd79e281-5acf-4c8a-b895-607964ffd698",
   "metadata": {},
   "outputs": [
    {
     "data": {
      "text/plain": [
       "515"
      ]
     },
     "execution_count": 72,
     "metadata": {},
     "output_type": "execute_result"
    }
   ],
   "source": [
    "len(files_imp)"
   ]
  },
  {
   "cell_type": "code",
   "execution_count": 76,
   "id": "0346be75-397a-4c83-9a31-3ebc9415168f",
   "metadata": {},
   "outputs": [],
   "source": [
    "import pickle\n",
    "myf = pickle.load(open(files_imp[0], 'rb'))"
   ]
  },
  {
   "cell_type": "code",
   "execution_count": 83,
   "id": "4beac729-34f1-4232-84e7-240172acb978",
   "metadata": {},
   "outputs": [
    {
     "data": {
      "text/plain": [
       "495683"
      ]
     },
     "execution_count": 83,
     "metadata": {},
     "output_type": "execute_result"
    }
   ],
   "source": [
    "(myf['data'][:, -1] == 0).sum()"
   ]
  },
  {
   "cell_type": "code",
   "execution_count": 86,
   "id": "8621cea6-86ca-4e8e-89e3-dc3356cc1d4a",
   "metadata": {},
   "outputs": [
    {
     "data": {
      "text/plain": [
       "496438"
      ]
     },
     "execution_count": 86,
     "metadata": {},
     "output_type": "execute_result"
    }
   ],
   "source": [
    "(myf['data'][:, -1] == 3).sum()"
   ]
  },
  {
   "cell_type": "code",
   "execution_count": 37,
   "id": "5dad0f08-a415-4f89-8a7a-7459cf1e0301",
   "metadata": {},
   "outputs": [],
   "source": [
    "# condition 211\n",
    "model = 'ddm_par2'\n",
    "theta = [1.4, -2.0, 0.75, 1.3, 0.5, 0.5, 0.5, 0.2]\n",
    "n_samples = 10000\n",
    "\n",
    "out = ssms.basic_simulators.simulator(theta = theta,\n",
    "                                model = model,\n",
    "                                n_samples = n_samples)"
   ]
  },
  {
   "cell_type": "code",
   "execution_count": 38,
   "id": "cd0185f1-9c8e-4f8f-93af-1c110aed1fb7",
   "metadata": {},
   "outputs": [
    {
     "data": {
      "image/png": "[encoded data removed]",
      "text/plain": [
       "<Figure size 720x720 with 1 Axes>"
      ]
     },
     "metadata": {
      "needs_background": "light"
     },
     "output_type": "display_data"
    }
   ],
   "source": [
    "#fig = plt.figure(figsize=(10, 10))\n",
    "plt.figure(figsize=(10, 10))\n",
    "color = ['blue', 'red', 'black', 'green']\n",
    "for j in range(4):\n",
    "    #plt.subplot(4,4,i*2,xlim=(0,10),ylim=(0,0.8))\n",
    "    plt.hist(out['rts'][out['choices'] == j],\n",
    "            density=False,\n",
    "            histtype = 'step',\n",
    "            color = color[j],\n",
    "            range=(0,10),\n",
    "            bins=20,\n",
    "            weights=np.ones(out['rts'][out['choices'] == j].shape[0])/ (n_samples * 0.5))\n",
    "    #plt.title('par2 {}'.format(cond_keys[i-1]))\n",
    "#for i in range(1,9):\n"
   ]
  },
  {
   "cell_type": "code",
   "execution_count": 41,
   "id": "7071f2eb-94e6-43e2-8ec7-0bc859574878",
   "metadata": {},
   "outputs": [],
   "source": [
    "# condition 212\n",
    "model = 'ddm_par2'\n",
    "theta = [1.55, -2.0, 1.5, 1.3, 0.5, 0.5, 0.5, 0.2]\n",
    "n_samples = 10000\n",
    "\n",
    "out = ssms.basic_simulators.simulator(theta = theta,\n",
    "                                model = model,\n",
    "                                n_samples = n_samples)"
   ]
  },
  {
   "cell_type": "code",
   "execution_count": 42,
   "id": "1e30c782-04a8-4a66-9090-5a836deb5920",
   "metadata": {},
   "outputs": [
    {
     "data": {
      "image/png": "[encoded data removed]",
      "text/plain": [
       "<Figure size 720x720 with 1 Axes>"
      ]
     },
     "metadata": {
      "needs_background": "light"
     },
     "output_type": "display_data"
    }
   ],
   "source": [
    "#import matplotlib.pyplot as plt\n",
    "plt.figure(figsize=(10, 10))\n",
    "color = ['blue', 'red', 'black', 'green']\n",
    "for j in range(4):\n",
    "    #plt.subplot(4,4,i*2,xlim=(0,10),ylim=(0,0.8))\n",
    "    plt.hist(out['rts'][out['choices'] == j],\n",
    "            density=False,\n",
    "            histtype = 'step',\n",
    "            color = color[j],\n",
    "            range=(0,10),\n",
    "            bins=20,\n",
    "            weights=np.ones(out['rts'][out['choices'] == j].shape[0])/ (n_samples * 0.5))\n",
    "    #plt.title('par2 {}'.format(cond_keys[i-1]))\n",
    "#for i in range(1,9):\n"
   ]
  },
  {
   "cell_type": "code",
   "execution_count": 43,
   "id": "a7435fdf-47eb-4a06-a010-cd53bd315dcb",
   "metadata": {},
   "outputs": [],
   "source": [
    "# condition 111\n",
    "model = 'ddm_par2'\n",
    "theta = [0.6, 1.15, 0.67, 1.3, 0.5, 0.5, 0.5, 0.21]\n",
    "n_samples = 10000\n",
    "\n",
    "out = ssms.basic_simulators.simulator(theta = theta,\n",
    "                                model = model,\n",
    "                                n_samples = n_samples)"
   ]
  },
  {
   "cell_type": "code",
   "execution_count": 44,
   "id": "97591731-80cb-4f64-8ae0-0f6a588c884a",
   "metadata": {},
   "outputs": [
    {
     "data": {
      "image/png": "[encoded data removed]",
      "text/plain": [
       "<Figure size 720x720 with 1 Axes>"
      ]
     },
     "metadata": {
      "needs_background": "light"
     },
     "output_type": "display_data"
    }
   ],
   "source": [
    "#import matplotlib.pyplot as plt\n",
    "plt.figure(figsize=(10, 10))\n",
    "color = ['blue', 'red', 'black', 'green']\n",
    "for j in range(4):\n",
    "    #plt.subplot(4,4,i*2,xlim=(0,10),ylim=(0,0.8))\n",
    "    plt.hist(out['rts'][out['choices'] == j],\n",
    "            density=False,\n",
    "            histtype = 'step',\n",
    "            color = color[j],\n",
    "            range=(0,10),\n",
    "            bins=20,\n",
    "            weights=np.ones(out['rts'][out['choices'] == j].shape[0])/ (n_samples * 0.5))\n",
    "    #plt.title('par2 {}'.format(cond_keys[i-1]))\n",
    "#for i in range(1,9):\n"
   ]
  },
  {
   "cell_type": "code",
   "execution_count": 45,
   "id": "bbc206e9-f3bb-4fb3-b357-b21cee7a47de",
   "metadata": {},
   "outputs": [],
   "source": [
    "# condition 222\n",
    "model = 'ddm_par2'\n",
    "theta = [1.5, -2., 1.5, 1.3, 0.5, 0.5, 0.5, 0.21]\n",
    "n_samples = 10000\n",
    "\n",
    "out = ssms.basic_simulators.simulator(theta = theta,\n",
    "                                model = model,\n",
    "                                n_samples = n_samples)"
   ]
  },
  {
   "cell_type": "code",
   "execution_count": 46,
   "id": "b94d2a50-2ce4-4d81-985d-8d22143f03c3",
   "metadata": {},
   "outputs": [
    {
     "data": {
      "image/png": "[encoded data removed]",
      "text/plain": [
       "<Figure size 720x720 with 1 Axes>"
      ]
     },
     "metadata": {
      "needs_background": "light"
     },
     "output_type": "display_data"
    }
   ],
   "source": [
    "import matplotlib.pyplot as plt\n",
    "plt.figure(figsize=(10, 10))\n",
    "color = ['blue', 'red', 'black', 'green']\n",
    "for j in range(4):\n",
    "    #plt.subplot(4,4,i*2,xlim=(0,10),ylim=(0,0.8))\n",
    "    plt.hist(out['rts'][out['choices'] == j],\n",
    "            density=False,\n",
    "            histtype = 'step',\n",
    "            color = color[j],\n",
    "            range=(0,10),\n",
    "            bins=20,\n",
    "            weights=np.ones(out['rts'][out['choices'] == j].shape[0])/ (n_samples * 0.5))\n",
    "    #plt.title('par2 {}'.format(cond_keys[i-1]))\n",
    "#for i in range(1,9):\n"
   ]
  },
  {
   "cell_type": "code",
   "execution_count": null,
   "id": "b39322e9-c678-41a0-ae72-7a356e7d9eb2",
   "metadata": {},
   "outputs": [],
   "source": []
  }
 ],
 "metadata": {
  "kernelspec": {
   "display_name": "lanfactory",
   "language": "python",
   "name": "lanfactory"
  },
  "language_info": {
   "codemirror_mode": {
    "name": "ipython",
    "version": 3
   },
   "file_extension": ".py",
   "mimetype": "text/x-python",
   "name": "python",
   "nbconvert_exporter": "python",
   "pygments_lexer": "ipython3",
   "version": "3.7.10"
  }
 },
 "nbformat": 4,
 "nbformat_minor": 5
}
