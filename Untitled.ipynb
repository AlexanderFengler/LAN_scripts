{
 "cells": [
  {
   "cell_type": "code",
   "execution_count": 1,
   "id": "e550ca3c-18ce-415d-ab6b-6dc578ff629f",
   "metadata": {},
   "outputs": [],
   "source": [
    "import torch\n",
    "from sbi.inference import SNPE, prepare_for_sbi\n",
    "import sbi.utils as utils"
   ]
  },
  {
   "cell_type": "code",
   "execution_count": 2,
   "id": "67bb6902-0014-4dd3-a71e-3f1dbccacd8a",
   "metadata": {},
   "outputs": [],
   "source": [
    "num_dim = 3\n",
    "prior = utils.BoxUniform(low=-2*torch.ones(num_dim),\n",
    "                         high = 2*torch.ones(num_dim))"
   ]
  },
  {
   "cell_type": "code",
   "execution_count": 3,
   "id": "d5a432c8-4b7d-468e-bc0c-49f45bd698cc",
   "metadata": {},
   "outputs": [
    {
     "data": {
      "text/plain": [
       "BoxUniform(Uniform(low: torch.Size([3]), high: torch.Size([3])), 1)"
      ]
     },
     "execution_count": 3,
     "metadata": {},
     "output_type": "execute_result"
    }
   ],
   "source": [
    "prior"
   ]
  },
  {
   "cell_type": "code",
   "execution_count": 4,
   "id": "4b2db850-c8ab-4e09-98e2-efe7ebb0a192",
   "metadata": {},
   "outputs": [],
   "source": [
    "def linear_gaussian(theta):\n",
    "    return theta + 1.0 + torch.randn_like(theta) * 0.1"
   ]
  },
  {
   "cell_type": "code",
   "execution_count": 5,
   "id": "a5988231-57ea-4191-a392-4cc6dae3a382",
   "metadata": {},
   "outputs": [],
   "source": [
    "simulator, prior = prepare_for_sbi(linear_gaussian, prior)"
   ]
  },
  {
   "cell_type": "code",
   "execution_count": 6,
   "id": "7fcd7d05-c278-4cf6-87bd-113823009f21",
   "metadata": {},
   "outputs": [
    {
     "data": {
      "text/plain": [
       "BoxUniform(Uniform(low: torch.Size([3]), high: torch.Size([3])), 1)"
      ]
     },
     "execution_count": 6,
     "metadata": {},
     "output_type": "execute_result"
    }
   ],
   "source": [
    "prior"
   ]
  },
  {
   "cell_type": "code",
   "execution_count": 11,
   "id": "8828659c-4a64-45aa-a70c-65851d0cf1a1",
   "metadata": {},
   "outputs": [],
   "source": [
    "number_presimulated = 1000"
   ]
  },
  {
   "cell_type": "code",
   "execution_count": 12,
   "id": "78ac6938-f24d-476f-8ed6-559eb986a73a",
   "metadata": {},
   "outputs": [],
   "source": [
    "theta_presimulated = prior.sample((number_presimulated, ))"
   ]
  },
  {
   "cell_type": "code",
   "execution_count": 13,
   "id": "985512e7-6346-4745-ad34-c220ee1213b8",
   "metadata": {},
   "outputs": [],
   "source": [
    "x_presimulated = simulator(theta_presimulated)"
   ]
  },
  {
   "cell_type": "code",
   "execution_count": 25,
   "id": "a4cb2c3a-306c-48f5-88f9-481a1ae58cb0",
   "metadata": {},
   "outputs": [
    {
     "ename": "TypeError",
     "evalue": "__init__() got multiple values for argument 'prior'",
     "output_type": "error",
     "traceback": [
      "\u001b[0;31m---------------------------------------------------------------------------\u001b[0m",
      "\u001b[0;31mTypeError\u001b[0m                                 Traceback (most recent call last)",
      "\u001b[0;32m<ipython-input-25-60ffea1de37e>\u001b[0m in \u001b[0;36m<module>\u001b[0;34m\u001b[0m\n\u001b[0;32m----> 1\u001b[0;31m \u001b[0minference\u001b[0m \u001b[0;34m=\u001b[0m \u001b[0mSNPE\u001b[0m\u001b[0;34m(\u001b[0m\u001b[0msimulator\u001b[0m\u001b[0;34m,\u001b[0m \u001b[0mprior\u001b[0m \u001b[0;34m=\u001b[0m \u001b[0;32mNone\u001b[0m\u001b[0;34m)\u001b[0m\u001b[0;34m\u001b[0m\u001b[0;34m\u001b[0m\u001b[0m\n\u001b[0m",
      "\u001b[0;31mTypeError\u001b[0m: __init__() got multiple values for argument 'prior'"
     ]
    }
   ],
   "source": [
    "inference = SNPE(simulator, prior = None)"
   ]
  },
  {
   "cell_type": "code",
   "execution_count": 23,
   "id": "5d369f17-655e-4faf-95eb-825518dbb034",
   "metadata": {},
   "outputs": [],
   "source": [
    "prior = None"
   ]
  },
  {
   "cell_type": "code",
   "execution_count": 25,
   "id": "a64de63b-0f0e-45fb-91db-c7024e0a233e",
   "metadata": {},
   "outputs": [],
   "source": [
    "import glob\n",
    "import os"
   ]
  },
  {
   "cell_type": "code",
   "execution_count": 41,
   "id": "a2b2ab14-14fc-41fc-acce-c929f617303c",
   "metadata": {},
   "outputs": [],
   "source": [
    "files = glob.glob('/users/afengler/data/proj_lan_pipeline/LAN_scripts/data/torch_models/*')"
   ]
  },
  {
   "cell_type": "code",
   "execution_count": 42,
   "id": "871624c6-b3ac-4179-9c98-fb617064f087",
   "metadata": {},
   "outputs": [
    {
     "data": {
      "text/plain": [
       "1631315999.01376"
      ]
     },
     "execution_count": 42,
     "metadata": {},
     "output_type": "execute_result"
    }
   ],
   "source": [
    "os.stat(files[0]).st_mtime"
   ]
  },
  {
   "cell_type": "code",
   "execution_count": 43,
   "id": "e7f5d1d7-b98e-445c-a3cc-6b4cec7aa17d",
   "metadata": {},
   "outputs": [],
   "source": [
    "sorted_by_mt_time_ascending = sorted(files, key = lambda t: os.stat(t).st_mtime)"
   ]
  },
  {
   "cell_type": "code",
   "execution_count": 44,
   "id": "7086a43b-8012-4405-b53a-3a4eec2c3305",
   "metadata": {},
   "outputs": [
    {
     "data": {
      "text/plain": [
       "['/users/afengler/data/proj_lan_pipeline/LAN_scripts/data/torch_models/db415ca6008311ec8d90a0423f3e9b42_ddm_torch_state_dict.pt',\n",
       " '/users/afengler/data/proj_lan_pipeline/LAN_scripts/data/torch_models/f804260a126e11ecb52f3cecef056d26_angle_torch__network_config.pickle',\n",
       " '/users/afengler/data/proj_lan_pipeline/LAN_scripts/data/torch_models/f804260a126e11ecb52f3cecef056d26_angle_torch__train_config.pickle',\n",
       " '/users/afengler/data/proj_lan_pipeline/LAN_scripts/data/torch_models/1f496b50127211ecb6943cecef057438_ornstein_torch__network_config.pickle',\n",
       " '/users/afengler/data/proj_lan_pipeline/LAN_scripts/data/torch_models/1f496b50127211ecb6943cecef057438_ornstein_torch__train_config.pickle',\n",
       " '/users/afengler/data/proj_lan_pipeline/LAN_scripts/data/torch_models/44deb16a127f11eca325a0423f39b436_weibull_torch__network_config.pickle',\n",
       " '/users/afengler/data/proj_lan_pipeline/LAN_scripts/data/torch_models/44deb16a127f11eca325a0423f39b436_weibull_torch__train_config.pickle',\n",
       " '/users/afengler/data/proj_lan_pipeline/LAN_scripts/data/torch_models/f804260a126e11ecb52f3cecef056d26_angle_torch_training_history.csv',\n",
       " '/users/afengler/data/proj_lan_pipeline/LAN_scripts/data/torch_models/f804260a126e11ecb52f3cecef056d26_angle_torch_state_dict.pt',\n",
       " '/users/afengler/data/proj_lan_pipeline/LAN_scripts/data/torch_models/eba53550128911ec9fef3cecef056d26_angle_torch__network_config.pickle',\n",
       " '/users/afengler/data/proj_lan_pipeline/LAN_scripts/data/torch_models/eba53550128911ec9fef3cecef056d26_angle_torch__train_config.pickle',\n",
       " '/users/afengler/data/proj_lan_pipeline/LAN_scripts/data/torch_models/1f496b50127211ecb6943cecef057438_ornstein_torch_training_history.csv',\n",
       " '/users/afengler/data/proj_lan_pipeline/LAN_scripts/data/torch_models/1f496b50127211ecb6943cecef057438_ornstein_torch_state_dict.pt',\n",
       " '/users/afengler/data/proj_lan_pipeline/LAN_scripts/data/torch_models/a198583a128d11ecbd6c3cecef057438_ornstein_torch__network_config.pickle',\n",
       " '/users/afengler/data/proj_lan_pipeline/LAN_scripts/data/torch_models/a198583a128d11ecbd6c3cecef057438_ornstein_torch__train_config.pickle',\n",
       " '/users/afengler/data/proj_lan_pipeline/LAN_scripts/data/torch_models/44deb16a127f11eca325a0423f39b436_weibull_torch_training_history.csv',\n",
       " '/users/afengler/data/proj_lan_pipeline/LAN_scripts/data/torch_models/44deb16a127f11eca325a0423f39b436_weibull_torch_state_dict.pt',\n",
       " '/users/afengler/data/proj_lan_pipeline/LAN_scripts/data/torch_models/349ce9fa129f11ec93cfa0423f39b436_weibull_torch__network_config.pickle',\n",
       " '/users/afengler/data/proj_lan_pipeline/LAN_scripts/data/torch_models/349ce9fa129f11ec93cfa0423f39b436_weibull_torch__train_config.pickle',\n",
       " '/users/afengler/data/proj_lan_pipeline/LAN_scripts/data/torch_models/eba53550128911ec9fef3cecef056d26_angle_torch_training_history.csv',\n",
       " '/users/afengler/data/proj_lan_pipeline/LAN_scripts/data/torch_models/eba53550128911ec9fef3cecef056d26_angle_torch_state_dict.pt',\n",
       " '/users/afengler/data/proj_lan_pipeline/LAN_scripts/data/torch_models/a198583a128d11ecbd6c3cecef057438_ornstein_torch_training_history.csv',\n",
       " '/users/afengler/data/proj_lan_pipeline/LAN_scripts/data/torch_models/a198583a128d11ecbd6c3cecef057438_ornstein_torch_state_dict.pt',\n",
       " '/users/afengler/data/proj_lan_pipeline/LAN_scripts/data/torch_models/349ce9fa129f11ec93cfa0423f39b436_weibull_torch_training_history.csv',\n",
       " '/users/afengler/data/proj_lan_pipeline/LAN_scripts/data/torch_models/349ce9fa129f11ec93cfa0423f39b436_weibull_torch_state_dict.pt',\n",
       " '/users/afengler/data/proj_lan_pipeline/LAN_scripts/data/torch_models/b97cd17c150f11ecb6cfa0423f39a3e6_ddm_torch__network_config.pickle',\n",
       " '/users/afengler/data/proj_lan_pipeline/LAN_scripts/data/torch_models/b97cd17c150f11ecb6cfa0423f39a3e6_ddm_torch__train_config.pickle',\n",
       " '/users/afengler/data/proj_lan_pipeline/LAN_scripts/data/torch_models/bbfea8da150f11eca290ac1f6bfea5a4_levy_torch__network_config.pickle',\n",
       " '/users/afengler/data/proj_lan_pipeline/LAN_scripts/data/torch_models/bbfea8da150f11eca290ac1f6bfea5a4_levy_torch__train_config.pickle',\n",
       " '/users/afengler/data/proj_lan_pipeline/LAN_scripts/data/torch_models/bfd9d128150f11ecb535a0423f39a3e6_ddm_torch__network_config.pickle',\n",
       " '/users/afengler/data/proj_lan_pipeline/LAN_scripts/data/torch_models/bfd9d128150f11ecb535a0423f39a3e6_ddm_torch__train_config.pickle',\n",
       " '/users/afengler/data/proj_lan_pipeline/LAN_scripts/data/torch_models/4784d886151311ec8fd8a0423f39a3e6_ddm_torch__network_config.pickle',\n",
       " '/users/afengler/data/proj_lan_pipeline/LAN_scripts/data/torch_models/4784d886151311ec8fd8a0423f39a3e6_ddm_torch__train_config.pickle',\n",
       " '/users/afengler/data/proj_lan_pipeline/LAN_scripts/data/torch_models/bbfea8da150f11eca290ac1f6bfea5a4_levy_torch_training_history.csv',\n",
       " '/users/afengler/data/proj_lan_pipeline/LAN_scripts/data/torch_models/bbfea8da150f11eca290ac1f6bfea5a4_levy_torch_state_dict.pt',\n",
       " '/users/afengler/data/proj_lan_pipeline/LAN_scripts/data/torch_models/80dec298152e11ec88b8ac1f6bfea5a4_levy_torch__network_config.pickle',\n",
       " '/users/afengler/data/proj_lan_pipeline/LAN_scripts/data/torch_models/80dec298152e11ec88b8ac1f6bfea5a4_levy_torch__train_config.pickle',\n",
       " '/users/afengler/data/proj_lan_pipeline/LAN_scripts/data/torch_models/4784d886151311ec8fd8a0423f39a3e6_ddm_torch_training_history.csv',\n",
       " '/users/afengler/data/proj_lan_pipeline/LAN_scripts/data/torch_models/4784d886151311ec8fd8a0423f39a3e6_ddm_torch_state_dict.pt',\n",
       " '/users/afengler/data/proj_lan_pipeline/LAN_scripts/data/torch_models/d27193a4153011ecb76ca0423f39a3e6_ddm_torch__network_config.pickle',\n",
       " '/users/afengler/data/proj_lan_pipeline/LAN_scripts/data/torch_models/d27193a4153011ecb76ca0423f39a3e6_ddm_torch__train_config.pickle',\n",
       " '/users/afengler/data/proj_lan_pipeline/LAN_scripts/data/torch_models/80dec298152e11ec88b8ac1f6bfea5a4_levy_torch_training_history.csv',\n",
       " '/users/afengler/data/proj_lan_pipeline/LAN_scripts/data/torch_models/80dec298152e11ec88b8ac1f6bfea5a4_levy_torch_state_dict.pt',\n",
       " '/users/afengler/data/proj_lan_pipeline/LAN_scripts/data/torch_models/d27193a4153011ecb76ca0423f39a3e6_ddm_torch_training_history.csv',\n",
       " '/users/afengler/data/proj_lan_pipeline/LAN_scripts/data/torch_models/d27193a4153011ecb76ca0423f39a3e6_ddm_torch_state_dict.pt',\n",
       " '/users/afengler/data/proj_lan_pipeline/LAN_scripts/data/torch_models/torch_models']"
      ]
     },
     "execution_count": 44,
     "metadata": {},
     "output_type": "execute_result"
    }
   ],
   "source": [
    "sorted_by_mt_time_ascending"
   ]
  },
  {
   "cell_type": "code",
   "execution_count": 45,
   "id": "d0cca1d8-820d-4d79-85c3-fcad57026877",
   "metadata": {},
   "outputs": [],
   "source": [
    "for file_ in sorted_by_mt_time_ascending[:1]:\n",
    "    os.remove(file_)"
   ]
  },
  {
   "cell_type": "code",
   "execution_count": 1,
   "id": "1d87656c-f4eb-42ea-8045-30a20cb64f80",
   "metadata": {},
   "outputs": [],
   "source": [
    "import ssms\n"
   ]
  },
  {
   "cell_type": "code",
   "execution_count": null,
   "id": "8282f67c-6440-4bb8-be3a-395c9dc1790d",
   "metadata": {},
   "outputs": [],
   "source": []
  }
 ],
 "metadata": {
  "kernelspec": {
   "display_name": "numba_sim",
   "language": "python",
   "name": "numba_sim"
  },
  "language_info": {
   "codemirror_mode": {
    "name": "ipython",
    "version": 3
   },
   "file_extension": ".py",
   "mimetype": "text/x-python",
   "name": "python",
   "nbconvert_exporter": "python",
   "pygments_lexer": "ipython3",
   "version": "3.7.11"
  }
 },
 "nbformat": 4,
 "nbformat_minor": 5
}
